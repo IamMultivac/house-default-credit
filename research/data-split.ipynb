{
 "cells": [
  {
   "cell_type": "markdown",
   "id": "753217d1-974d-4ba6-929f-fc5f6cfe0f2a",
   "metadata": {},
   "source": [
    "# Data Split\n",
    "\n",
    "## Motivation\n",
    "\n",
    "We are to create the corresponding datasets for training and evaluation\n",
    "\n",
    "## Methodology:\n",
    "\n",
    "We are to use random split to generate three datasets, one for training and 2 for model evaluation.\n",
    "\n",
    "## Conclusions\n",
    "\n",
    "We have \n",
    "* Training size: ```246,000``` \n",
    "* Validation size: ```30,751```\n",
    "* Test size: ``30,752``\n",
    "\n"
   ]
  },
  {
   "cell_type": "code",
   "execution_count": 3,
   "id": "46a90e36-da09-4aa9-b9ff-628796efdbc9",
   "metadata": {},
   "outputs": [],
   "source": [
    "%load_ext autoreload\n",
    "%autoreload 2\n",
    "\n",
    "import numpy as np\n",
    "import pandas as pd\n",
    "\n",
    "from sklearn.model_selection import train_test_split\n",
    "\n",
    "\n",
    "import sys\n",
    "sys.path.append(\"../\")\n",
    "\n",
    "# local imports\n",
    "from src.learner_params import target_column, space_column\n"
   ]
  },
  {
   "cell_type": "code",
   "execution_count": 4,
   "id": "2a910dc4-c76f-44cd-aa01-fadd4d1e1fe4",
   "metadata": {},
   "outputs": [],
   "source": [
    "path = \"../data/full_dataset_2023-09-19.pkl\"\n",
    "df = pd.read_pickle(path).rename(columns = {\"main_application__target\":\"target\"})"
   ]
  },
  {
   "cell_type": "code",
   "execution_count": 5,
   "id": "79933790-14ac-4f11-a842-038bf226bac8",
   "metadata": {},
   "outputs": [],
   "source": [
    "tmp = df[df[target_column].notnull()]\n",
    "\n",
    "train_df, test_df = train_test_split(tmp, test_size=.20, random_state=42)\n",
    "test_df, validation_df = train_test_split(test_df, test_size=.5, random_state=42)"
   ]
  },
  {
   "cell_type": "code",
   "execution_count": 6,
   "id": "9b10198f-7580-4d3c-961f-533b13c6fe6a",
   "metadata": {},
   "outputs": [],
   "source": [
    "assert len(tmp) == len(train_df) +len(test_df) +len(validation_df)"
   ]
  },
  {
   "cell_type": "code",
   "execution_count": 7,
   "id": "2f74d6a6-60b4-496d-963c-0b3fcf74745c",
   "metadata": {},
   "outputs": [],
   "source": [
    "data = pd.DataFrame({\"sizes\":[len(train_df),len(test_df),len(validation_df)],\n",
    "                      \"target_distribution\":[np.mean(train_df[target_column]),\n",
    "                                             np.mean(test_df[target_column]),\n",
    "                                             np.mean(validation_df[target_column])]\n",
    "                     }, index = [\"train\",\"test\",\"validation\"])"
   ]
  },
  {
   "cell_type": "code",
   "execution_count": 8,
   "id": "386b2607-d892-44d3-ba92-da46bbd941eb",
   "metadata": {},
   "outputs": [
    {
     "data": {
      "text/html": [
       "<div>\n",
       "<style scoped>\n",
       "    .dataframe tbody tr th:only-of-type {\n",
       "        vertical-align: middle;\n",
       "    }\n",
       "\n",
       "    .dataframe tbody tr th {\n",
       "        vertical-align: top;\n",
       "    }\n",
       "\n",
       "    .dataframe thead th {\n",
       "        text-align: right;\n",
       "    }\n",
       "</style>\n",
       "<table border=\"1\" class=\"dataframe\">\n",
       "  <thead>\n",
       "    <tr style=\"text-align: right;\">\n",
       "      <th></th>\n",
       "      <th>sizes</th>\n",
       "      <th>target_distribution</th>\n",
       "    </tr>\n",
       "  </thead>\n",
       "  <tbody>\n",
       "    <tr>\n",
       "      <th>train</th>\n",
       "      <td>246008</td>\n",
       "      <td>0.080794</td>\n",
       "    </tr>\n",
       "    <tr>\n",
       "      <th>test</th>\n",
       "      <td>30751</td>\n",
       "      <td>0.081038</td>\n",
       "    </tr>\n",
       "    <tr>\n",
       "      <th>validation</th>\n",
       "      <td>30752</td>\n",
       "      <td>0.079897</td>\n",
       "    </tr>\n",
       "  </tbody>\n",
       "</table>\n",
       "</div>"
      ],
      "text/plain": [
       "             sizes  target_distribution\n",
       "train       246008             0.080794\n",
       "test         30751             0.081038\n",
       "validation   30752             0.079897"
      ]
     },
     "execution_count": 8,
     "metadata": {},
     "output_type": "execute_result"
    }
   ],
   "source": [
    "data"
   ]
  },
  {
   "cell_type": "code",
   "execution_count": 6,
   "id": "51d10b40-5960-446f-b837-54399889493f",
   "metadata": {},
   "outputs": [],
   "source": [
    "train_df.to_pickle(\"../data/train_df.pkl\")\n",
    "test_df.to_pickle(\"../data/test_df.pkl\")\n",
    "validation_df.to_pickle(\"../data/validation_df.pkl\")\n",
    "df[df[target_column].isnull()].to_pickle(\"../data/private_df.pkl\")"
   ]
  },
  {
   "cell_type": "code",
   "execution_count": null,
   "id": "827149a1-8bbe-4a16-a2e0-3d03632deb65",
   "metadata": {},
   "outputs": [],
   "source": []
  }
 ],
 "metadata": {
  "kernelspec": {
   "display_name": "Python 3 (ipykernel)",
   "language": "python",
   "name": "python3"
  },
  "language_info": {
   "codemirror_mode": {
    "name": "ipython",
    "version": 3
   },
   "file_extension": ".py",
   "mimetype": "text/x-python",
   "name": "python",
   "nbconvert_exporter": "python",
   "pygments_lexer": "ipython3",
   "version": "3.9.16"
  }
 },
 "nbformat": 4,
 "nbformat_minor": 5
}
