{
 "cells": [
  {
   "cell_type": "markdown",
   "id": "e6b2ced2-45c9-4bd2-8b76-ee63a050ee4e",
   "metadata": {},
   "source": [
    "# Monotone constraints\n",
    "\n",
    "## Rationale:\n",
    "\n",
    "The first tools used to make decision about credit scoring were based on expert rules, those rules were basically knowledge of professionals with wide experience in business. In order to use this prior knowledge we can adjust the model's learning process to take into account the relationships between features and taget. This is an special characteristic of boosting models that we are to test to see if we can improve model performance.\n",
    "\n",
    "## Methodology:\n",
    "We are to define the monotone constraints for each feature i.e the direction of the relationship between feature and target in the following way:\n",
    "\n",
    "1. We are to train a linear regression model to explain target average (average risk) for every model decile.\n",
    "2. We are then to keep the trend coeficient of the model to define the constraint.\n",
    "3. The constrains may be the sign of the coreficient: ```(+ , -, 0)```\n",
    "4. Finally, we are to test the model performance of both models, the one with and without constraints.\n",
    "\n",
    "## Conclusions:\n",
    "\n",
    "**Conclusions from Model Performance Table:**\n",
    "\n",
    "1. **Boruta Variants**: The table presents the performance of two variants of the Boruta model: 'boruta vanilla' and 'boruta monotone.'\n",
    "\n",
    "2. **ROC AUC Scores**: Both variants show competitive ROC AUC scores, with 'boruta vanilla' having a slightly higher out-of-fold score (0.792510) compared to 'boruta monotone' (0.791011).\n",
    "\n",
    "3. **Validation Dataset**: The models' performance on the validation dataset ('roc_auc_val') is consistent with the out-of-fold performance, indicating that the models generalize well.\n",
    "\n",
    "4. **Model Selection**: Choosing between these two Boruta variants may depend on other factors such as model complexity, interpretability, or specific task requirements.\n",
    "\n",
    "5. **Further Exploration**: To make a more informed decision, it might be valuable to explore other evaluation metrics, conduct feature importance analysis, and consider the context of the problem.\n",
    "\n",
    "In summary we were not able to improve the model performance using the monotone constrains, this may be to the relationship is beyong linear.\n",
    "\n",
    "\n",
    "| Model             | out_of_fold | roc_auc_val |\n",
    "|-------------------|-------------|-------------|\n",
    "| boruta vanilla    | 0.792510    | 0.799865    |\n",
    "| boruta monotone   | 0.791011    | 0.799071    |\n",
    "\n"
   ]
  },
  {
   "cell_type": "code",
   "execution_count": 1,
   "id": "bc520cbf-149b-4df6-a3f7-fb647718f3a8",
   "metadata": {},
   "outputs": [],
   "source": [
    "%load_ext autoreload\n",
    "%autoreload 2\n",
    "\n",
    "import numpy as np\n",
    "import pandas as pd\n",
    "\n",
    "from lightgbm import LGBMClassifier as lgbm\n",
    "from sklearn.inspection import permutation_importance\n",
    "from sklearn.model_selection import train_test_split\n",
    "from copy import deepcopy\n",
    "\n",
    "import warnings;warnings.filterwarnings(\"ignore\")\n",
    "\n",
    "import sys\n",
    "sys.path.append(\"../\")\n",
    "\n",
    "# local imports\n",
    "from src.learner_params import target_column, space_column, boruta_learner_params, test_params\n",
    "from utils.functions__utils import find_constraint\n",
    "\n",
    "from utils.feature_selection_lists import fw_features, boruta_features, optuna_features, ensemble_features\n",
    "\n",
    "from utils.functions__training import model_pipeline"
   ]
  },
  {
   "cell_type": "code",
   "execution_count": 8,
   "id": "9e4dae8f-43ba-4d6c-82c3-6f66961c81c6",
   "metadata": {},
   "outputs": [],
   "source": [
    "train_df = pd.read_pickle(\"../data/train_df.pkl\")\n",
    "validation_df = pd.read_pickle(\"../data/validation_df.pkl\")"
   ]
  },
  {
   "cell_type": "code",
   "execution_count": 9,
   "id": "2fec46ce-1542-49c8-86ec-cbe29019e5c1",
   "metadata": {},
   "outputs": [],
   "source": [
    "monotone_const_dict = {}\n",
    "for feature in boruta_features:\n",
    "    aux = find_constraint(train_df, feature, target_column)\n",
    "    monotone_const_dict[feature] = aux"
   ]
  },
  {
   "cell_type": "code",
   "execution_count": 10,
   "id": "4472139a-740e-48ad-bac1-c150a6174081",
   "metadata": {},
   "outputs": [],
   "source": [
    "mc_params = deepcopy(test_params)\n",
    "mc_params[\"learner_params\"][\"extra_params\"][\"monotone_constraints\"] = list(monotone_const_dict.values())"
   ]
  },
  {
   "cell_type": "code",
   "execution_count": 31,
   "id": "45ca11e2-d95c-4400-8d69-9294c81553e4",
   "metadata": {},
   "outputs": [
    {
     "name": "stderr",
     "output_type": "stream",
     "text": [
      "2023-09-23T14:43:15 | INFO | Starting pipeline: Generating 3 k-fold training...\n",
      "2023-09-23T14:43:16 | INFO | Training for fold 1\n",
      "2023-09-23T14:45:42 | INFO | Training for fold 2\n",
      "2023-09-23T14:48:10 | INFO | Training for fold 3\n",
      "2023-09-23T14:50:44 | INFO | CV training finished!\n",
      "2023-09-23T14:50:44 | INFO | Training the model in the full dataset...\n",
      "2023-09-23T14:54:05 | INFO | Training process finished!\n",
      "2023-09-23T14:54:05 | INFO | Calculating metrics...\n",
      "2023-09-23T14:54:05 | INFO | Full process finished in 10.87 minutes.\n"
     ]
    }
   ],
   "source": [
    "boruta_logs = model_pipeline(train_df = train_df,\n",
    "                            validation_df = validation_df,\n",
    "                            params = test_params,\n",
    "                            target_column = target_column,\n",
    "                            features = boruta_features,\n",
    "                            cv = 3,\n",
    "                            random_state = 42,\n",
    "                            apply_shap = False\n",
    "                          )"
   ]
  },
  {
   "cell_type": "code",
   "execution_count": 11,
   "id": "fb486243-d897-4e96-995b-02c225a73662",
   "metadata": {},
   "outputs": [
    {
     "name": "stderr",
     "output_type": "stream",
     "text": [
      "2023-09-23T23:48:09 | INFO | Starting pipeline: Generating 3 k-fold training...\n",
      "2023-09-23T23:48:11 | INFO | Training for fold 1\n",
      "2023-09-23T23:52:06 | INFO | Training for fold 2\n",
      "2023-09-23T23:56:02 | INFO | Training for fold 3\n",
      "2023-09-24T00:00:14 | INFO | CV training finished!\n",
      "2023-09-24T00:00:14 | INFO | Training the model in the full dataset...\n",
      "2023-09-24T00:05:53 | INFO | Training process finished!\n",
      "2023-09-24T00:05:53 | INFO | Calculating metrics...\n",
      "2023-09-24T00:05:53 | INFO | Full process finished in 17.76 minutes.\n"
     ]
    }
   ],
   "source": [
    "challenger_logs = model_pipeline(train_df = train_df,\n",
    "                            validation_df = validation_df,\n",
    "                            params = mc_params,\n",
    "                            target_column = target_column,\n",
    "                            features = boruta_features,\n",
    "                            cv = 3,\n",
    "                            random_state = 42,\n",
    "                            apply_shap = False\n",
    "                          )"
   ]
  },
  {
   "cell_type": "code",
   "execution_count": 42,
   "id": "7682ed53-6cec-494a-b157-dace21e2c0e8",
   "metadata": {},
   "outputs": [
    {
     "data": {
      "text/html": [
       "<div>\n",
       "<style scoped>\n",
       "    .dataframe tbody tr th:only-of-type {\n",
       "        vertical-align: middle;\n",
       "    }\n",
       "\n",
       "    .dataframe tbody tr th {\n",
       "        vertical-align: top;\n",
       "    }\n",
       "\n",
       "    .dataframe thead th {\n",
       "        text-align: right;\n",
       "    }\n",
       "</style>\n",
       "<table border=\"1\" class=\"dataframe\">\n",
       "  <thead>\n",
       "    <tr style=\"text-align: right;\">\n",
       "      <th></th>\n",
       "      <th>out_of_fold</th>\n",
       "      <th>roc_auc_val</th>\n",
       "    </tr>\n",
       "  </thead>\n",
       "  <tbody>\n",
       "    <tr>\n",
       "      <th>boruta vanilla</th>\n",
       "      <td>0.792510</td>\n",
       "      <td>0.799865</td>\n",
       "    </tr>\n",
       "    <tr>\n",
       "      <th>boruta monotone</th>\n",
       "      <td>0.791011</td>\n",
       "      <td>0.799071</td>\n",
       "    </tr>\n",
       "  </tbody>\n",
       "</table>\n",
       "</div>"
      ],
      "text/plain": [
       "                 out_of_fold  roc_auc_val\n",
       "boruta vanilla      0.792510     0.799865\n",
       "boruta monotone     0.791011     0.799071"
      ]
     },
     "execution_count": 42,
     "metadata": {},
     "output_type": "execute_result"
    }
   ],
   "source": [
    "model_metrics  ={}\n",
    "models = [boruta_logs, challenger_logs]\n",
    "names = [\"boruta vanilla\", \"boruta monotone\"]\n",
    "\n",
    "for model, name in zip(models, names):\n",
    "    model_metrics[f\"{name}\"] = model[\"metrics\"][\"roc_auc\"]\n",
    "pd.DataFrame(model_metrics).T.sort_values(by = \"roc_auc_val\", ascending = False)"
   ]
  },
  {
   "cell_type": "code",
   "execution_count": null,
   "id": "f7834adf-a86b-4b54-a943-66869ea61c34",
   "metadata": {},
   "outputs": [],
   "source": []
  }
 ],
 "metadata": {
  "kernelspec": {
   "display_name": "Python 3 (ipykernel)",
   "language": "python",
   "name": "python3"
  },
  "language_info": {
   "codemirror_mode": {
    "name": "ipython",
    "version": 3
   },
   "file_extension": ".py",
   "mimetype": "text/x-python",
   "name": "python",
   "nbconvert_exporter": "python",
   "pygments_lexer": "ipython3",
   "version": "3.9.16"
  }
 },
 "nbformat": 4,
 "nbformat_minor": 5
}
