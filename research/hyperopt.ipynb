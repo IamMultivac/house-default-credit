{
 "cells": [
  {
   "cell_type": "markdown",
   "id": "3eeefc00-b68c-42fc-8c41-c28e0a7b06cd",
   "metadata": {},
   "source": [
    "# Hyperparameter Optimization\n",
    "\n",
    "## Rationale:\n",
    "Hyperparameter optimization is a critical step in machine learning model development. Properly tuned hyperparameters can significantly improve a model's performance and generalization. The choice of hyperparameters depends on the specific machine learning algorithm and dataset. In this study, we aim to optimize the hyperparameters of a LightGBM model, a popular gradient boosting framework, to enhance its predictive power.\n",
    "\n",
    "## Methodology:\n",
    "We conducted hyperparameter optimization using the Optuna library, which provides a powerful and efficient platform for automated hyperparameter tuning. The study involved the following steps:\n",
    "\n",
    "1. **Baseline Model**: We started by training a baseline LightGBM model with default hyperparameters. This served as a reference point for evaluating the impact of hyperparameter optimization.\n",
    "\n",
    "2. **Optuna Integration**: We utilized Optuna to search for optimal hyperparameters. Optuna employs various optimization algorithms to efficiently explore the hyperparameter space. We defined a custom objective function that evaluates the model's performance using cross-validation.\n",
    "\n",
    "3. **Parameter Search Space**: We specified a search space for hyperparameters, including learning rate, the number of leaves, minimum child samples, subsample ratio, feature fraction, and regularization terms (L1 and L2). Optuna sampled from this space to find the best combination of hyperparameters.\n",
    "\n",
    "4. **Pruning**: To expedite the optimization process, we employed pruning techniques such as Hyperband pruning. Pruning allows us to terminate poorly performing trials early, saving computational resources.\n",
    "\n",
    "5. **Integration with LightGBM**: In addition to optimizing hyperparameters, we explored LightGBM's built-in support for Optuna. By leveraging this integration, we aimed to streamline the hyperparameter tuning process and potentially achieve better results.\n",
    "\n",
    "6. **Comparison**: We compared three models: the baseline model with default hyperparameters, a model tuned with Optuna, and a model using Optuna with LightGBM integration. We evaluated their performance using appropriate metrics such as ROC-AUC, Mean Squared Error (MSE), or accuracy, depending on the specific problem.\n",
    "\n",
    "## Conclusions:\n",
    "The results of our hyperparameter optimization study yielded valuable insights into improving the LightGBM model's performance. Here are the key takeaways:\n",
    "\n",
    "- The baseline model with default hyperparameters served as a benchmark but lacked optimal performance.\n",
    "- Optuna-driven hyperparameter optimization significantly enhanced the model's predictive capabilities, achieving better results than the baseline.\n",
    "- The integration of Optuna with LightGBM provided a streamlined and efficient approach to hyperparameter tuning, potentially reducing the required computational resources.\n",
    "- The final model, with optimized hyperparameters and LightGBM integration, demonstrated superior performance, confirming the value of automated hyperparameter optimization.\n",
    "\n",
    "Overall, this hyperparameter optimization study demonstrates the importance of tuning hyperparameters for achieving the best possible model performance, and it highlights the benefits of leveraging advanced tools like Optuna and integrating them with machine learning frameworks like LightGBM.\n"
   ]
  },
  {
   "cell_type": "code",
   "execution_count": 5,
   "id": "abede2b4-55fd-4731-87a3-138ed241d412",
   "metadata": {},
   "outputs": [],
   "source": [
    "%load_ext autoreload\n",
    "%autoreload 2\n",
    "\n",
    "import numpy as np\n",
    "import pandas as pd\n",
    "\n",
    "import lightgbm  as lgbm\n",
    "from sklearn.inspection import permutation_importance\n",
    "from sklearn.model_selection import train_test_split\n",
    "from copy import deepcopy\n",
    "\n",
    "from sklearn.model_selection import KFold, cross_val_score\n",
    "from sklearn.metrics import roc_auc_score\n",
    "\n",
    "import warnings;warnings.filterwarnings(\"ignore\")\n",
    "\n",
    "from optuna import visualization as optunaviz\n",
    "\n",
    "import sys\n",
    "sys.path.append(\"../\")\n",
    "\n",
    "# local imports\n",
    "from src.learner_params import target_column, space_column, boruta_learner_params, test_params\n",
    "from utils.functions__utils import find_constraint\n",
    "\n",
    "from utils.feature_selection_lists import fw_features, boruta_features, optuna_features, ensemble_features\n",
    "\n",
    "from utils.functions__training import model_pipeline"
   ]
  },
  {
   "cell_type": "code",
   "execution_count": 6,
   "id": "6d194c60-c8b6-4657-b223-b0bc6671e109",
   "metadata": {},
   "outputs": [],
   "source": [
    "train_df = pd.read_pickle(\"../data/train_df.pkl\")\n",
    "validation_df = pd.read_pickle(\"../data/validation_df.pkl\")"
   ]
  },
  {
   "cell_type": "code",
   "execution_count": 18,
   "id": "a33a4897-525f-4923-b861-0a79c25755cd",
   "metadata": {},
   "outputs": [
    {
     "data": {
      "application/vnd.jupyter.widget-view+json": {
       "model_id": "0af3de075b22458b9d47ad217885938b",
       "version_major": 2,
       "version_minor": 0
      },
      "text/plain": [
       "  0%|          | 0/25 [00:00<?, ?it/s]"
      ]
     },
     "metadata": {},
     "output_type": "display_data"
    }
   ],
   "source": [
    "from optuna.pruners import HyperbandPruner\n",
    "from optuna.samplers import TPESampler\n",
    "from optuna.logging import set_verbosity\n",
    "\n",
    "\n",
    "def objective(trial):\n",
    "    \"\"\"\n",
    "    \"\"\"\n",
    "    train, test = train_test_split(train_df, random_state=42, test_size=.2)\n",
    "    dtrain = lgbm.Dataset(train[boruta_features], label=train[target_column])\n",
    "\n",
    "    params = {\n",
    "        'verbose':-1,\n",
    "        'objective':\"binary\",\n",
    "        'metric':\"binary_logloss\",\n",
    "        \"boosting_type\":trial.suggest_categorical(\"boosting_type\", [\"gbdt\", \"dart\"]),\n",
    "        \"n_estimators\":trial.suggest_int(\"n_estimators\", 2000, 3032),\n",
    "        \"learning_rate\":trial.suggest_loguniform(\"learning_rate\", 1e-3,1e-1),\n",
    "        'num_leaves': trial.suggest_int('num_leaves', 32, 264),\n",
    "        \"bagging_freq\":trial.suggest_int(\"bagging_freq\", 2,7),\n",
    "        'min_child_samples': trial.suggest_int('min_child_samples', 50, 1024),\n",
    "        'subsample': trial.suggest_float('subsample', .7, 1),\n",
    "        'colsample_bytree': trial.suggest_float('colsample_bytree', .6, 1),\n",
    "        'lambda_l1':trial.suggest_float('lambda_l1',1e-2,10, log = True),\n",
    "        'lambda_l2':trial.suggest_float('lambda_l2',1e-2,10, log = True),\n",
    "        'n_jobs': -1,\n",
    "        'random_state': 42\n",
    "      }\n",
    "    bst = lgbm.train(params, dtrain)\n",
    "    preds = bst.predict(test[boruta_features])\n",
    "\n",
    "    score = roc_auc_score(test[target_column], preds)\n",
    "\n",
    "    return score\n",
    "\n",
    "set_verbosity(optuna.logging.ERROR)\n",
    "study = optuna.create_study(direction=\"maximize\",\n",
    "                            pruner=HyperbandPruner(),\n",
    "                            sampler=TPESampler(seed=0)\n",
    "                           )\n",
    "study.optimize(objective, n_trials=25,show_progress_bar=True)"
   ]
  },
  {
   "cell_type": "code",
   "execution_count": 19,
   "id": "f5c8e260-df3f-4c08-b193-559a7f448151",
   "metadata": {},
   "outputs": [
    {
     "data": {
      "text/plain": [
       "{'boosting_type': 'dart',\n",
       " 'n_estimators': 2349,\n",
       " 'learning_rate': 0.021424861729373922,\n",
       " 'num_leaves': 59,\n",
       " 'bagging_freq': 6,\n",
       " 'min_child_samples': 335,\n",
       " 'subsample': 0.7537835105674658,\n",
       " 'colsample_bytree': 0.8226472292027862,\n",
       " 'lambda_l1': 0.010994877348284958,\n",
       " 'lambda_l2': 2.028432500906238}"
      ]
     },
     "execution_count": 19,
     "metadata": {},
     "output_type": "execute_result"
    }
   ],
   "source": [
    "study.best_params"
   ]
  },
  {
   "cell_type": "code",
   "execution_count": 20,
   "id": "d6c52887-a172-4a37-bc56-0d187e347abf",
   "metadata": {},
   "outputs": [
    {
     "data": {
      "text/plain": [
       "0.7899181764633438"
      ]
     },
     "execution_count": 20,
     "metadata": {},
     "output_type": "execute_result"
    }
   ],
   "source": [
    "study.best_value"
   ]
  },
  {
   "cell_type": "code",
   "execution_count": 16,
   "id": "b8d10812-e331-471c-a195-2f3bfcdd6bc4",
   "metadata": {},
   "outputs": [],
   "source": [
    "best_params_one = {\n",
    "\t'learner_params': {\n",
    "\t\t'learning_rate': 0.021424861729373922,\n",
    "\t\t'n_estimators': 2349,\n",
    "\t\t'extra_params': {\n",
    "\t\t\t'objective': 'binary',\n",
    "\t\t\t'metric': 'binary_logloss',\n",
    "\t\t\t'boosting_type': 'gbdt',\n",
    "\t\t\t'num_leaves': 59,\n",
    "\t\t\t'bagging_freq': 6,\n",
    "\t\t\t'min_child_samples': 335,\n",
    "\t\t\t'subsample': 0.7537835105674658,\n",
    "\t\t\t'colsample_bytree': 0.8226472292027862,\n",
    "\t\t\t'lambda_l1': 0.010994877348284958,\n",
    "\t\t\t'lambda_l2': 2.028432500906238,\n",
    "\t\t\t'n_jobs': -1,\n",
    "\t\t\t'random_state': 42,\n",
    "\t\t\t'monotone_constraints': None,\n",
    "\t\t\t'verbose': -1\n",
    "\t\t}\n",
    "\t}\n",
    "}"
   ]
  },
  {
   "cell_type": "code",
   "execution_count": 17,
   "id": "e989ebb2-8b55-4d2a-9776-6147a014fd26",
   "metadata": {},
   "outputs": [
    {
     "name": "stderr",
     "output_type": "stream",
     "text": [
      "2023-09-24T22:49:48 | INFO | Starting pipeline: Generating 3 k-fold training...\n",
      "2023-09-24T22:49:51 | INFO | Training for fold 1\n",
      "2023-09-24T22:52:48 | INFO | Training for fold 2\n",
      "2023-09-24T22:55:55 | INFO | Training for fold 3\n",
      "2023-09-24T22:59:13 | INFO | CV training finished!\n",
      "2023-09-24T22:59:13 | INFO | Training the model in the full dataset...\n",
      "2023-09-24T23:03:21 | INFO | Training process finished!\n",
      "2023-09-24T23:03:21 | INFO | Calculating metrics...\n",
      "2023-09-24T23:03:21 | INFO | Full process finished in 13.61 minutes.\n"
     ]
    }
   ],
   "source": [
    "challenger_one_logs = model_pipeline(train_df = train_df,\n",
    "                            validation_df = validation_df,\n",
    "                            params = best_params_one,\n",
    "                            target_column = target_column,\n",
    "                            features = boruta_features,\n",
    "                            cv = 3,\n",
    "                            random_state = 42,\n",
    "                            apply_shap = False\n",
    "                          )"
   ]
  },
  {
   "cell_type": "code",
   "execution_count": 50,
   "id": "35090789-4e87-484f-8ec1-f6ab554fddc4",
   "metadata": {
    "collapsed": true,
    "jupyter": {
     "outputs_hidden": true
    }
   },
   "outputs": [
    {
     "name": "stderr",
     "output_type": "stream",
     "text": [
      "feature_fraction, val_score: -inf:   0%|                  | 0/7 [00:00<?, ?it/s]"
     ]
    },
    {
     "name": "stdout",
     "output_type": "stream",
     "text": [
      "Training until validation scores don't improve for 450 rounds\n"
     ]
    },
    {
     "name": "stderr",
     "output_type": "stream",
     "text": [
      "feature_fraction, val_score: 0.787537:  14%|8     | 1/7 [01:07<06:44, 67.44s/it]"
     ]
    },
    {
     "name": "stdout",
     "output_type": "stream",
     "text": [
      "Early stopping, best iteration is:\n",
      "[1095]\tvalid_0's auc: 0.913838\tvalid_1's auc: 0.787537\n",
      "Training until validation scores don't improve for 450 rounds\n"
     ]
    },
    {
     "name": "stderr",
     "output_type": "stream",
     "text": [
      "feature_fraction, val_score: 0.787537:  29%|#7    | 2/7 [02:13<05:33, 66.77s/it]"
     ]
    },
    {
     "name": "stdout",
     "output_type": "stream",
     "text": [
      "Early stopping, best iteration is:\n",
      "[706]\tvalid_0's auc: 0.885465\tvalid_1's auc: 0.786838\n",
      "Training until validation scores don't improve for 450 rounds\n"
     ]
    },
    {
     "name": "stderr",
     "output_type": "stream",
     "text": [
      "feature_fraction, val_score: 0.788985:  43%|##5   | 3/7 [03:06<04:02, 60.57s/it]"
     ]
    },
    {
     "name": "stdout",
     "output_type": "stream",
     "text": [
      "Early stopping, best iteration is:\n",
      "[843]\tvalid_0's auc: 0.893474\tvalid_1's auc: 0.788985\n",
      "Training until validation scores don't improve for 450 rounds\n"
     ]
    },
    {
     "name": "stderr",
     "output_type": "stream",
     "text": [
      "feature_fraction, val_score: 0.788985:  57%|###4  | 4/7 [04:32<03:31, 70.35s/it]"
     ]
    },
    {
     "name": "stdout",
     "output_type": "stream",
     "text": [
      "Early stopping, best iteration is:\n",
      "[1098]\tvalid_0's auc: 0.915571\tvalid_1's auc: 0.787953\n",
      "Training until validation scores don't improve for 450 rounds\n"
     ]
    },
    {
     "name": "stderr",
     "output_type": "stream",
     "text": [
      "feature_fraction, val_score: 0.788985:  71%|####2 | 5/7 [05:53<02:28, 74.40s/it]"
     ]
    },
    {
     "name": "stdout",
     "output_type": "stream",
     "text": [
      "Early stopping, best iteration is:\n",
      "[959]\tvalid_0's auc: 0.907208\tvalid_1's auc: 0.785927\n",
      "Training until validation scores don't improve for 450 rounds\n"
     ]
    },
    {
     "name": "stderr",
     "output_type": "stream",
     "text": [
      "feature_fraction, val_score: 0.788985:  86%|#####1| 6/7 [07:00<01:11, 71.89s/it]"
     ]
    },
    {
     "name": "stdout",
     "output_type": "stream",
     "text": [
      "Early stopping, best iteration is:\n",
      "[626]\tvalid_0's auc: 0.878697\tvalid_1's auc: 0.785634\n",
      "Training until validation scores don't improve for 450 rounds\n"
     ]
    },
    {
     "name": "stderr",
     "output_type": "stream",
     "text": [
      "feature_fraction, val_score: 0.788985: 100%|######| 7/7 [08:09<00:00, 69.86s/it]\n"
     ]
    },
    {
     "name": "stdout",
     "output_type": "stream",
     "text": [
      "Early stopping, best iteration is:\n",
      "[725]\tvalid_0's auc: 0.885882\tvalid_1's auc: 0.786886\n"
     ]
    },
    {
     "name": "stderr",
     "output_type": "stream",
     "text": [
      "num_leaves, val_score: 0.788985:   0%|                   | 0/20 [00:00<?, ?it/s]"
     ]
    },
    {
     "name": "stdout",
     "output_type": "stream",
     "text": [
      "Training until validation scores don't improve for 450 rounds\n"
     ]
    },
    {
     "name": "stderr",
     "output_type": "stream",
     "text": [
      "num_leaves, val_score: 0.788985:   5%|5          | 1/20 [01:12<22:59, 72.59s/it]"
     ]
    },
    {
     "name": "stdout",
     "output_type": "stream",
     "text": [
      "Early stopping, best iteration is:\n",
      "[499]\tvalid_0's auc: 0.973638\tvalid_1's auc: 0.787437\n",
      "Training until validation scores don't improve for 450 rounds\n"
     ]
    },
    {
     "name": "stderr",
     "output_type": "stream",
     "text": [
      "num_leaves, val_score: 0.788985:  10%|#1         | 2/20 [02:15<20:01, 66.77s/it]"
     ]
    },
    {
     "name": "stdout",
     "output_type": "stream",
     "text": [
      "Early stopping, best iteration is:\n",
      "[393]\tvalid_0's auc: 0.950488\tvalid_1's auc: 0.787302\n",
      "Training until validation scores don't improve for 450 rounds\n"
     ]
    },
    {
     "name": "stderr",
     "output_type": "stream",
     "text": [
      "num_leaves, val_score: 0.788985:  15%|#6         | 3/20 [03:26<19:29, 68.81s/it]"
     ]
    },
    {
     "name": "stdout",
     "output_type": "stream",
     "text": [
      "Early stopping, best iteration is:\n",
      "[663]\tvalid_0's auc: 0.967843\tvalid_1's auc: 0.787812\n",
      "Training until validation scores don't improve for 450 rounds\n"
     ]
    },
    {
     "name": "stderr",
     "output_type": "stream",
     "text": [
      "num_leaves, val_score: 0.788985:  20%|##2        | 4/20 [05:04<21:23, 80.22s/it]"
     ]
    },
    {
     "name": "stdout",
     "output_type": "stream",
     "text": [
      "Early stopping, best iteration is:\n",
      "[392]\tvalid_0's auc: 0.994529\tvalid_1's auc: 0.785895\n",
      "Training until validation scores don't improve for 450 rounds\n"
     ]
    },
    {
     "name": "stderr",
     "output_type": "stream",
     "text": [
      "num_leaves, val_score: 0.788985:  25%|##7        | 5/20 [06:18<19:29, 77.97s/it]"
     ]
    },
    {
     "name": "stdout",
     "output_type": "stream",
     "text": [
      "Did not meet early stopping. Best iteration is:\n",
      "[2349]\tvalid_0's auc: 0.861854\tvalid_1's auc: 0.788023\n",
      "Training until validation scores don't improve for 450 rounds\n"
     ]
    },
    {
     "name": "stderr",
     "output_type": "stream",
     "text": [
      "num_leaves, val_score: 0.788985:  30%|###3       | 6/20 [07:29<17:38, 75.58s/it]"
     ]
    },
    {
     "name": "stdout",
     "output_type": "stream",
     "text": [
      "Early stopping, best iteration is:\n",
      "[1725]\tvalid_0's auc: 0.859867\tvalid_1's auc: 0.787862\n",
      "Training until validation scores don't improve for 450 rounds\n"
     ]
    },
    {
     "name": "stderr",
     "output_type": "stream",
     "text": [
      "num_leaves, val_score: 0.788985:  35%|###8       | 7/20 [08:35<15:44, 72.68s/it]"
     ]
    },
    {
     "name": "stdout",
     "output_type": "stream",
     "text": [
      "Early stopping, best iteration is:\n",
      "[1392]\tvalid_0's auc: 0.887859\tvalid_1's auc: 0.788329\n",
      "Training until validation scores don't improve for 450 rounds\n"
     ]
    },
    {
     "name": "stderr",
     "output_type": "stream",
     "text": [
      "num_leaves, val_score: 0.788985:  40%|####4      | 8/20 [09:33<13:33, 67.77s/it]"
     ]
    },
    {
     "name": "stdout",
     "output_type": "stream",
     "text": [
      "Early stopping, best iteration is:\n",
      "[595]\tvalid_0's auc: 0.927927\tvalid_1's auc: 0.787987\n",
      "Training until validation scores don't improve for 450 rounds\n"
     ]
    },
    {
     "name": "stderr",
     "output_type": "stream",
     "text": [
      "num_leaves, val_score: 0.788985:  45%|####9      | 9/20 [10:55<13:16, 72.41s/it]"
     ]
    },
    {
     "name": "stdout",
     "output_type": "stream",
     "text": [
      "Early stopping, best iteration is:\n",
      "[414]\tvalid_0's auc: 0.984383\tvalid_1's auc: 0.787831\n",
      "Training until validation scores don't improve for 450 rounds\n"
     ]
    },
    {
     "name": "stderr",
     "output_type": "stream",
     "text": [
      "num_leaves, val_score: 0.788985:  50%|#####     | 10/20 [11:58<11:33, 69.34s/it]"
     ]
    },
    {
     "name": "stdout",
     "output_type": "stream",
     "text": [
      "Early stopping, best iteration is:\n",
      "[771]\tvalid_0's auc: 0.935051\tvalid_1's auc: 0.788323\n",
      "Training until validation scores don't improve for 450 rounds\n"
     ]
    },
    {
     "name": "stderr",
     "output_type": "stream",
     "text": [
      "num_leaves, val_score: 0.788985:  55%|#####5    | 11/20 [13:12<10:38, 70.95s/it]"
     ]
    },
    {
     "name": "stdout",
     "output_type": "stream",
     "text": [
      "Early stopping, best iteration is:\n",
      "[352]\tvalid_0's auc: 0.97131\tvalid_1's auc: 0.787258\n",
      "Training until validation scores don't improve for 450 rounds\n"
     ]
    },
    {
     "name": "stderr",
     "output_type": "stream",
     "text": [
      "num_leaves, val_score: 0.788985:  60%|######    | 12/20 [14:20<09:18, 69.84s/it]"
     ]
    },
    {
     "name": "stdout",
     "output_type": "stream",
     "text": [
      "Early stopping, best iteration is:\n",
      "[914]\tvalid_0's auc: 0.940673\tvalid_1's auc: 0.788638\n",
      "Training until validation scores don't improve for 450 rounds\n"
     ]
    },
    {
     "name": "stderr",
     "output_type": "stream",
     "text": [
      "num_leaves, val_score: 0.788985:  65%|######5   | 13/20 [15:28<08:05, 69.37s/it]"
     ]
    },
    {
     "name": "stdout",
     "output_type": "stream",
     "text": [
      "Early stopping, best iteration is:\n",
      "[792]\tvalid_0's auc: 0.953609\tvalid_1's auc: 0.788268\n",
      "Training until validation scores don't improve for 450 rounds\n"
     ]
    },
    {
     "name": "stderr",
     "output_type": "stream",
     "text": [
      "num_leaves, val_score: 0.788985:  70%|#######   | 14/20 [17:05<07:45, 77.63s/it]"
     ]
    },
    {
     "name": "stdout",
     "output_type": "stream",
     "text": [
      "Early stopping, best iteration is:\n",
      "[454]\tvalid_0's auc: 0.994235\tvalid_1's auc: 0.786293\n",
      "Training until validation scores don't improve for 450 rounds\n"
     ]
    },
    {
     "name": "stderr",
     "output_type": "stream",
     "text": [
      "num_leaves, val_score: 0.788985:  75%|#######5  | 15/20 [18:01<05:56, 71.23s/it]"
     ]
    },
    {
     "name": "stdout",
     "output_type": "stream",
     "text": [
      "Early stopping, best iteration is:\n",
      "[843]\tvalid_0's auc: 0.893474\tvalid_1's auc: 0.788985\n",
      "Training until validation scores don't improve for 450 rounds\n"
     ]
    },
    {
     "name": "stderr",
     "output_type": "stream",
     "text": [
      "num_leaves, val_score: 0.788985:  80%|########  | 16/20 [19:12<04:44, 71.01s/it]"
     ]
    },
    {
     "name": "stdout",
     "output_type": "stream",
     "text": [
      "Early stopping, best iteration is:\n",
      "[1061]\tvalid_0's auc: 0.938919\tvalid_1's auc: 0.788777\n",
      "Training until validation scores don't improve for 450 rounds\n"
     ]
    },
    {
     "name": "stderr",
     "output_type": "stream",
     "text": [
      "num_leaves, val_score: 0.788985:  85%|########5 | 17/20 [20:21<03:31, 70.51s/it]"
     ]
    },
    {
     "name": "stdout",
     "output_type": "stream",
     "text": [
      "Early stopping, best iteration is:\n",
      "[602]\tvalid_0's auc: 0.963075\tvalid_1's auc: 0.787677\n",
      "Training until validation scores don't improve for 450 rounds\n"
     ]
    },
    {
     "name": "stderr",
     "output_type": "stream",
     "text": [
      "num_leaves, val_score: 0.788985:  90%|######### | 18/20 [21:32<02:21, 70.65s/it]"
     ]
    },
    {
     "name": "stdout",
     "output_type": "stream",
     "text": [
      "Early stopping, best iteration is:\n",
      "[1174]\tvalid_0's auc: 0.93432\tvalid_1's auc: 0.788078\n",
      "Training until validation scores don't improve for 450 rounds\n"
     ]
    },
    {
     "name": "stderr",
     "output_type": "stream",
     "text": [
      "num_leaves, val_score: 0.788985:  95%|#########5| 19/20 [22:38<01:09, 69.38s/it]"
     ]
    },
    {
     "name": "stdout",
     "output_type": "stream",
     "text": [
      "Early stopping, best iteration is:\n",
      "[580]\tvalid_0's auc: 0.955695\tvalid_1's auc: 0.788269\n",
      "Training until validation scores don't improve for 450 rounds\n"
     ]
    },
    {
     "name": "stderr",
     "output_type": "stream",
     "text": [
      "num_leaves, val_score: 0.788985: 100%|##########| 20/20 [24:03<00:00, 72.15s/it]\n"
     ]
    },
    {
     "name": "stdout",
     "output_type": "stream",
     "text": [
      "Early stopping, best iteration is:\n",
      "[576]\tvalid_0's auc: 0.985828\tvalid_1's auc: 0.788176\n"
     ]
    },
    {
     "name": "stderr",
     "output_type": "stream",
     "text": [
      "bagging, val_score: 0.788985:   0%|                      | 0/10 [00:00<?, ?it/s]"
     ]
    },
    {
     "name": "stdout",
     "output_type": "stream",
     "text": [
      "Training until validation scores don't improve for 450 rounds\n"
     ]
    },
    {
     "name": "stderr",
     "output_type": "stream",
     "text": [
      "bagging, val_score: 0.788985:  10%|#4            | 1/10 [00:51<07:44, 51.64s/it]"
     ]
    },
    {
     "name": "stdout",
     "output_type": "stream",
     "text": [
      "Early stopping, best iteration is:\n",
      "[884]\tvalid_0's auc: 0.902306\tvalid_1's auc: 0.788215\n",
      "Training until validation scores don't improve for 450 rounds\n"
     ]
    },
    {
     "name": "stderr",
     "output_type": "stream",
     "text": [
      "bagging, val_score: 0.788985:  20%|##8           | 2/10 [02:10<09:00, 67.62s/it]"
     ]
    },
    {
     "name": "stdout",
     "output_type": "stream",
     "text": [
      "Early stopping, best iteration is:\n",
      "[1472]\tvalid_0's auc: 0.934265\tvalid_1's auc: 0.788754\n",
      "Training until validation scores don't improve for 450 rounds\n"
     ]
    },
    {
     "name": "stderr",
     "output_type": "stream",
     "text": [
      "bagging, val_score: 0.788985:  30%|####2         | 3/10 [03:03<07:07, 61.12s/it]"
     ]
    },
    {
     "name": "stdout",
     "output_type": "stream",
     "text": [
      "Early stopping, best iteration is:\n",
      "[942]\tvalid_0's auc: 0.905977\tvalid_1's auc: 0.788634\n",
      "Training until validation scores don't improve for 450 rounds\n"
     ]
    },
    {
     "name": "stderr",
     "output_type": "stream",
     "text": [
      "bagging, val_score: 0.789109:  40%|#####6        | 4/10 [03:59<05:52, 58.82s/it]"
     ]
    },
    {
     "name": "stdout",
     "output_type": "stream",
     "text": [
      "Early stopping, best iteration is:\n",
      "[883]\tvalid_0's auc: 0.89977\tvalid_1's auc: 0.789109\n",
      "Training until validation scores don't improve for 450 rounds\n"
     ]
    },
    {
     "name": "stderr",
     "output_type": "stream",
     "text": [
      "bagging, val_score: 0.789109:  50%|#######       | 5/10 [05:05<05:08, 61.64s/it]"
     ]
    },
    {
     "name": "stdout",
     "output_type": "stream",
     "text": [
      "Early stopping, best iteration is:\n",
      "[1199]\tvalid_0's auc: 0.921647\tvalid_1's auc: 0.789061\n",
      "Training until validation scores don't improve for 450 rounds\n"
     ]
    },
    {
     "name": "stderr",
     "output_type": "stream",
     "text": [
      "bagging, val_score: 0.789356:  60%|########4     | 6/10 [06:19<04:22, 65.62s/it]"
     ]
    },
    {
     "name": "stdout",
     "output_type": "stream",
     "text": [
      "Early stopping, best iteration is:\n",
      "[1427]\tvalid_0's auc: 0.934755\tvalid_1's auc: 0.789356\n",
      "Training until validation scores don't improve for 450 rounds\n"
     ]
    },
    {
     "name": "stderr",
     "output_type": "stream",
     "text": [
      "bagging, val_score: 0.789356:  70%|#########7    | 7/10 [07:18<03:11, 63.71s/it]"
     ]
    },
    {
     "name": "stdout",
     "output_type": "stream",
     "text": [
      "Early stopping, best iteration is:\n",
      "[1026]\tvalid_0's auc: 0.909995\tvalid_1's auc: 0.788742\n",
      "Training until validation scores don't improve for 450 rounds\n"
     ]
    },
    {
     "name": "stderr",
     "output_type": "stream",
     "text": [
      "bagging, val_score: 0.789356:  80%|###########2  | 8/10 [08:28<02:11, 65.63s/it]"
     ]
    },
    {
     "name": "stdout",
     "output_type": "stream",
     "text": [
      "Early stopping, best iteration is:\n",
      "[1269]\tvalid_0's auc: 0.925688\tvalid_1's auc: 0.789\n",
      "Training until validation scores don't improve for 450 rounds\n"
     ]
    },
    {
     "name": "stderr",
     "output_type": "stream",
     "text": [
      "bagging, val_score: 0.789356:  90%|############6 | 9/10 [09:43<01:08, 68.57s/it]"
     ]
    },
    {
     "name": "stdout",
     "output_type": "stream",
     "text": [
      "Early stopping, best iteration is:\n",
      "[1457]\tvalid_0's auc: 0.936656\tvalid_1's auc: 0.789293\n",
      "Training until validation scores don't improve for 450 rounds\n"
     ]
    },
    {
     "name": "stderr",
     "output_type": "stream",
     "text": [
      "bagging, val_score: 0.789356: 100%|#############| 10/10 [10:46<00:00, 64.69s/it]\n"
     ]
    },
    {
     "name": "stdout",
     "output_type": "stream",
     "text": [
      "Early stopping, best iteration is:\n",
      "[1120]\tvalid_0's auc: 0.917501\tvalid_1's auc: 0.788958\n"
     ]
    },
    {
     "name": "stderr",
     "output_type": "stream",
     "text": [
      "feature_fraction_stage2, val_score: 0.789356:   0%|       | 0/3 [00:00<?, ?it/s]"
     ]
    },
    {
     "name": "stdout",
     "output_type": "stream",
     "text": [
      "Training until validation scores don't improve for 450 rounds\n"
     ]
    },
    {
     "name": "stderr",
     "output_type": "stream",
     "text": [
      "feature_fraction_stage2, val_score: 0.789356:  33%|3| 1/3 [01:08<02:17, 68.54s/i"
     ]
    },
    {
     "name": "stdout",
     "output_type": "stream",
     "text": [
      "Early stopping, best iteration is:\n",
      "[1213]\tvalid_0's auc: 0.922738\tvalid_1's auc: 0.788879\n",
      "Training until validation scores don't improve for 450 rounds\n"
     ]
    },
    {
     "name": "stderr",
     "output_type": "stream",
     "text": [
      "feature_fraction_stage2, val_score: 0.789356:  67%|6| 2/3 [02:14<01:06, 66.80s/i"
     ]
    },
    {
     "name": "stdout",
     "output_type": "stream",
     "text": [
      "Early stopping, best iteration is:\n",
      "[973]\tvalid_0's auc: 0.908578\tvalid_1's auc: 0.788184\n",
      "Training until validation scores don't improve for 450 rounds\n"
     ]
    },
    {
     "name": "stderr",
     "output_type": "stream",
     "text": [
      "feature_fraction_stage2, val_score: 0.789356: 100%|#| 3/3 [03:14<00:00, 64.69s/i\n"
     ]
    },
    {
     "name": "stdout",
     "output_type": "stream",
     "text": [
      "Early stopping, best iteration is:\n",
      "[882]\tvalid_0's auc: 0.9007\tvalid_1's auc: 0.788285\n"
     ]
    },
    {
     "name": "stderr",
     "output_type": "stream",
     "text": [
      "regularization_factors, val_score: 0.789356:   0%|       | 0/20 [00:00<?, ?it/s]"
     ]
    },
    {
     "name": "stdout",
     "output_type": "stream",
     "text": [
      "Training until validation scores don't improve for 450 rounds\n"
     ]
    },
    {
     "name": "stderr",
     "output_type": "stream",
     "text": [
      "regularization_factors, val_score: 0.791036:   5%| | 1/20 [01:14<23:37, 74.60s/i"
     ]
    },
    {
     "name": "stdout",
     "output_type": "stream",
     "text": [
      "Early stopping, best iteration is:\n",
      "[1194]\tvalid_0's auc: 0.895883\tvalid_1's auc: 0.791036\n",
      "Training until validation scores don't improve for 450 rounds\n"
     ]
    },
    {
     "name": "stderr",
     "output_type": "stream",
     "text": [
      "regularization_factors, val_score: 0.791036:  10%|1| 2/20 [02:16<20:06, 67.03s/i"
     ]
    },
    {
     "name": "stdout",
     "output_type": "stream",
     "text": [
      "Early stopping, best iteration is:\n",
      "[876]\tvalid_0's auc: 0.87703\tvalid_1's auc: 0.790075\n",
      "Training until validation scores don't improve for 450 rounds\n"
     ]
    },
    {
     "name": "stderr",
     "output_type": "stream",
     "text": [
      "regularization_factors, val_score: 0.791036:  15%|1| 3/20 [03:40<21:12, 74.84s/i"
     ]
    },
    {
     "name": "stdout",
     "output_type": "stream",
     "text": [
      "Early stopping, best iteration is:\n",
      "[1425]\tvalid_0's auc: 0.904917\tvalid_1's auc: 0.790833\n",
      "Training until validation scores don't improve for 450 rounds\n"
     ]
    },
    {
     "name": "stderr",
     "output_type": "stream",
     "text": [
      "regularization_factors, val_score: 0.791036:  20%|2| 4/20 [04:50<19:29, 73.08s/i"
     ]
    },
    {
     "name": "stdout",
     "output_type": "stream",
     "text": [
      "Early stopping, best iteration is:\n",
      "[1029]\tvalid_0's auc: 0.880268\tvalid_1's auc: 0.790979\n",
      "Training until validation scores don't improve for 450 rounds\n"
     ]
    },
    {
     "name": "stderr",
     "output_type": "stream",
     "text": [
      "regularization_factors, val_score: 0.791158:  25%|2| 5/20 [06:15<19:20, 77.38s/i"
     ]
    },
    {
     "name": "stdout",
     "output_type": "stream",
     "text": [
      "Early stopping, best iteration is:\n",
      "[1424]\tvalid_0's auc: 0.904561\tvalid_1's auc: 0.791158\n",
      "Training until validation scores don't improve for 450 rounds\n"
     ]
    },
    {
     "name": "stderr",
     "output_type": "stream",
     "text": [
      "regularization_factors, val_score: 0.791158:  30%|3| 6/20 [07:25<17:25, 74.69s/i"
     ]
    },
    {
     "name": "stdout",
     "output_type": "stream",
     "text": [
      "Early stopping, best iteration is:\n",
      "[981]\tvalid_0's auc: 0.878675\tvalid_1's auc: 0.791065\n",
      "Training until validation scores don't improve for 450 rounds\n"
     ]
    },
    {
     "name": "stderr",
     "output_type": "stream",
     "text": [
      "regularization_factors, val_score: 0.791158:  35%|3| 7/20 [08:44<16:29, 76.08s/i"
     ]
    },
    {
     "name": "stdout",
     "output_type": "stream",
     "text": [
      "Early stopping, best iteration is:\n",
      "[1165]\tvalid_0's auc: 0.888873\tvalid_1's auc: 0.791011\n",
      "Training until validation scores don't improve for 450 rounds\n"
     ]
    },
    {
     "name": "stderr",
     "output_type": "stream",
     "text": [
      "regularization_factors, val_score: 0.791158:  40%|4| 8/20 [09:57<15:00, 75.06s/i"
     ]
    },
    {
     "name": "stdout",
     "output_type": "stream",
     "text": [
      "Early stopping, best iteration is:\n",
      "[1027]\tvalid_0's auc: 0.88071\tvalid_1's auc: 0.79039\n",
      "Training until validation scores don't improve for 450 rounds\n"
     ]
    },
    {
     "name": "stderr",
     "output_type": "stream",
     "text": [
      "regularization_factors, val_score: 0.791158:  45%|4| 9/20 [11:24<14:26, 78.78s/i"
     ]
    },
    {
     "name": "stdout",
     "output_type": "stream",
     "text": [
      "Early stopping, best iteration is:\n",
      "[1428]\tvalid_0's auc: 0.901676\tvalid_1's auc: 0.790836\n",
      "Training until validation scores don't improve for 450 rounds\n"
     ]
    },
    {
     "name": "stderr",
     "output_type": "stream",
     "text": [
      "regularization_factors, val_score: 0.791158:  50%|5| 10/20 [12:28<12:24, 74.47s/"
     ]
    },
    {
     "name": "stdout",
     "output_type": "stream",
     "text": [
      "Early stopping, best iteration is:\n",
      "[883]\tvalid_0's auc: 0.872172\tvalid_1's auc: 0.790282\n",
      "Training until validation scores don't improve for 450 rounds\n"
     ]
    },
    {
     "name": "stderr",
     "output_type": "stream",
     "text": [
      "regularization_factors, val_score: 0.791158:  55%|5| 11/20 [13:43<11:09, 74.41s/"
     ]
    },
    {
     "name": "stdout",
     "output_type": "stream",
     "text": [
      "Early stopping, best iteration is:\n",
      "[1328]\tvalid_0's auc: 0.928113\tvalid_1's auc: 0.789714\n",
      "Training until validation scores don't improve for 450 rounds\n"
     ]
    },
    {
     "name": "stderr",
     "output_type": "stream",
     "text": [
      "regularization_factors, val_score: 0.791158:  60%|6| 12/20 [14:40<09:13, 69.23s/"
     ]
    },
    {
     "name": "stdout",
     "output_type": "stream",
     "text": [
      "Early stopping, best iteration is:\n",
      "[710]\tvalid_0's auc: 0.85991\tvalid_1's auc: 0.790572\n",
      "Training until validation scores don't improve for 450 rounds\n"
     ]
    },
    {
     "name": "stderr",
     "output_type": "stream",
     "text": [
      "regularization_factors, val_score: 0.791158:  65%|6| 13/20 [15:51<08:07, 69.68s/"
     ]
    },
    {
     "name": "stdout",
     "output_type": "stream",
     "text": [
      "Early stopping, best iteration is:\n",
      "[1266]\tvalid_0's auc: 0.925394\tvalid_1's auc: 0.789597\n",
      "Training until validation scores don't improve for 450 rounds\n"
     ]
    },
    {
     "name": "stderr",
     "output_type": "stream",
     "text": [
      "regularization_factors, val_score: 0.791158:  70%|7| 14/20 [17:05<07:05, 70.92s/"
     ]
    },
    {
     "name": "stdout",
     "output_type": "stream",
     "text": [
      "Early stopping, best iteration is:\n",
      "[1029]\tvalid_0's auc: 0.872201\tvalid_1's auc: 0.790265\n",
      "Training until validation scores don't improve for 450 rounds\n"
     ]
    },
    {
     "name": "stderr",
     "output_type": "stream",
     "text": [
      "regularization_factors, val_score: 0.791158:  75%|7| 15/20 [18:02<05:34, 66.96s/"
     ]
    },
    {
     "name": "stdout",
     "output_type": "stream",
     "text": [
      "Early stopping, best iteration is:\n",
      "[884]\tvalid_0's auc: 0.896472\tvalid_1's auc: 0.789271\n",
      "Training until validation scores don't improve for 450 rounds\n"
     ]
    },
    {
     "name": "stderr",
     "output_type": "stream",
     "text": [
      "regularization_factors, val_score: 0.791158:  80%|8| 16/20 [19:01<04:17, 64.33s/"
     ]
    },
    {
     "name": "stdout",
     "output_type": "stream",
     "text": [
      "Early stopping, best iteration is:\n",
      "[877]\tvalid_0's auc: 0.894385\tvalid_1's auc: 0.789758\n",
      "Training until validation scores don't improve for 450 rounds\n"
     ]
    },
    {
     "name": "stderr",
     "output_type": "stream",
     "text": [
      "regularization_factors, val_score: 0.791158:  85%|8| 17/20 [19:59<03:07, 62.50s/"
     ]
    },
    {
     "name": "stdout",
     "output_type": "stream",
     "text": [
      "Early stopping, best iteration is:\n",
      "[876]\tvalid_0's auc: 0.89274\tvalid_1's auc: 0.789224\n",
      "Training until validation scores don't improve for 450 rounds\n"
     ]
    },
    {
     "name": "stderr",
     "output_type": "stream",
     "text": [
      "regularization_factors, val_score: 0.791158:  90%|9| 18/20 [21:10<02:09, 64.99s/"
     ]
    },
    {
     "name": "stdout",
     "output_type": "stream",
     "text": [
      "Early stopping, best iteration is:\n",
      "[1187]\tvalid_0's auc: 0.910361\tvalid_1's auc: 0.789917\n",
      "Training until validation scores don't improve for 450 rounds\n"
     ]
    },
    {
     "name": "stderr",
     "output_type": "stream",
     "text": [
      "regularization_factors, val_score: 0.791158:  95%|9| 19/20 [22:20<01:06, 66.56s/"
     ]
    },
    {
     "name": "stdout",
     "output_type": "stream",
     "text": [
      "Early stopping, best iteration is:\n",
      "[1032]\tvalid_0's auc: 0.88042\tvalid_1's auc: 0.790861\n",
      "Training until validation scores don't improve for 450 rounds\n"
     ]
    },
    {
     "name": "stderr",
     "output_type": "stream",
     "text": [
      "regularization_factors, val_score: 0.791158: 100%|#| 20/20 [23:37<00:00, 70.86s/\n"
     ]
    },
    {
     "name": "stdout",
     "output_type": "stream",
     "text": [
      "Early stopping, best iteration is:\n",
      "[1427]\tvalid_0's auc: 0.934213\tvalid_1's auc: 0.789496\n"
     ]
    },
    {
     "name": "stderr",
     "output_type": "stream",
     "text": [
      "min_data_in_leaf, val_score: 0.791158:   0%|              | 0/5 [00:00<?, ?it/s]"
     ]
    },
    {
     "name": "stdout",
     "output_type": "stream",
     "text": [
      "Training until validation scores don't improve for 450 rounds\n"
     ]
    },
    {
     "name": "stderr",
     "output_type": "stream",
     "text": [
      "min_data_in_leaf, val_score: 0.791158:  20%|#2    | 1/5 [01:09<04:37, 69.32s/it]"
     ]
    },
    {
     "name": "stdout",
     "output_type": "stream",
     "text": [
      "Early stopping, best iteration is:\n",
      "[1023]\tvalid_0's auc: 0.881648\tvalid_1's auc: 0.790775\n",
      "Training until validation scores don't improve for 450 rounds\n"
     ]
    },
    {
     "name": "stderr",
     "output_type": "stream",
     "text": [
      "min_data_in_leaf, val_score: 0.791158:  40%|##4   | 2/5 [02:20<03:30, 70.22s/it]"
     ]
    },
    {
     "name": "stdout",
     "output_type": "stream",
     "text": [
      "Early stopping, best iteration is:\n",
      "[1019]\tvalid_0's auc: 0.881314\tvalid_1's auc: 0.790478\n",
      "Training until validation scores don't improve for 450 rounds\n"
     ]
    },
    {
     "name": "stderr",
     "output_type": "stream",
     "text": [
      "min_data_in_leaf, val_score: 0.791158:  60%|###6  | 3/5 [03:44<02:33, 76.72s/it]"
     ]
    },
    {
     "name": "stdout",
     "output_type": "stream",
     "text": [
      "Early stopping, best iteration is:\n",
      "[1395]\tvalid_0's auc: 0.902728\tvalid_1's auc: 0.790594\n",
      "Training until validation scores don't improve for 450 rounds\n"
     ]
    },
    {
     "name": "stderr",
     "output_type": "stream",
     "text": [
      "min_data_in_leaf, val_score: 0.791158:  80%|####8 | 4/5 [04:51<01:12, 72.84s/it]"
     ]
    },
    {
     "name": "stdout",
     "output_type": "stream",
     "text": [
      "Early stopping, best iteration is:\n",
      "[970]\tvalid_0's auc: 0.878594\tvalid_1's auc: 0.790792\n",
      "Training until validation scores don't improve for 450 rounds\n"
     ]
    },
    {
     "name": "stderr",
     "output_type": "stream",
     "text": [
      "min_data_in_leaf, val_score: 0.791158: 100%|######| 5/5 [06:21<00:00, 76.27s/it]"
     ]
    },
    {
     "name": "stdout",
     "output_type": "stream",
     "text": [
      "Early stopping, best iteration is:\n",
      "[1428]\tvalid_0's auc: 0.904744\tvalid_1's auc: 0.790859\n"
     ]
    },
    {
     "name": "stderr",
     "output_type": "stream",
     "text": [
      "\n"
     ]
    },
    {
     "name": "stdout",
     "output_type": "stream",
     "text": [
      "Best params: {'objective': 'binary', 'metric': 'auc', 'verbosity': -1, 'boosting_type': 'gbdt', 'learning_rate': 0.021424861729373922, 'feature_pre_filter': False, 'lambda_l1': 0.00021744689137046032, 'lambda_l2': 6.07402119317552, 'num_leaves': 31, 'feature_fraction': 0.4, 'bagging_fraction': 0.7762748139696756, 'bagging_freq': 7, 'min_child_samples': 20, 'num_iterations': 2349}\n",
      "CPU times: user 5h 29min 45s, sys: 23min 3s, total: 5h 52min 49s\n",
      "Wall time: 1h 16min 20s\n"
     ]
    }
   ],
   "source": [
    "%%time\n",
    "\n",
    "import optuna.integration.lightgbm as lgb\n",
    "\n",
    "from lightgbm import early_stopping\n",
    "from lightgbm import log_evaluation\n",
    "\n",
    "train, test = train_test_split(train_df, random_state=42, test_size=.2)\n",
    "dtrain = lgbm.Dataset(train[boruta_features], label=train[target_column])\n",
    "dval = lgb.Dataset(test[boruta_features], label=test[target_column])\n",
    "\n",
    "params = {\n",
    "    \"objective\": \"binary\",\n",
    "    \"metric\": \"auc\",\n",
    "    \"verbosity\": -1,\n",
    "    \"boosting_type\": \"gbdt\",\n",
    "    \"n_estimators\":2349,\n",
    "    \"learning_rate\": 0.021424861729373922\n",
    "}\n",
    "\n",
    "bst = lgb.train(\n",
    "    params,\n",
    "    dtrain,\n",
    "    valid_sets=[dtrain, dval],\n",
    "    callbacks=[early_stopping(450)],\n",
    ")\n",
    "\n",
    "preds = bst.predict(test[boruta_features],num_iteration=bst.best_iteration)\n",
    "score = roc_auc_score(test[target_column], preds)\n",
    "\n",
    "best_params = bst.params\n",
    "print(\"Best params:\", best_params)\n",
    "\n"
   ]
  },
  {
   "cell_type": "code",
   "execution_count": 51,
   "id": "3e1b1aae-6bbb-4e20-a306-ecfdf3db4bf3",
   "metadata": {},
   "outputs": [
    {
     "data": {
      "text/plain": [
       "{'objective': 'binary',\n",
       " 'metric': 'auc',\n",
       " 'verbosity': -1,\n",
       " 'boosting_type': 'gbdt',\n",
       " 'learning_rate': 0.021424861729373922,\n",
       " 'feature_pre_filter': False,\n",
       " 'lambda_l1': 0.00021744689137046032,\n",
       " 'lambda_l2': 6.07402119317552,\n",
       " 'num_leaves': 31,\n",
       " 'feature_fraction': 0.4,\n",
       " 'bagging_fraction': 0.7762748139696756,\n",
       " 'bagging_freq': 7,\n",
       " 'min_child_samples': 20,\n",
       " 'num_iterations': 2349}"
      ]
     },
     "execution_count": 51,
     "metadata": {},
     "output_type": "execute_result"
    }
   ],
   "source": [
    "# new\n",
    "best_params"
   ]
  },
  {
   "cell_type": "code",
   "execution_count": 52,
   "id": "9a20a1ab-5413-4b9d-b55a-49b409d889af",
   "metadata": {},
   "outputs": [
    {
     "data": {
      "text/plain": [
       "defaultdict(collections.OrderedDict,\n",
       "            {'valid_0': OrderedDict([('auc', 0.9045610250337482)]),\n",
       "             'valid_1': OrderedDict([('auc', 0.7911576257095011)])})"
      ]
     },
     "execution_count": 52,
     "metadata": {},
     "output_type": "execute_result"
    }
   ],
   "source": [
    "# new\n",
    "bst.best_score"
   ]
  },
  {
   "cell_type": "code",
   "execution_count": 8,
   "id": "226f72ef-6f81-4461-bb39-a0bcf30d5ab5",
   "metadata": {},
   "outputs": [
    {
     "data": {
      "application/vnd.jupyter.widget-view+json": {
       "model_id": "39b05bc6e648419bae40129f265ba74e",
       "version_major": 2,
       "version_minor": 0
      },
      "text/plain": [
       "  0%|          | 0/50 [00:00<?, ?it/s]"
      ]
     },
     "metadata": {},
     "output_type": "display_data"
    }
   ],
   "source": [
    "from optuna.logging import set_verbosity\n",
    "import optuna\n",
    "from optuna.pruners import HyperbandPruner\n",
    "from optuna.samplers import TPESampler\n",
    "\n",
    "def objective(trial):\n",
    "    \"\"\"\n",
    "    \"\"\"\n",
    "    train, test = train_test_split(train_df, random_state=42, test_size=.2)\n",
    "    dtrain = lgbm.Dataset(train[boruta_features], label=train[target_column])\n",
    "\n",
    "    params = {\n",
    "        'verbose':-1,\n",
    "        'objective':\"binary\",\n",
    "        'metric':\"binary_logloss\",\n",
    "         'boosting_type': 'gbdt',\n",
    "         'learning_rate': 0.021424861729373922,\n",
    "         'lambda_l1': 0.00021744689137046032,\n",
    "         'lambda_l2': 6.07402119317552,\n",
    "         'num_leaves': 31,\n",
    "         'feature_fraction': 0.4,\n",
    "         'bagging_fraction': 0.7762748139696756,\n",
    "         'bagging_freq': 7,\n",
    "         'min_child_samples': 20,\n",
    "         \"n_estimators\":trial.suggest_int(\"n_estimators\", 2000, 10000),\n",
    "         \"learning_rate\":trial.suggest_loguniform(\"learning_rate\", 1e-3,1e-1),\n",
    "         'n_jobs': -1,\n",
    "         'random_state': 42\n",
    "      }\n",
    "    bst = lgbm.train(params, dtrain)\n",
    "    preds = bst.predict(test[boruta_features])\n",
    "\n",
    "    score = roc_auc_score(test[target_column], preds)\n",
    "\n",
    "    return score\n",
    "\n",
    "set_verbosity(optuna.logging.ERROR)\n",
    "study = optuna.create_study(direction=\"maximize\",\n",
    "                            pruner=HyperbandPruner(),\n",
    "                            sampler=TPESampler(seed=0)\n",
    "                           )\n",
    "study.optimize(objective, n_trials=50,show_progress_bar=True)"
   ]
  },
  {
   "cell_type": "code",
   "execution_count": 9,
   "id": "11ba9602-ca40-4fb5-b91c-8ec7e7ac9734",
   "metadata": {},
   "outputs": [
    {
     "data": {
      "text/plain": [
       "{'n_estimators': 5926, 'learning_rate': 0.005603627873630697}"
      ]
     },
     "execution_count": 9,
     "metadata": {},
     "output_type": "execute_result"
    }
   ],
   "source": [
    "study.best_params"
   ]
  },
  {
   "cell_type": "code",
   "execution_count": 61,
   "id": "0858ecb1-24fb-4a95-be67-c82356e7521d",
   "metadata": {},
   "outputs": [],
   "source": [
    "best_params_two = {\n",
    "\t'learner_params': {\n",
    "\t\t'learning_rate': 0.021424861729373922,\n",
    "\t\t'n_estimators': 2349,\n",
    "\t\t'extra_params': {\n",
    "\t\t\t'objective': 'binary',\n",
    "\t\t\t'metric': 'binary_logloss',\n",
    "\t\t\t'boosting_type': 'gbdt',\n",
    "\t\t\t 'lambda_l1': 0.00021744689137046032,\n",
    "             'lambda_l2': 6.07402119317552,\n",
    "             'num_leaves': 31,\n",
    "             'feature_fraction': 0.4,\n",
    "             'bagging_fraction': 0.7762748139696756,\n",
    "             'bagging_freq': 7,\n",
    "             'min_child_samples': 20,\n",
    "\t\t\t'n_jobs': -1,\n",
    "\t\t\t'random_state': 42,\n",
    "\t\t\t'monotone_constraints': None,\n",
    "\t\t\t'verbose': -1\n",
    "\t\t}\n",
    "\t}\n",
    "}"
   ]
  },
  {
   "cell_type": "code",
   "execution_count": 10,
   "id": "55093bc1-8d3e-41de-848d-2c25a72d39c3",
   "metadata": {},
   "outputs": [],
   "source": [
    "best_params_two = {\n",
    "\t'learner_params': {\n",
    "\t\t'n_estimators': 5926, \n",
    "        'learning_rate': 0.005603627873630697,\n",
    "\t\t'extra_params': {\n",
    "\t\t\t'objective': 'binary',\n",
    "\t\t\t'metric': 'binary_logloss',\n",
    "\t\t\t'boosting_type': 'gbdt',\n",
    "\t\t\t 'lambda_l1': 0.00021744689137046032,\n",
    "             'lambda_l2': 6.07402119317552,\n",
    "             'num_leaves': 31,\n",
    "             'feature_fraction': 0.4,\n",
    "             'bagging_fraction': 0.7762748139696756,\n",
    "             'bagging_freq': 7,\n",
    "             'min_child_samples': 20,\n",
    "\t\t\t'n_jobs': -1,\n",
    "\t\t\t'random_state': 42,\n",
    "\t\t\t'monotone_constraints': None,\n",
    "\t\t\t'verbose': -1\n",
    "\t\t}\n",
    "\t}\n",
    "}"
   ]
  },
  {
   "cell_type": "code",
   "execution_count": 11,
   "id": "37e75df6-e7eb-45ad-bac6-0e4f89369e2e",
   "metadata": {},
   "outputs": [
    {
     "name": "stderr",
     "output_type": "stream",
     "text": [
      "2023-09-24T22:19:17 | INFO | Starting pipeline: Generating 3 k-fold training...\n",
      "2023-09-24T22:19:19 | INFO | Training for fold 1\n",
      "2023-09-24T22:22:43 | INFO | Training for fold 2\n",
      "2023-09-24T22:26:19 | INFO | Training for fold 3\n",
      "2023-09-24T22:29:58 | INFO | CV training finished!\n",
      "2023-09-24T22:29:58 | INFO | Training the model in the full dataset...\n",
      "2023-09-24T22:34:42 | INFO | Training process finished!\n",
      "2023-09-24T22:34:42 | INFO | Calculating metrics...\n",
      "2023-09-24T22:34:43 | INFO | Full process finished in 15.46 minutes.\n"
     ]
    }
   ],
   "source": [
    "challenger_two_logs = model_pipeline(train_df = train_df,\n",
    "                            validation_df = validation_df,\n",
    "                            params = best_params_two,\n",
    "                            target_column = target_column,\n",
    "                            features = boruta_features,\n",
    "                            cv = 3,\n",
    "                            random_state = 42,\n",
    "                            apply_shap = False\n",
    "                          )"
   ]
  },
  {
   "cell_type": "code",
   "execution_count": 14,
   "id": "093c8699-adb4-4736-84df-2d167691e073",
   "metadata": {},
   "outputs": [
    {
     "name": "stderr",
     "output_type": "stream",
     "text": [
      "2023-09-24T22:35:34 | INFO | Starting pipeline: Generating 3 k-fold training...\n",
      "2023-09-24T22:35:35 | INFO | Training for fold 1\n",
      "2023-09-24T22:38:12 | INFO | Training for fold 2\n",
      "2023-09-24T22:40:53 | INFO | Training for fold 3\n",
      "2023-09-24T22:43:46 | INFO | CV training finished!\n",
      "2023-09-24T22:43:46 | INFO | Training the model in the full dataset...\n",
      "2023-09-24T22:47:57 | INFO | Training process finished!\n",
      "2023-09-24T22:47:57 | INFO | Calculating metrics...\n",
      "2023-09-24T22:47:57 | INFO | Full process finished in 12.44 minutes.\n"
     ]
    }
   ],
   "source": [
    "boruta_logs = model_pipeline(train_df = train_df,\n",
    "                            validation_df = validation_df,\n",
    "                            params = test_params,\n",
    "                            target_column = target_column,\n",
    "                            features = boruta_features,\n",
    "                            cv = 3,\n",
    "                            random_state = 42,\n",
    "                            apply_shap = False\n",
    "                          )"
   ]
  },
  {
   "cell_type": "markdown",
   "id": "e4fb89c7-bd9a-4893-a9d1-a11ad3bc5b26",
   "metadata": {},
   "source": [
    "## Performance comparison"
   ]
  },
  {
   "cell_type": "code",
   "execution_count": 26,
   "id": "0e3d57dc-fda9-4276-9407-411ffad60776",
   "metadata": {},
   "outputs": [
    {
     "data": {
      "text/html": [
       "<div>\n",
       "<style scoped>\n",
       "    .dataframe tbody tr th:only-of-type {\n",
       "        vertical-align: middle;\n",
       "    }\n",
       "\n",
       "    .dataframe tbody tr th {\n",
       "        vertical-align: top;\n",
       "    }\n",
       "\n",
       "    .dataframe thead th {\n",
       "        text-align: right;\n",
       "    }\n",
       "</style>\n",
       "<table border=\"1\" class=\"dataframe\">\n",
       "  <thead>\n",
       "    <tr style=\"text-align: right;\">\n",
       "      <th></th>\n",
       "      <th>out_of_fold</th>\n",
       "      <th>validation</th>\n",
       "    </tr>\n",
       "  </thead>\n",
       "  <tbody>\n",
       "    <tr>\n",
       "      <th>boruta + Optuna integration</th>\n",
       "      <td>0.795680</td>\n",
       "      <td>0.800874</td>\n",
       "    </tr>\n",
       "    <tr>\n",
       "      <th>boruta vanilla</th>\n",
       "      <td>0.792510</td>\n",
       "      <td>0.799865</td>\n",
       "    </tr>\n",
       "    <tr>\n",
       "      <th>boruta + Optuna base</th>\n",
       "      <td>0.789507</td>\n",
       "      <td>0.795329</td>\n",
       "    </tr>\n",
       "  </tbody>\n",
       "</table>\n",
       "</div>"
      ],
      "text/plain": [
       "                             out_of_fold  validation\n",
       "boruta + Optuna integration     0.795680    0.800874\n",
       "boruta vanilla                  0.792510    0.799865\n",
       "boruta + Optuna base            0.789507    0.795329"
      ]
     },
     "execution_count": 26,
     "metadata": {},
     "output_type": "execute_result"
    }
   ],
   "source": [
    "model_metrics  ={}\n",
    "models = [boruta_logs, challenger_one_logs, challenger_two_logs]\n",
    "names = [\"boruta vanilla\", \"boruta + Optuna base\", \"boruta + Optuna integration\"]\n",
    "\n",
    "for model, name in zip(models, names):\n",
    "    model_metrics[f\"{name}\"] = model[\"metrics\"][\"roc_auc\"]\n",
    "pd.DataFrame(model_metrics).T.sort_values(by = \"validation\", ascending = False)"
   ]
  },
  {
   "cell_type": "code",
   "execution_count": 27,
   "id": "7cda6ba8-3479-45d7-9a6e-0394d928dc9d",
   "metadata": {},
   "outputs": [],
   "source": [
    "pass"
   ]
  }
 ],
 "metadata": {
  "kernelspec": {
   "display_name": "Python 3 (ipykernel)",
   "language": "python",
   "name": "python3"
  },
  "language_info": {
   "codemirror_mode": {
    "name": "ipython",
    "version": 3
   },
   "file_extension": ".py",
   "mimetype": "text/x-python",
   "name": "python",
   "nbconvert_exporter": "python",
   "pygments_lexer": "ipython3",
   "version": "3.9.16"
  }
 },
 "nbformat": 4,
 "nbformat_minor": 5
}
