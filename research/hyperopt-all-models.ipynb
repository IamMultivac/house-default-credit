{
 "cells": [
  {
   "cell_type": "markdown",
   "id": "81019435-a7f1-40f1-9696-246a7adcad72",
   "metadata": {},
   "source": [
    "# Hyperparameter Optimization All models\n",
    "\n",
    "## Rationale:\n",
    "In order to make a fair comparisson in performance, we are to tune the hyperparamters for all the models so that we can optimize the performance of each model and then compared then to see if we may be affecting because a bad initial setup.\n",
    "\n",
    "## Methodology:\n",
    "We conducted hyperparameter optimization using the Optuna library, which provides a powerful and efficient platform for automated hyperparameter tuning.\n",
    "\n",
    "We are to Use the ```LightGBM Integration``` which optimizes the hyperparamters in a sequential way and focuses on the parameters that have the highest impact on model performance for Boosting models:\n",
    "\n",
    "\n",
    "\n",
    "* **lambda_l1**\n",
    "* **lambda_l2**\n",
    "* **num_leaves**\n",
    "* **feature_fraction**\n",
    "* **bagging_fraction**\n",
    "* **bagging_freq**\n",
    "* **min_child_samples**\n",
    "\n",
    "For the **num_estimators** and **learning_rate** we are to use the ones found on the best model optimization.\n",
    "\n",
    "## Conclusions:\n",
    "The results of our hyperparameter optimization study yielded valuable insights into improving the LightGBM model's performance. For all the models we achived an increased in performance as compared with the initial model comparisson. (see ```feature-selection``` notebook) Yet, the boruta model continues to have the highest performance.\n",
    "\n",
    "\n",
    "| Model             | out_of_fold | validation |\n",
    "|-------------------|-------------|------------|\n",
    "| boruta [426]      | 0.795680    | 0.800874   |\n",
    "| ensemble [820]    | 0.792880    | 0.799627   |\n",
    "| fw [329]          | 0.792839    | 0.799425   |\n",
    "| all features [1147]| 0.791760    | 0.799144   |\n",
    "| optuna [555]      | 0.788259    | 0.795938   |\n",
    "\n",
    "\n"
   ]
  },
  {
   "cell_type": "code",
   "execution_count": 1,
   "id": "ece11e51-317a-4c77-a354-c65b68d3aec3",
   "metadata": {},
   "outputs": [],
   "source": [
    "%load_ext autoreload\n",
    "%autoreload 2\n",
    "\n",
    "import cloudpickle as cp\n",
    "\n",
    "import numpy as np\n",
    "import pandas as pd\n",
    "\n",
    "import lightgbm  as lgbm\n",
    "from sklearn.inspection import permutation_importance\n",
    "from sklearn.model_selection import train_test_split\n",
    "from copy import deepcopy\n",
    "\n",
    "from sklearn.model_selection import KFold, cross_val_score\n",
    "from sklearn.metrics import roc_auc_score\n",
    "\n",
    "import warnings;warnings.filterwarnings(\"ignore\")\n",
    "\n",
    "from optuna import visualization as optunaviz\n",
    "\n",
    "import optuna\n",
    "import optuna.integration.lightgbm as lgb\n",
    "\n",
    "from lightgbm import early_stopping\n",
    "from lightgbm import log_evaluation\n",
    "from optuna.logging import set_verbosity\n",
    "\n",
    "set_verbosity(optuna.logging.ERROR)\n",
    "\n",
    "import sys\n",
    "sys.path.append(\"../\")\n",
    "\n",
    "# local imports\n",
    "from src.learner_params import target_column, space_column, boruta_learner_params, test_params\n",
    "from utils.functions__utils import find_constraint\n",
    "\n",
    "from utils.feature_selection_lists import fw_features, boruta_features, optuna_features, ensemble_features\n",
    "from utils.features_lists import all_features_list\n",
    "\n",
    "from src.learner_params import MODEL_PARAMS\n",
    "\n",
    "from utils.functions__training import model_pipeline\n",
    "\n",
    "from src.learner_params import params_all, params_ensemble, params_fw, params_optuna"
   ]
  },
  {
   "cell_type": "code",
   "execution_count": 2,
   "id": "e0918160-9518-46c4-84be-26aa03ffd3ef",
   "metadata": {},
   "outputs": [],
   "source": [
    "train_df = pd.read_pickle(\"../data/train_df.pkl\")\n",
    "validation_df = pd.read_pickle(\"../data/validation_df.pkl\")\n",
    "\n",
    "train, test = train_test_split(train_df, random_state=42, test_size=.2)"
   ]
  },
  {
   "cell_type": "markdown",
   "id": "3ce6e49b-c1a9-4ea2-bd7a-3dea770394e4",
   "metadata": {},
   "source": [
    "### All features"
   ]
  },
  {
   "cell_type": "code",
   "execution_count": 9,
   "id": "983d9448-fc8a-46b1-a510-e29afb4fde48",
   "metadata": {
    "collapsed": true,
    "jupyter": {
     "outputs_hidden": true
    }
   },
   "outputs": [
    {
     "name": "stderr",
     "output_type": "stream",
     "text": [
      "feature_fraction, val_score: -inf:   0%|                  | 0/7 [00:00<?, ?it/s]"
     ]
    },
    {
     "name": "stdout",
     "output_type": "stream",
     "text": [
      "Training until validation scores don't improve for 150 rounds\n"
     ]
    },
    {
     "name": "stderr",
     "output_type": "stream",
     "text": [
      "feature_fraction, val_score: 0.788152:  14%|7    | 1/7 [05:57<35:46, 357.76s/it]"
     ]
    },
    {
     "name": "stdout",
     "output_type": "stream",
     "text": [
      "Early stopping, best iteration is:\n",
      "[3053]\tvalid_0's auc: 0.893864\tvalid_1's auc: 0.788152\n"
     ]
    },
    {
     "name": "stderr",
     "output_type": "stream",
     "text": [
      "feature_fraction, val_score: 0.788152:  14%|7    | 1/7 [05:57<35:46, 357.76s/it]"
     ]
    },
    {
     "name": "stdout",
     "output_type": "stream",
     "text": [
      "Training until validation scores don't improve for 150 rounds\n"
     ]
    },
    {
     "name": "stderr",
     "output_type": "stream",
     "text": [
      "feature_fraction, val_score: 0.788152:  29%|#4   | 2/7 [11:33<28:45, 345.02s/it]"
     ]
    },
    {
     "name": "stdout",
     "output_type": "stream",
     "text": [
      "Early stopping, best iteration is:\n",
      "[3211]\tvalid_0's auc: 0.897809\tvalid_1's auc: 0.787801\n"
     ]
    },
    {
     "name": "stderr",
     "output_type": "stream",
     "text": [
      "feature_fraction, val_score: 0.788152:  29%|#4   | 2/7 [11:33<28:45, 345.02s/it]"
     ]
    },
    {
     "name": "stdout",
     "output_type": "stream",
     "text": [
      "Training until validation scores don't improve for 150 rounds\n"
     ]
    },
    {
     "name": "stderr",
     "output_type": "stream",
     "text": [
      "feature_fraction, val_score: 0.788152:  43%|##1  | 3/7 [16:13<21:00, 315.19s/it]"
     ]
    },
    {
     "name": "stdout",
     "output_type": "stream",
     "text": [
      "Early stopping, best iteration is:\n",
      "[2413]\tvalid_0's auc: 0.878865\tvalid_1's auc: 0.786639\n",
      "Training until validation scores don't improve for 150 rounds\n"
     ]
    },
    {
     "name": "stderr",
     "output_type": "stream",
     "text": [
      "feature_fraction, val_score: 0.788152:  57%|##8  | 4/7 [20:20<14:24, 288.32s/it]"
     ]
    },
    {
     "name": "stdout",
     "output_type": "stream",
     "text": [
      "Early stopping, best iteration is:\n",
      "[1934]\tvalid_0's auc: 0.86529\tvalid_1's auc: 0.785783\n",
      "Training until validation scores don't improve for 150 rounds\n"
     ]
    },
    {
     "name": "stderr",
     "output_type": "stream",
     "text": [
      "feature_fraction, val_score: 0.788768:  71%|###5 | 5/7 [26:58<10:55, 327.98s/it]"
     ]
    },
    {
     "name": "stdout",
     "output_type": "stream",
     "text": [
      "Early stopping, best iteration is:\n",
      "[3295]\tvalid_0's auc: 0.896928\tvalid_1's auc: 0.788768\n"
     ]
    },
    {
     "name": "stderr",
     "output_type": "stream",
     "text": [
      "feature_fraction, val_score: 0.788768:  71%|###5 | 5/7 [26:59<10:55, 327.98s/it]"
     ]
    },
    {
     "name": "stdout",
     "output_type": "stream",
     "text": [
      "Training until validation scores don't improve for 150 rounds\n",
      "Early stopping, best iteration is:\n",
      "[4456]\tvalid_0's auc: 0.918958\tvalid_1's auc: 0.789111\n"
     ]
    },
    {
     "name": "stderr",
     "output_type": "stream",
     "text": [
      "feature_fraction, val_score: 0.789111:  86%|####2| 6/7 [36:57<06:59, 419.98s/it]"
     ]
    },
    {
     "name": "stdout",
     "output_type": "stream",
     "text": [
      "Training until validation scores don't improve for 150 rounds\n"
     ]
    },
    {
     "name": "stderr",
     "output_type": "stream",
     "text": [
      "feature_fraction, val_score: 0.789111: 100%|#####| 7/7 [42:27<00:00, 390.46s/it]"
     ]
    },
    {
     "name": "stdout",
     "output_type": "stream",
     "text": [
      "Early stopping, best iteration is:\n",
      "[2806]\tvalid_0's auc: 0.88866\tvalid_1's auc: 0.786911\n"
     ]
    },
    {
     "name": "stderr",
     "output_type": "stream",
     "text": [
      "feature_fraction, val_score: 0.789111: 100%|#####| 7/7 [42:27<00:00, 363.90s/it]\n",
      "num_leaves, val_score: 0.789111:   0%|                   | 0/20 [00:00<?, ?it/s]"
     ]
    },
    {
     "name": "stdout",
     "output_type": "stream",
     "text": [
      "Training until validation scores don't improve for 150 rounds\n"
     ]
    },
    {
     "name": "stderr",
     "output_type": "stream",
     "text": [
      "num_leaves, val_score: 0.789111:   5%|4       | 1/20 [09:05<2:52:53, 545.99s/it]"
     ]
    },
    {
     "name": "stdout",
     "output_type": "stream",
     "text": [
      "Early stopping, best iteration is:\n",
      "[3970]\tvalid_0's auc: 0.896569\tvalid_1's auc: 0.788543\n"
     ]
    },
    {
     "name": "stderr",
     "output_type": "stream",
     "text": [
      "num_leaves, val_score: 0.789111:   5%|4       | 1/20 [09:06<2:52:53, 545.99s/it]"
     ]
    },
    {
     "name": "stdout",
     "output_type": "stream",
     "text": [
      "Training until validation scores don't improve for 150 rounds\n"
     ]
    },
    {
     "name": "stderr",
     "output_type": "stream",
     "text": [
      "num_leaves, val_score: 0.789111:  10%|8       | 2/20 [20:30<3:08:12, 627.37s/it]"
     ]
    },
    {
     "name": "stdout",
     "output_type": "stream",
     "text": [
      "Did not meet early stopping. Best iteration is:\n",
      "[5926]\tvalid_0's auc: 0.836435\tvalid_1's auc: 0.787383\n"
     ]
    },
    {
     "name": "stderr",
     "output_type": "stream",
     "text": [
      "num_leaves, val_score: 0.789111:  10%|8       | 2/20 [20:30<3:08:12, 627.37s/it]"
     ]
    },
    {
     "name": "stdout",
     "output_type": "stream",
     "text": [
      "Training until validation scores don't improve for 150 rounds\n",
      "Early stopping, best iteration is:\n",
      "[1882]\tvalid_0's auc: 0.991577\tvalid_1's auc: 0.78903\n"
     ]
    },
    {
     "name": "stderr",
     "output_type": "stream",
     "text": [
      "num_leaves, val_score: 0.789111:  15%|#2      | 3/20 [28:20<2:37:21, 555.40s/it]"
     ]
    },
    {
     "name": "stdout",
     "output_type": "stream",
     "text": [
      "Training until validation scores don't improve for 150 rounds\n",
      "Early stopping, best iteration is:\n",
      "[1799]\tvalid_0's auc: 0.997753\tvalid_1's auc: 0.788664\n"
     ]
    },
    {
     "name": "stderr",
     "output_type": "stream",
     "text": [
      "num_leaves, val_score: 0.789111:  20%|#6      | 4/20 [37:47<2:29:21, 560.11s/it]"
     ]
    },
    {
     "name": "stdout",
     "output_type": "stream",
     "text": [
      "Training until validation scores don't improve for 150 rounds\n",
      "Early stopping, best iteration is:\n",
      "[1708]\tvalid_0's auc: 0.99055\tvalid_1's auc: 0.78898\n"
     ]
    },
    {
     "name": "stderr",
     "output_type": "stream",
     "text": [
      "num_leaves, val_score: 0.789111:  25%|##      | 5/20 [45:18<2:10:09, 520.60s/it]"
     ]
    },
    {
     "name": "stdout",
     "output_type": "stream",
     "text": [
      "Training until validation scores don't improve for 150 rounds\n",
      "Early stopping, best iteration is:\n",
      "[1958]\tvalid_0's auc: 0.974764\tvalid_1's auc: 0.789403\n"
     ]
    },
    {
     "name": "stderr",
     "output_type": "stream",
     "text": [
      "num_leaves, val_score: 0.789403:  30%|##4     | 6/20 [52:20<1:53:40, 487.18s/it]"
     ]
    },
    {
     "name": "stdout",
     "output_type": "stream",
     "text": [
      "Training until validation scores don't improve for 150 rounds\n",
      "Early stopping, best iteration is:\n",
      "[2323]\tvalid_0's auc: 0.969139\tvalid_1's auc: 0.789386\n"
     ]
    },
    {
     "name": "stderr",
     "output_type": "stream",
     "text": [
      "num_leaves, val_score: 0.789403:  35%|##8     | 7/20 [59:54<1:43:11, 476.29s/it]"
     ]
    },
    {
     "name": "stdout",
     "output_type": "stream",
     "text": [
      "Training until validation scores don't improve for 150 rounds\n",
      "Early stopping, best iteration is:\n",
      "[2344]\tvalid_0's auc: 0.981138\tvalid_1's auc: 0.789517\n"
     ]
    },
    {
     "name": "stderr",
     "output_type": "stream",
     "text": [
      "num_leaves, val_score: 0.789517:  40%|##4   | 8/20 [1:07:37<1:34:25, 472.15s/it]"
     ]
    },
    {
     "name": "stdout",
     "output_type": "stream",
     "text": [
      "Training until validation scores don't improve for 150 rounds\n",
      "Early stopping, best iteration is:\n",
      "[2525]\tvalid_0's auc: 0.975928\tvalid_1's auc: 0.789432\n"
     ]
    },
    {
     "name": "stderr",
     "output_type": "stream",
     "text": [
      "num_leaves, val_score: 0.789517:  45%|##7   | 9/20 [1:15:25<1:26:18, 470.80s/it]"
     ]
    },
    {
     "name": "stdout",
     "output_type": "stream",
     "text": [
      "Training until validation scores don't improve for 150 rounds\n",
      "Early stopping, best iteration is:\n",
      "[2648]\tvalid_0's auc: 0.959096\tvalid_1's auc: 0.788852\n"
     ]
    },
    {
     "name": "stderr",
     "output_type": "stream",
     "text": [
      "num_leaves, val_score: 0.789517:  50%|##5  | 10/20 [1:22:45<1:16:54, 461.41s/it]"
     ]
    },
    {
     "name": "stdout",
     "output_type": "stream",
     "text": [
      "Training until validation scores don't improve for 150 rounds\n",
      "Early stopping, best iteration is:\n",
      "[1637]\tvalid_0's auc: 0.982003\tvalid_1's auc: 0.789606\n"
     ]
    },
    {
     "name": "stderr",
     "output_type": "stream",
     "text": [
      "num_leaves, val_score: 0.789606:  55%|##7  | 11/20 [1:29:05<1:05:27, 436.44s/it]"
     ]
    },
    {
     "name": "stdout",
     "output_type": "stream",
     "text": [
      "Training until validation scores don't improve for 150 rounds\n",
      "Early stopping, best iteration is:\n",
      "[1869]\tvalid_0's auc: 0.98923\tvalid_1's auc: 0.789241\n"
     ]
    },
    {
     "name": "stderr",
     "output_type": "stream",
     "text": [
      "num_leaves, val_score: 0.789606:  60%|####2  | 12/20 [1:36:16<57:58, 434.79s/it]"
     ]
    },
    {
     "name": "stdout",
     "output_type": "stream",
     "text": [
      "Training until validation scores don't improve for 150 rounds\n",
      "Early stopping, best iteration is:\n",
      "[1998]\tvalid_0's auc: 0.9855\tvalid_1's auc: 0.789645\n"
     ]
    },
    {
     "name": "stderr",
     "output_type": "stream",
     "text": [
      "num_leaves, val_score: 0.789645:  65%|####5  | 13/20 [1:43:30<50:41, 434.50s/it]"
     ]
    },
    {
     "name": "stdout",
     "output_type": "stream",
     "text": [
      "Training until validation scores don't improve for 150 rounds\n",
      "Early stopping, best iteration is:\n",
      "[1569]\tvalid_0's auc: 0.977756\tvalid_1's auc: 0.788527\n"
     ]
    },
    {
     "name": "stderr",
     "output_type": "stream",
     "text": [
      "num_leaves, val_score: 0.789645:  70%|####8  | 14/20 [1:49:34<41:18, 413.10s/it]"
     ]
    },
    {
     "name": "stdout",
     "output_type": "stream",
     "text": [
      "Training until validation scores don't improve for 150 rounds\n",
      "Early stopping, best iteration is:\n",
      "[2124]\tvalid_0's auc: 0.985865\tvalid_1's auc: 0.78926\n"
     ]
    },
    {
     "name": "stderr",
     "output_type": "stream",
     "text": [
      "num_leaves, val_score: 0.789645:  75%|#####2 | 15/20 [1:57:03<35:19, 423.92s/it]"
     ]
    },
    {
     "name": "stdout",
     "output_type": "stream",
     "text": [
      "Training until validation scores don't improve for 150 rounds\n",
      "Early stopping, best iteration is:\n",
      "[1946]\tvalid_0's auc: 0.997139\tvalid_1's auc: 0.789184\n"
     ]
    },
    {
     "name": "stderr",
     "output_type": "stream",
     "text": [
      "num_leaves, val_score: 0.789645:  80%|#####6 | 16/20 [2:06:57<31:40, 475.18s/it]"
     ]
    },
    {
     "name": "stdout",
     "output_type": "stream",
     "text": [
      "Training until validation scores don't improve for 150 rounds\n",
      "Early stopping, best iteration is:\n",
      "[3307]\tvalid_0's auc: 0.951359\tvalid_1's auc: 0.788835\n"
     ]
    },
    {
     "name": "stderr",
     "output_type": "stream",
     "text": [
      "num_leaves, val_score: 0.789645:  85%|#####9 | 17/20 [2:15:51<24:38, 492.86s/it]"
     ]
    },
    {
     "name": "stdout",
     "output_type": "stream",
     "text": [
      "Training until validation scores don't improve for 150 rounds\n",
      "Early stopping, best iteration is:\n",
      "[1932]\tvalid_0's auc: 0.97274\tvalid_1's auc: 0.789163\n"
     ]
    },
    {
     "name": "stderr",
     "output_type": "stream",
     "text": [
      "num_leaves, val_score: 0.789645:  90%|######3| 18/20 [2:22:46<15:38, 469.41s/it]"
     ]
    },
    {
     "name": "stdout",
     "output_type": "stream",
     "text": [
      "Training until validation scores don't improve for 150 rounds\n",
      "Early stopping, best iteration is:\n",
      "[1880]\tvalid_0's auc: 0.98406\tvalid_1's auc: 0.789416\n"
     ]
    },
    {
     "name": "stderr",
     "output_type": "stream",
     "text": [
      "num_leaves, val_score: 0.789645:  95%|######6| 19/20 [2:30:03<07:39, 459.90s/it]"
     ]
    },
    {
     "name": "stdout",
     "output_type": "stream",
     "text": [
      "Training until validation scores don't improve for 150 rounds\n",
      "Early stopping, best iteration is:\n",
      "[2084]\tvalid_0's auc: 0.997136\tvalid_1's auc: 0.789451\n"
     ]
    },
    {
     "name": "stderr",
     "output_type": "stream",
     "text": [
      "num_leaves, val_score: 0.789645: 100%|#######| 20/20 [2:39:45<00:00, 479.26s/it]\n",
      "bagging, val_score: 0.789645:   0%|                      | 0/10 [00:00<?, ?it/s]"
     ]
    },
    {
     "name": "stdout",
     "output_type": "stream",
     "text": [
      "Training until validation scores don't improve for 150 rounds\n",
      "Early stopping, best iteration is:\n",
      "[1828]\tvalid_0's auc: 0.982507\tvalid_1's auc: 0.789493\n"
     ]
    },
    {
     "name": "stderr",
     "output_type": "stream",
     "text": [
      "bagging, val_score: 0.789645:  10%|#1         | 1/10 [07:12<1:04:53, 432.65s/it]"
     ]
    },
    {
     "name": "stdout",
     "output_type": "stream",
     "text": [
      "Training until validation scores don't improve for 150 rounds\n",
      "Early stopping, best iteration is:\n",
      "[2110]\tvalid_0's auc: 0.989201\tvalid_1's auc: 0.790014\n"
     ]
    },
    {
     "name": "stderr",
     "output_type": "stream",
     "text": [
      "bagging, val_score: 0.790014:  20%|##6          | 2/10 [14:22<57:26, 430.76s/it]"
     ]
    },
    {
     "name": "stdout",
     "output_type": "stream",
     "text": [
      "Training until validation scores don't improve for 150 rounds\n",
      "Early stopping, best iteration is:\n",
      "[1887]\tvalid_0's auc: 0.984511\tvalid_1's auc: 0.789192\n"
     ]
    },
    {
     "name": "stderr",
     "output_type": "stream",
     "text": [
      "bagging, val_score: 0.790014:  30%|###9         | 3/10 [20:48<47:52, 410.34s/it]"
     ]
    },
    {
     "name": "stdout",
     "output_type": "stream",
     "text": [
      "Training until validation scores don't improve for 150 rounds\n",
      "Early stopping, best iteration is:\n",
      "[1891]\tvalid_0's auc: 0.984737\tvalid_1's auc: 0.78904\n"
     ]
    },
    {
     "name": "stderr",
     "output_type": "stream",
     "text": [
      "bagging, val_score: 0.790014:  40%|#####2       | 4/10 [27:16<40:09, 401.61s/it]"
     ]
    },
    {
     "name": "stdout",
     "output_type": "stream",
     "text": [
      "Training until validation scores don't improve for 150 rounds\n",
      "Early stopping, best iteration is:\n",
      "[2309]\tvalid_0's auc: 0.992061\tvalid_1's auc: 0.789967\n"
     ]
    },
    {
     "name": "stderr",
     "output_type": "stream",
     "text": [
      "bagging, val_score: 0.790014:  50%|######5      | 5/10 [35:27<36:10, 434.03s/it]"
     ]
    },
    {
     "name": "stdout",
     "output_type": "stream",
     "text": [
      "Training until validation scores don't improve for 150 rounds\n",
      "Early stopping, best iteration is:\n",
      "[2713]\tvalid_0's auc: 0.995829\tvalid_1's auc: 0.790303\n"
     ]
    },
    {
     "name": "stderr",
     "output_type": "stream",
     "text": [
      "bagging, val_score: 0.790303:  60%|#######8     | 6/10 [44:55<31:58, 479.55s/it]"
     ]
    },
    {
     "name": "stdout",
     "output_type": "stream",
     "text": [
      "Training until validation scores don't improve for 150 rounds\n",
      "Early stopping, best iteration is:\n",
      "[2312]\tvalid_0's auc: 0.992105\tvalid_1's auc: 0.790166\n"
     ]
    },
    {
     "name": "stderr",
     "output_type": "stream",
     "text": [
      "bagging, val_score: 0.790303:  70%|#########1   | 7/10 [53:01<24:04, 481.64s/it]"
     ]
    },
    {
     "name": "stdout",
     "output_type": "stream",
     "text": [
      "Training until validation scores don't improve for 150 rounds\n",
      "Early stopping, best iteration is:\n",
      "[2535]\tvalid_0's auc: 0.994293\tvalid_1's auc: 0.790746\n"
     ]
    },
    {
     "name": "stderr",
     "output_type": "stream",
     "text": [
      "bagging, val_score: 0.790746:  80%|########8  | 8/10 [1:01:50<16:33, 496.61s/it]"
     ]
    },
    {
     "name": "stdout",
     "output_type": "stream",
     "text": [
      "Training until validation scores don't improve for 150 rounds\n",
      "Early stopping, best iteration is:\n",
      "[2338]\tvalid_0's auc: 0.992472\tvalid_1's auc: 0.789741\n"
     ]
    },
    {
     "name": "stderr",
     "output_type": "stream",
     "text": [
      "bagging, val_score: 0.790746:  90%|#########9 | 9/10 [1:10:02<08:15, 495.10s/it]"
     ]
    },
    {
     "name": "stdout",
     "output_type": "stream",
     "text": [
      "Training until validation scores don't improve for 150 rounds\n",
      "Early stopping, best iteration is:\n",
      "[2413]\tvalid_0's auc: 0.993198\tvalid_1's auc: 0.789554\n"
     ]
    },
    {
     "name": "stderr",
     "output_type": "stream",
     "text": [
      "bagging, val_score: 0.790746: 100%|##########| 10/10 [1:18:25<00:00, 470.51s/it]\n",
      "feature_fraction_stage2, val_score: 0.790746:   0%|       | 0/6 [00:00<?, ?it/s]"
     ]
    },
    {
     "name": "stdout",
     "output_type": "stream",
     "text": [
      "Training until validation scores don't improve for 150 rounds\n",
      "Early stopping, best iteration is:\n",
      "[2547]\tvalid_0's auc: 0.994588\tvalid_1's auc: 0.789888\n"
     ]
    },
    {
     "name": "stderr",
     "output_type": "stream",
     "text": [
      "feature_fraction_stage2, val_score: 0.790746:  17%|1| 1/6 [09:19<46:39, 559.90s/"
     ]
    },
    {
     "name": "stdout",
     "output_type": "stream",
     "text": [
      "Training until validation scores don't improve for 150 rounds\n",
      "Early stopping, best iteration is:\n",
      "[2341]\tvalid_0's auc: 0.99241\tvalid_1's auc: 0.790551\n"
     ]
    },
    {
     "name": "stderr",
     "output_type": "stream",
     "text": [
      "feature_fraction_stage2, val_score: 0.790746:  33%|3| 2/6 [17:44<35:10, 527.56s/"
     ]
    },
    {
     "name": "stdout",
     "output_type": "stream",
     "text": [
      "Training until validation scores don't improve for 150 rounds\n",
      "Early stopping, best iteration is:\n",
      "[2359]\tvalid_0's auc: 0.992462\tvalid_1's auc: 0.790349\n"
     ]
    },
    {
     "name": "stderr",
     "output_type": "stream",
     "text": [
      "feature_fraction_stage2, val_score: 0.790746:  50%|5| 3/6 [25:53<25:28, 509.56s/"
     ]
    },
    {
     "name": "stdout",
     "output_type": "stream",
     "text": [
      "Training until validation scores don't improve for 150 rounds\n",
      "Early stopping, best iteration is:\n",
      "[2279]\tvalid_0's auc: 0.991967\tvalid_1's auc: 0.790303\n"
     ]
    },
    {
     "name": "stderr",
     "output_type": "stream",
     "text": [
      "feature_fraction_stage2, val_score: 0.790746:  67%|6| 4/6 [34:33<17:07, 513.93s/"
     ]
    },
    {
     "name": "stdout",
     "output_type": "stream",
     "text": [
      "Training until validation scores don't improve for 150 rounds\n",
      "Early stopping, best iteration is:\n",
      "[2142]\tvalid_0's auc: 0.989167\tvalid_1's auc: 0.790482\n"
     ]
    },
    {
     "name": "stderr",
     "output_type": "stream",
     "text": [
      "feature_fraction_stage2, val_score: 0.790746:  83%|8| 5/6 [41:47<08:05, 485.13s/"
     ]
    },
    {
     "name": "stdout",
     "output_type": "stream",
     "text": [
      "Training until validation scores don't improve for 150 rounds\n",
      "Early stopping, best iteration is:\n",
      "[2657]\tvalid_0's auc: 0.995038\tvalid_1's auc: 0.789868\n"
     ]
    },
    {
     "name": "stderr",
     "output_type": "stream",
     "text": [
      "feature_fraction_stage2, val_score: 0.790746: 100%|#| 6/6 [50:11<00:00, 501.85s/\n",
      "regularization_factors, val_score: 0.790746:   0%|       | 0/20 [00:00<?, ?it/s]"
     ]
    },
    {
     "name": "stdout",
     "output_type": "stream",
     "text": [
      "Training until validation scores don't improve for 150 rounds\n",
      "Early stopping, best iteration is:\n",
      "[2544]\tvalid_0's auc: 0.994394\tvalid_1's auc: 0.790375\n"
     ]
    },
    {
     "name": "stderr",
     "output_type": "stream",
     "text": [
      "regularization_factors, val_score: 0.790746:   5%| | 1/20 [09:11<2:54:41, 551.63"
     ]
    },
    {
     "name": "stdout",
     "output_type": "stream",
     "text": [
      "Training until validation scores don't improve for 150 rounds\n",
      "Early stopping, best iteration is:\n",
      "[2242]\tvalid_0's auc: 0.990986\tvalid_1's auc: 0.790249\n"
     ]
    },
    {
     "name": "stderr",
     "output_type": "stream",
     "text": [
      "regularization_factors, val_score: 0.790746:  10%|1| 2/20 [17:32<2:36:32, 521.82"
     ]
    },
    {
     "name": "stdout",
     "output_type": "stream",
     "text": [
      "Training until validation scores don't improve for 150 rounds\n",
      "Early stopping, best iteration is:\n",
      "[2023]\tvalid_0's auc: 0.987411\tvalid_1's auc: 0.79018\n"
     ]
    },
    {
     "name": "stderr",
     "output_type": "stream",
     "text": [
      "regularization_factors, val_score: 0.790746:  15%|1| 3/20 [25:12<2:19:49, 493.52"
     ]
    },
    {
     "name": "stdout",
     "output_type": "stream",
     "text": [
      "Training until validation scores don't improve for 150 rounds\n",
      "Early stopping, best iteration is:\n",
      "[1993]\tvalid_0's auc: 0.957103\tvalid_1's auc: 0.791717\n"
     ]
    },
    {
     "name": "stderr",
     "output_type": "stream",
     "text": [
      "regularization_factors, val_score: 0.791717:  20%|2| 4/20 [33:49<2:14:02, 502.68"
     ]
    },
    {
     "name": "stdout",
     "output_type": "stream",
     "text": [
      "Training until validation scores don't improve for 150 rounds\n",
      "Early stopping, best iteration is:\n",
      "[2072]\tvalid_0's auc: 0.977167\tvalid_1's auc: 0.790995\n"
     ]
    },
    {
     "name": "stderr",
     "output_type": "stream",
     "text": [
      "regularization_factors, val_score: 0.791717:  25%|2| 5/20 [42:08<2:05:22, 501.50"
     ]
    },
    {
     "name": "stdout",
     "output_type": "stream",
     "text": [
      "Training until validation scores don't improve for 150 rounds\n",
      "Early stopping, best iteration is:\n",
      "[2169]\tvalid_0's auc: 0.969216\tvalid_1's auc: 0.791473\n"
     ]
    },
    {
     "name": "stderr",
     "output_type": "stream",
     "text": [
      "regularization_factors, val_score: 0.791717:  30%|3| 6/20 [51:20<2:01:02, 518.77"
     ]
    },
    {
     "name": "stdout",
     "output_type": "stream",
     "text": [
      "Training until validation scores don't improve for 150 rounds\n",
      "Early stopping, best iteration is:\n",
      "[2046]\tvalid_0's auc: 0.958806\tvalid_1's auc: 0.791876\n"
     ]
    },
    {
     "name": "stderr",
     "output_type": "stream",
     "text": [
      "regularization_factors, val_score: 0.791876:  35%|3| 7/20 [1:00:18<1:53:45, 525."
     ]
    },
    {
     "name": "stdout",
     "output_type": "stream",
     "text": [
      "Training until validation scores don't improve for 150 rounds\n",
      "Early stopping, best iteration is:\n",
      "[2194]\tvalid_0's auc: 0.963355\tvalid_1's auc: 0.791758\n"
     ]
    },
    {
     "name": "stderr",
     "output_type": "stream",
     "text": [
      "regularization_factors, val_score: 0.791876:  40%|4| 8/20 [1:09:50<1:47:57, 539."
     ]
    },
    {
     "name": "stdout",
     "output_type": "stream",
     "text": [
      "Training until validation scores don't improve for 150 rounds\n",
      "Early stopping, best iteration is:\n",
      "[1770]\tvalid_0's auc: 0.9533\tvalid_1's auc: 0.791044\n"
     ]
    },
    {
     "name": "stderr",
     "output_type": "stream",
     "text": [
      "regularization_factors, val_score: 0.791876:  45%|4| 9/20 [1:17:28<1:34:18, 514."
     ]
    },
    {
     "name": "stdout",
     "output_type": "stream",
     "text": [
      "Training until validation scores don't improve for 150 rounds\n",
      "Early stopping, best iteration is:\n",
      "[2168]\tvalid_0's auc: 0.964322\tvalid_1's auc: 0.79183\n"
     ]
    },
    {
     "name": "stderr",
     "output_type": "stream",
     "text": [
      "regularization_factors, val_score: 0.791876:  50%|5| 10/20 [1:26:50<1:28:09, 528"
     ]
    },
    {
     "name": "stdout",
     "output_type": "stream",
     "text": [
      "Training until validation scores don't improve for 150 rounds\n",
      "Early stopping, best iteration is:\n",
      "[2077]\tvalid_0's auc: 0.958474\tvalid_1's auc: 0.791764\n"
     ]
    },
    {
     "name": "stderr",
     "output_type": "stream",
     "text": [
      "regularization_factors, val_score: 0.791876:  55%|5| 11/20 [1:35:50<1:19:51, 532"
     ]
    },
    {
     "name": "stdout",
     "output_type": "stream",
     "text": [
      "Training until validation scores don't improve for 150 rounds\n",
      "Early stopping, best iteration is:\n",
      "[2021]\tvalid_0's auc: 0.95651\tvalid_1's auc: 0.792268\n"
     ]
    },
    {
     "name": "stderr",
     "output_type": "stream",
     "text": [
      "regularization_factors, val_score: 0.792268:  60%|6| 12/20 [1:44:36<1:10:42, 530"
     ]
    },
    {
     "name": "stdout",
     "output_type": "stream",
     "text": [
      "Training until validation scores don't improve for 150 rounds\n",
      "Early stopping, best iteration is:\n",
      "[1983]\tvalid_0's auc: 0.953536\tvalid_1's auc: 0.791591\n"
     ]
    },
    {
     "name": "stderr",
     "output_type": "stream",
     "text": [
      "regularization_factors, val_score: 0.792268:  65%|6| 13/20 [1:53:12<1:01:22, 526"
     ]
    },
    {
     "name": "stdout",
     "output_type": "stream",
     "text": [
      "Training until validation scores don't improve for 150 rounds\n",
      "Early stopping, best iteration is:\n",
      "[2181]\tvalid_0's auc: 0.964448\tvalid_1's auc: 0.791848\n"
     ]
    },
    {
     "name": "stderr",
     "output_type": "stream",
     "text": [
      "regularization_factors, val_score: 0.792268:  70%|7| 14/20 [2:02:29<53:33, 535.5"
     ]
    },
    {
     "name": "stdout",
     "output_type": "stream",
     "text": [
      "Training until validation scores don't improve for 150 rounds\n",
      "Early stopping, best iteration is:\n",
      "[2262]\tvalid_0's auc: 0.966884\tvalid_1's auc: 0.792006\n"
     ]
    },
    {
     "name": "stderr",
     "output_type": "stream",
     "text": [
      "regularization_factors, val_score: 0.792268:  75%|7| 15/20 [2:12:07<45:41, 548.2"
     ]
    },
    {
     "name": "stdout",
     "output_type": "stream",
     "text": [
      "Training until validation scores don't improve for 150 rounds\n",
      "Early stopping, best iteration is:\n",
      "[2057]\tvalid_0's auc: 0.985175\tvalid_1's auc: 0.790335\n"
     ]
    },
    {
     "name": "stderr",
     "output_type": "stream",
     "text": [
      "regularization_factors, val_score: 0.792268:  80%|8| 16/20 [2:20:02<35:05, 526.2"
     ]
    },
    {
     "name": "stdout",
     "output_type": "stream",
     "text": [
      "Training until validation scores don't improve for 150 rounds\n",
      "Early stopping, best iteration is:\n",
      "[1960]\tvalid_0's auc: 0.983947\tvalid_1's auc: 0.790136\n"
     ]
    },
    {
     "name": "stderr",
     "output_type": "stream",
     "text": [
      "regularization_factors, val_score: 0.792268:  85%|8| 17/20 [2:27:34<25:11, 503.9"
     ]
    },
    {
     "name": "stdout",
     "output_type": "stream",
     "text": [
      "Training until validation scores don't improve for 150 rounds\n",
      "Early stopping, best iteration is:\n",
      "[1833]\tvalid_0's auc: 0.978774\tvalid_1's auc: 0.790178\n"
     ]
    },
    {
     "name": "stderr",
     "output_type": "stream",
     "text": [
      "regularization_factors, val_score: 0.792268:  90%|9| 18/20 [2:34:45<16:03, 481.9"
     ]
    },
    {
     "name": "stdout",
     "output_type": "stream",
     "text": [
      "Training until validation scores don't improve for 150 rounds\n",
      "Early stopping, best iteration is:\n",
      "[2137]\tvalid_0's auc: 0.961235\tvalid_1's auc: 0.791725\n"
     ]
    },
    {
     "name": "stderr",
     "output_type": "stream",
     "text": [
      "regularization_factors, val_score: 0.792268:  95%|9| 19/20 [2:43:55<08:22, 502.5"
     ]
    },
    {
     "name": "stdout",
     "output_type": "stream",
     "text": [
      "Training until validation scores don't improve for 150 rounds\n",
      "Early stopping, best iteration is:\n",
      "[2238]\tvalid_0's auc: 0.962996\tvalid_1's auc: 0.791788\n"
     ]
    },
    {
     "name": "stderr",
     "output_type": "stream",
     "text": [
      "regularization_factors, val_score: 0.792268: 100%|#| 20/20 [2:53:35<00:00, 520.7\n",
      "min_data_in_leaf, val_score: 0.792268:   0%|              | 0/5 [00:00<?, ?it/s]"
     ]
    },
    {
     "name": "stdout",
     "output_type": "stream",
     "text": [
      "Training until validation scores don't improve for 150 rounds\n",
      "Early stopping, best iteration is:\n",
      "[2136]\tvalid_0's auc: 0.960835\tvalid_1's auc: 0.791867\n"
     ]
    },
    {
     "name": "stderr",
     "output_type": "stream",
     "text": [
      "min_data_in_leaf, val_score: 0.792268:  20%|#    | 1/5 [08:57<35:50, 537.56s/it]"
     ]
    },
    {
     "name": "stdout",
     "output_type": "stream",
     "text": [
      "Training until validation scores don't improve for 150 rounds\n",
      "Early stopping, best iteration is:\n",
      "[2196]\tvalid_0's auc: 0.963093\tvalid_1's auc: 0.791773\n"
     ]
    },
    {
     "name": "stderr",
     "output_type": "stream",
     "text": [
      "min_data_in_leaf, val_score: 0.792268:  40%|##   | 2/5 [18:16<27:30, 550.17s/it]"
     ]
    },
    {
     "name": "stdout",
     "output_type": "stream",
     "text": [
      "Training until validation scores don't improve for 150 rounds\n",
      "Early stopping, best iteration is:\n",
      "[2251]\tvalid_0's auc: 0.964909\tvalid_1's auc: 0.79196\n"
     ]
    },
    {
     "name": "stderr",
     "output_type": "stream",
     "text": [
      "min_data_in_leaf, val_score: 0.792268:  60%|###  | 3/5 [27:51<18:42, 561.25s/it]"
     ]
    },
    {
     "name": "stdout",
     "output_type": "stream",
     "text": [
      "Training until validation scores don't improve for 150 rounds\n",
      "Early stopping, best iteration is:\n",
      "[2178]\tvalid_0's auc: 0.962575\tvalid_1's auc: 0.791803\n"
     ]
    },
    {
     "name": "stderr",
     "output_type": "stream",
     "text": [
      "min_data_in_leaf, val_score: 0.792268:  80%|#### | 4/5 [36:50<09:12, 552.45s/it]"
     ]
    },
    {
     "name": "stdout",
     "output_type": "stream",
     "text": [
      "Training until validation scores don't improve for 150 rounds\n",
      "Early stopping, best iteration is:\n",
      "[2198]\tvalid_0's auc: 0.963067\tvalid_1's auc: 0.792039\n"
     ]
    },
    {
     "name": "stderr",
     "output_type": "stream",
     "text": [
      "min_data_in_leaf, val_score: 0.792268: 100%|#####| 5/5 [46:09<00:00, 553.81s/it]\n"
     ]
    },
    {
     "name": "stdout",
     "output_type": "stream",
     "text": [
      "Best params: {'objective': 'binary', 'metric': 'auc', 'verbosity': -1, 'boosting_type': 'gbdt', 'learning_rate': 0.005603627873630697, 'feature_pre_filter': False, 'lambda_l1': 1.0073717100534047e-08, 'lambda_l2': 8.932762924966607, 'num_leaves': 150, 'feature_fraction': 0.5, 'bagging_fraction': 0.6580775817581002, 'bagging_freq': 7, 'min_child_samples': 20, 'num_iterations': 5926}\n",
      "CPU times: user 1d 21h 31min 39s, sys: 2h 19min 34s, total: 1d 23h 51min 14s\n",
      "Wall time: 9h 10min 38s\n"
     ]
    }
   ],
   "source": [
    "%%time\n",
    "\n",
    "dtrain = lgbm.Dataset(train[all_features_list], label=train[target_column])\n",
    "dval = lgb.Dataset(test[all_features_list], label=test[target_column])\n",
    "\n",
    "params = {\n",
    "    \"objective\": \"binary\",\n",
    "    \"metric\": \"auc\",\n",
    "    \"verbosity\": -1,\n",
    "    \"boosting_type\": \"gbdt\",\n",
    "    \"n_estimators\":5926,\n",
    "    \"learning_rate\": 0.005603627873630697\n",
    "}\n",
    "\n",
    "bst = lgb.train(\n",
    "    params,\n",
    "    dtrain,\n",
    "    valid_sets=[dtrain, dval],\n",
    "    callbacks=[early_stopping(150)],\n",
    "    show_progress_bar = True\n",
    ")\n",
    "\n",
    "preds = bst.predict(test[all_features_list],num_iteration=bst.best_iteration)\n",
    "score = roc_auc_score(test[target_column], preds)\n",
    "\n",
    "all_features_best_params = bst.params\n",
    "print(\"Best params:\", all_features_best_params)\n",
    "\n"
   ]
  },
  {
   "cell_type": "code",
   "execution_count": 14,
   "id": "a4d6a04c-b69b-4512-aebc-415286fd3c1c",
   "metadata": {},
   "outputs": [
    {
     "data": {
      "text/plain": [
       "{'objective': 'binary',\n",
       " 'metric': 'auc',\n",
       " 'verbosity': -1,\n",
       " 'boosting_type': 'gbdt',\n",
       " 'learning_rate': 0.005603627873630697,\n",
       " 'feature_pre_filter': False,\n",
       " 'lambda_l1': 1.0073717100534047e-08,\n",
       " 'lambda_l2': 8.932762924966607,\n",
       " 'num_leaves': 150,\n",
       " 'feature_fraction': 0.5,\n",
       " 'bagging_fraction': 0.6580775817581002,\n",
       " 'bagging_freq': 7,\n",
       " 'min_child_samples': 20,\n",
       " 'num_iterations': 5926}"
      ]
     },
     "execution_count": 14,
     "metadata": {},
     "output_type": "execute_result"
    }
   ],
   "source": [
    "all_features_best_params"
   ]
  },
  {
   "cell_type": "markdown",
   "id": "1865ea39-aec5-44bf-b13a-4041d3a5335a",
   "metadata": {},
   "source": [
    "### MrMr Features"
   ]
  },
  {
   "cell_type": "code",
   "execution_count": 10,
   "id": "dc516d2e-7722-41d1-8bea-d47340752881",
   "metadata": {
    "collapsed": true,
    "jupyter": {
     "outputs_hidden": true
    }
   },
   "outputs": [
    {
     "name": "stderr",
     "output_type": "stream",
     "text": [
      "feature_fraction, val_score: -inf:   0%|                  | 0/7 [00:00<?, ?it/s]"
     ]
    },
    {
     "name": "stdout",
     "output_type": "stream",
     "text": [
      "Training until validation scores don't improve for 150 rounds\n"
     ]
    },
    {
     "name": "stderr",
     "output_type": "stream",
     "text": [
      "feature_fraction, val_score: 0.787981:  14%|7    | 1/7 [03:07<18:42, 187.07s/it]"
     ]
    },
    {
     "name": "stdout",
     "output_type": "stream",
     "text": [
      "Early stopping, best iteration is:\n",
      "[3643]\tvalid_0's auc: 0.902415\tvalid_1's auc: 0.787981\n",
      "Training until validation scores don't improve for 150 rounds\n"
     ]
    },
    {
     "name": "stderr",
     "output_type": "stream",
     "text": [
      "feature_fraction, val_score: 0.787981:  29%|#4   | 2/7 [05:31<13:29, 161.81s/it]"
     ]
    },
    {
     "name": "stdout",
     "output_type": "stream",
     "text": [
      "Early stopping, best iteration is:\n",
      "[3208]\tvalid_0's auc: 0.89465\tvalid_1's auc: 0.78706\n",
      "Training until validation scores don't improve for 150 rounds\n"
     ]
    },
    {
     "name": "stderr",
     "output_type": "stream",
     "text": [
      "feature_fraction, val_score: 0.788439:  43%|##1  | 3/7 [08:41<11:39, 174.90s/it]"
     ]
    },
    {
     "name": "stdout",
     "output_type": "stream",
     "text": [
      "Early stopping, best iteration is:\n",
      "[3698]\tvalid_0's auc: 0.900775\tvalid_1's auc: 0.788439\n",
      "Training until validation scores don't improve for 150 rounds\n"
     ]
    },
    {
     "name": "stderr",
     "output_type": "stream",
     "text": [
      "feature_fraction, val_score: 0.788439:  57%|##8  | 4/7 [12:03<09:16, 185.46s/it]"
     ]
    },
    {
     "name": "stdout",
     "output_type": "stream",
     "text": [
      "Early stopping, best iteration is:\n",
      "[3610]\tvalid_0's auc: 0.900671\tvalid_1's auc: 0.788115\n",
      "Training until validation scores don't improve for 150 rounds\n"
     ]
    },
    {
     "name": "stderr",
     "output_type": "stream",
     "text": [
      "feature_fraction, val_score: 0.788439:  71%|###5 | 5/7 [14:19<05:35, 167.71s/it]"
     ]
    },
    {
     "name": "stdout",
     "output_type": "stream",
     "text": [
      "Early stopping, best iteration is:\n",
      "[2899]\tvalid_0's auc: 0.887398\tvalid_1's auc: 0.785505\n",
      "Training until validation scores don't improve for 150 rounds\n"
     ]
    },
    {
     "name": "stderr",
     "output_type": "stream",
     "text": [
      "feature_fraction, val_score: 0.788439:  86%|####2| 6/7 [16:26<02:33, 153.91s/it]"
     ]
    },
    {
     "name": "stdout",
     "output_type": "stream",
     "text": [
      "Early stopping, best iteration is:\n",
      "[2684]\tvalid_0's auc: 0.883007\tvalid_1's auc: 0.786189\n",
      "Training until validation scores don't improve for 150 rounds\n"
     ]
    },
    {
     "name": "stderr",
     "output_type": "stream",
     "text": [
      "feature_fraction, val_score: 0.788439: 100%|#####| 7/7 [18:33<00:00, 159.07s/it]\n"
     ]
    },
    {
     "name": "stdout",
     "output_type": "stream",
     "text": [
      "Early stopping, best iteration is:\n",
      "[2724]\tvalid_0's auc: 0.883032\tvalid_1's auc: 0.786854\n"
     ]
    },
    {
     "name": "stderr",
     "output_type": "stream",
     "text": [
      "num_leaves, val_score: 0.788439:   0%|                   | 0/20 [00:00<?, ?it/s]"
     ]
    },
    {
     "name": "stdout",
     "output_type": "stream",
     "text": [
      "Training until validation scores don't improve for 150 rounds\n",
      "Early stopping, best iteration is:\n",
      "[2360]\tvalid_0's auc: 0.970945\tvalid_1's auc: 0.789016\n"
     ]
    },
    {
     "name": "stderr",
     "output_type": "stream",
     "text": [
      "num_leaves, val_score: 0.789016:   5%|5         | 1/20 [03:06<58:59, 186.29s/it]"
     ]
    },
    {
     "name": "stdout",
     "output_type": "stream",
     "text": [
      "Training until validation scores don't improve for 150 rounds\n",
      "Early stopping, best iteration is:\n",
      "[1576]\tvalid_0's auc: 0.966876\tvalid_1's auc: 0.788744\n"
     ]
    },
    {
     "name": "stderr",
     "output_type": "stream",
     "text": [
      "num_leaves, val_score: 0.789016:  10%|#         | 2/20 [05:36<49:27, 164.88s/it]"
     ]
    },
    {
     "name": "stdout",
     "output_type": "stream",
     "text": [
      "Training until validation scores don't improve for 150 rounds\n",
      "Early stopping, best iteration is:\n",
      "[1967]\tvalid_0's auc: 0.967413\tvalid_1's auc: 0.788813\n"
     ]
    },
    {
     "name": "stderr",
     "output_type": "stream",
     "text": [
      "num_leaves, val_score: 0.789016:  15%|#5        | 3/20 [08:22<46:55, 165.60s/it]"
     ]
    },
    {
     "name": "stdout",
     "output_type": "stream",
     "text": [
      "Training until validation scores don't improve for 150 rounds\n"
     ]
    },
    {
     "name": "stderr",
     "output_type": "stream",
     "text": [
      "num_leaves, val_score: 0.789016:  20%|##        | 4/20 [11:23<45:43, 171.45s/it]"
     ]
    },
    {
     "name": "stdout",
     "output_type": "stream",
     "text": [
      "Early stopping, best iteration is:\n",
      "[3597]\tvalid_0's auc: 0.878499\tvalid_1's auc: 0.788511\n",
      "Training until validation scores don't improve for 150 rounds\n",
      "Early stopping, best iteration is:\n",
      "[2436]\tvalid_0's auc: 0.974542\tvalid_1's auc: 0.789481\n"
     ]
    },
    {
     "name": "stderr",
     "output_type": "stream",
     "text": [
      "num_leaves, val_score: 0.789481:  25%|##5       | 5/20 [14:41<45:15, 181.05s/it]"
     ]
    },
    {
     "name": "stdout",
     "output_type": "stream",
     "text": [
      "Training until validation scores don't improve for 150 rounds\n",
      "Early stopping, best iteration is:\n",
      "[2309]\tvalid_0's auc: 0.95\tvalid_1's auc: 0.789311\n"
     ]
    },
    {
     "name": "stderr",
     "output_type": "stream",
     "text": [
      "num_leaves, val_score: 0.789481:  30%|###       | 6/20 [17:32<41:27, 177.66s/it]"
     ]
    },
    {
     "name": "stdout",
     "output_type": "stream",
     "text": [
      "Training until validation scores don't improve for 150 rounds\n"
     ]
    },
    {
     "name": "stderr",
     "output_type": "stream",
     "text": [
      "num_leaves, val_score: 0.789481:  35%|###5      | 7/20 [20:19<37:43, 174.14s/it]"
     ]
    },
    {
     "name": "stdout",
     "output_type": "stream",
     "text": [
      "Early stopping, best iteration is:\n",
      "[2725]\tvalid_0's auc: 0.924493\tvalid_1's auc: 0.78903\n",
      "Training until validation scores don't improve for 150 rounds\n",
      "Early stopping, best iteration is:\n",
      "[1626]\tvalid_0's auc: 0.994994\tvalid_1's auc: 0.789045\n"
     ]
    },
    {
     "name": "stderr",
     "output_type": "stream",
     "text": [
      "num_leaves, val_score: 0.789481:  40%|####      | 8/20 [23:42<36:41, 183.46s/it]"
     ]
    },
    {
     "name": "stdout",
     "output_type": "stream",
     "text": [
      "Training until validation scores don't improve for 150 rounds\n",
      "Early stopping, best iteration is:\n",
      "[2625]\tvalid_0's auc: 0.962195\tvalid_1's auc: 0.789133\n"
     ]
    },
    {
     "name": "stderr",
     "output_type": "stream",
     "text": [
      "num_leaves, val_score: 0.789481:  45%|####5     | 9/20 [26:50<33:53, 184.86s/it]"
     ]
    },
    {
     "name": "stdout",
     "output_type": "stream",
     "text": [
      "Training until validation scores don't improve for 150 rounds\n",
      "Early stopping, best iteration is:\n",
      "[1872]\tvalid_0's auc: 0.991883\tvalid_1's auc: 0.788753\n"
     ]
    },
    {
     "name": "stderr",
     "output_type": "stream",
     "text": [
      "num_leaves, val_score: 0.789481:  50%|####5    | 10/20 [30:14<31:46, 190.65s/it]"
     ]
    },
    {
     "name": "stdout",
     "output_type": "stream",
     "text": [
      "Training until validation scores don't improve for 150 rounds\n",
      "Early stopping, best iteration is:\n",
      "[2163]\tvalid_0's auc: 0.989426\tvalid_1's auc: 0.788885\n"
     ]
    },
    {
     "name": "stderr",
     "output_type": "stream",
     "text": [
      "num_leaves, val_score: 0.789481:  55%|####9    | 11/20 [33:43<29:28, 196.46s/it]"
     ]
    },
    {
     "name": "stdout",
     "output_type": "stream",
     "text": [
      "Training until validation scores don't improve for 150 rounds\n",
      "Early stopping, best iteration is:\n",
      "[2964]\tvalid_0's auc: 0.948489\tvalid_1's auc: 0.789423\n"
     ]
    },
    {
     "name": "stderr",
     "output_type": "stream",
     "text": [
      "num_leaves, val_score: 0.789481:  60%|#####3   | 12/20 [36:57<26:03, 195.50s/it]"
     ]
    },
    {
     "name": "stdout",
     "output_type": "stream",
     "text": [
      "Training until validation scores don't improve for 150 rounds\n"
     ]
    },
    {
     "name": "stderr",
     "output_type": "stream",
     "text": [
      "num_leaves, val_score: 0.789481:  65%|#####8   | 13/20 [40:54<24:17, 208.23s/it]"
     ]
    },
    {
     "name": "stdout",
     "output_type": "stream",
     "text": [
      "Did not meet early stopping. Best iteration is:\n",
      "[5926]\tvalid_0's auc: 0.826999\tvalid_1's auc: 0.786989\n",
      "Training until validation scores don't improve for 150 rounds\n"
     ]
    },
    {
     "name": "stderr",
     "output_type": "stream",
     "text": [
      "num_leaves, val_score: 0.789481:  70%|######3  | 14/20 [44:02<20:13, 202.25s/it]"
     ]
    },
    {
     "name": "stdout",
     "output_type": "stream",
     "text": [
      "Early stopping, best iteration is:\n",
      "[3051]\tvalid_0's auc: 0.937105\tvalid_1's auc: 0.789362\n"
     ]
    },
    {
     "name": "stderr",
     "output_type": "stream",
     "text": [
      "num_leaves, val_score: 0.789481:  70%|######3  | 14/20 [44:02<20:13, 202.25s/it]"
     ]
    },
    {
     "name": "stdout",
     "output_type": "stream",
     "text": [
      "Training until validation scores don't improve for 150 rounds\n",
      "Early stopping, best iteration is:\n",
      "[3123]\tvalid_0's auc: 0.94616\tvalid_1's auc: 0.789324\n"
     ]
    },
    {
     "name": "stderr",
     "output_type": "stream",
     "text": [
      "num_leaves, val_score: 0.789481:  75%|######7  | 15/20 [47:18<16:40, 200.14s/it]"
     ]
    },
    {
     "name": "stdout",
     "output_type": "stream",
     "text": [
      "Training until validation scores don't improve for 150 rounds\n"
     ]
    },
    {
     "name": "stderr",
     "output_type": "stream",
     "text": [
      "num_leaves, val_score: 0.789481:  80%|#######2 | 16/20 [50:31<13:11, 197.96s/it]"
     ]
    },
    {
     "name": "stdout",
     "output_type": "stream",
     "text": [
      "Early stopping, best iteration is:\n",
      "[3522]\tvalid_0's auc: 0.917083\tvalid_1's auc: 0.789384\n",
      "Training until validation scores don't improve for 150 rounds\n"
     ]
    },
    {
     "name": "stderr",
     "output_type": "stream",
     "text": [
      "num_leaves, val_score: 0.789481:  85%|#######6 | 17/20 [53:22<09:30, 190.08s/it]"
     ]
    },
    {
     "name": "stdout",
     "output_type": "stream",
     "text": [
      "Early stopping, best iteration is:\n",
      "[3029]\tvalid_0's auc: 0.910129\tvalid_1's auc: 0.788602\n",
      "Training until validation scores don't improve for 150 rounds\n",
      "Early stopping, best iteration is:\n",
      "[2279]\tvalid_0's auc: 0.958808\tvalid_1's auc: 0.789411\n"
     ]
    },
    {
     "name": "stderr",
     "output_type": "stream",
     "text": [
      "num_leaves, val_score: 0.789481:  90%|########1| 18/20 [56:14<06:08, 184.44s/it]"
     ]
    },
    {
     "name": "stdout",
     "output_type": "stream",
     "text": [
      "Training until validation scores don't improve for 150 rounds\n"
     ]
    },
    {
     "name": "stderr",
     "output_type": "stream",
     "text": [
      "num_leaves, val_score: 0.789481:  95%|########5| 19/20 [58:45<02:54, 174.46s/it]"
     ]
    },
    {
     "name": "stdout",
     "output_type": "stream",
     "text": [
      "Early stopping, best iteration is:\n",
      "[1980]\tvalid_0's auc: 0.946706\tvalid_1's auc: 0.788953\n"
     ]
    },
    {
     "name": "stderr",
     "output_type": "stream",
     "text": [
      "num_leaves, val_score: 0.789481:  95%|########5| 19/20 [58:45<02:54, 174.46s/it]"
     ]
    },
    {
     "name": "stdout",
     "output_type": "stream",
     "text": [
      "Training until validation scores don't improve for 150 rounds\n",
      "Early stopping, best iteration is:\n",
      "[1822]\tvalid_0's auc: 0.978226\tvalid_1's auc: 0.789368\n"
     ]
    },
    {
     "name": "stderr",
     "output_type": "stream",
     "text": [
      "num_leaves, val_score: 0.789481: 100%|#######| 20/20 [1:01:39<00:00, 184.97s/it]\n",
      "bagging, val_score: 0.789481:   0%|                      | 0/10 [00:00<?, ?it/s]"
     ]
    },
    {
     "name": "stdout",
     "output_type": "stream",
     "text": [
      "Training until validation scores don't improve for 150 rounds\n",
      "Early stopping, best iteration is:\n",
      "[2778]\tvalid_0's auc: 0.983682\tvalid_1's auc: 0.789963\n"
     ]
    },
    {
     "name": "stderr",
     "output_type": "stream",
     "text": [
      "bagging, val_score: 0.789963:  10%|#3           | 1/10 [03:33<32:02, 213.56s/it]"
     ]
    },
    {
     "name": "stdout",
     "output_type": "stream",
     "text": [
      "Training until validation scores don't improve for 150 rounds\n",
      "Early stopping, best iteration is:\n",
      "[2388]\tvalid_0's auc: 0.976177\tvalid_1's auc: 0.789713\n"
     ]
    },
    {
     "name": "stderr",
     "output_type": "stream",
     "text": [
      "bagging, val_score: 0.789963:  20%|##6          | 2/10 [06:40<26:24, 198.06s/it]"
     ]
    },
    {
     "name": "stdout",
     "output_type": "stream",
     "text": [
      "Training until validation scores don't improve for 150 rounds\n",
      "Early stopping, best iteration is:\n",
      "[2532]\tvalid_0's auc: 0.979307\tvalid_1's auc: 0.789666\n"
     ]
    },
    {
     "name": "stderr",
     "output_type": "stream",
     "text": [
      "bagging, val_score: 0.789963:  30%|###9         | 3/10 [09:59<23:08, 198.33s/it]"
     ]
    },
    {
     "name": "stdout",
     "output_type": "stream",
     "text": [
      "Training until validation scores don't improve for 150 rounds\n",
      "Early stopping, best iteration is:\n",
      "[1901]\tvalid_0's auc: 0.962002\tvalid_1's auc: 0.789686\n"
     ]
    },
    {
     "name": "stderr",
     "output_type": "stream",
     "text": [
      "bagging, val_score: 0.789963:  40%|#####2       | 4/10 [12:33<18:04, 180.79s/it]"
     ]
    },
    {
     "name": "stdout",
     "output_type": "stream",
     "text": [
      "Training until validation scores don't improve for 150 rounds\n",
      "Early stopping, best iteration is:\n",
      "[2397]\tvalid_0's auc: 0.976432\tvalid_1's auc: 0.789792\n"
     ]
    },
    {
     "name": "stderr",
     "output_type": "stream",
     "text": [
      "bagging, val_score: 0.789963:  50%|######5      | 5/10 [15:42<15:19, 183.81s/it]"
     ]
    },
    {
     "name": "stdout",
     "output_type": "stream",
     "text": [
      "Training until validation scores don't improve for 150 rounds\n",
      "Early stopping, best iteration is:\n",
      "[2378]\tvalid_0's auc: 0.975781\tvalid_1's auc: 0.789899\n"
     ]
    },
    {
     "name": "stderr",
     "output_type": "stream",
     "text": [
      "bagging, val_score: 0.789963:  60%|#######8     | 6/10 [18:49<12:20, 185.00s/it]"
     ]
    },
    {
     "name": "stdout",
     "output_type": "stream",
     "text": [
      "Training until validation scores don't improve for 150 rounds\n",
      "Early stopping, best iteration is:\n",
      "[1957]\tvalid_0's auc: 0.963889\tvalid_1's auc: 0.789568\n"
     ]
    },
    {
     "name": "stderr",
     "output_type": "stream",
     "text": [
      "bagging, val_score: 0.789963:  70%|#########1   | 7/10 [21:27<08:47, 175.98s/it]"
     ]
    },
    {
     "name": "stdout",
     "output_type": "stream",
     "text": [
      "Training until validation scores don't improve for 150 rounds\n",
      "Early stopping, best iteration is:\n",
      "[2118]\tvalid_0's auc: 0.969345\tvalid_1's auc: 0.789109\n"
     ]
    },
    {
     "name": "stderr",
     "output_type": "stream",
     "text": [
      "bagging, val_score: 0.789963:  80%|##########4  | 8/10 [24:16<05:47, 173.71s/it]"
     ]
    },
    {
     "name": "stdout",
     "output_type": "stream",
     "text": [
      "Training until validation scores don't improve for 150 rounds\n",
      "Early stopping, best iteration is:\n",
      "[2592]\tvalid_0's auc: 0.980136\tvalid_1's auc: 0.790086\n"
     ]
    },
    {
     "name": "stderr",
     "output_type": "stream",
     "text": [
      "bagging, val_score: 0.790086:  90%|###########7 | 9/10 [27:37<03:02, 182.46s/it]"
     ]
    },
    {
     "name": "stdout",
     "output_type": "stream",
     "text": [
      "Training until validation scores don't improve for 150 rounds\n",
      "Early stopping, best iteration is:\n",
      "[1901]\tvalid_0's auc: 0.961898\tvalid_1's auc: 0.789095\n"
     ]
    },
    {
     "name": "stderr",
     "output_type": "stream",
     "text": [
      "bagging, val_score: 0.790086: 100%|############| 10/10 [30:13<00:00, 181.37s/it]\n",
      "feature_fraction_stage2, val_score: 0.790086:   0%|       | 0/3 [00:00<?, ?it/s]"
     ]
    },
    {
     "name": "stdout",
     "output_type": "stream",
     "text": [
      "Training until validation scores don't improve for 150 rounds\n",
      "Early stopping, best iteration is:\n",
      "[3205]\tvalid_0's auc: 0.989224\tvalid_1's auc: 0.789916\n"
     ]
    },
    {
     "name": "stderr",
     "output_type": "stream",
     "text": [
      "feature_fraction_stage2, val_score: 0.790086:  33%|3| 1/3 [04:06<08:12, 246.04s/"
     ]
    },
    {
     "name": "stdout",
     "output_type": "stream",
     "text": [
      "Training until validation scores don't improve for 150 rounds\n",
      "Early stopping, best iteration is:\n",
      "[2428]\tvalid_0's auc: 0.977445\tvalid_1's auc: 0.789249\n"
     ]
    },
    {
     "name": "stderr",
     "output_type": "stream",
     "text": [
      "feature_fraction_stage2, val_score: 0.790086:  67%|6| 2/3 [07:23<03:37, 217.41s/"
     ]
    },
    {
     "name": "stdout",
     "output_type": "stream",
     "text": [
      "Training until validation scores don't improve for 150 rounds\n",
      "Early stopping, best iteration is:\n",
      "[2375]\tvalid_0's auc: 0.976763\tvalid_1's auc: 0.789782\n"
     ]
    },
    {
     "name": "stderr",
     "output_type": "stream",
     "text": [
      "feature_fraction_stage2, val_score: 0.790086: 100%|#| 3/3 [10:41<00:00, 213.99s/\n",
      "regularization_factors, val_score: 0.790086:   0%|       | 0/20 [00:00<?, ?it/s]"
     ]
    },
    {
     "name": "stdout",
     "output_type": "stream",
     "text": [
      "Training until validation scores don't improve for 150 rounds\n",
      "Early stopping, best iteration is:\n",
      "[2460]\tvalid_0's auc: 0.974876\tvalid_1's auc: 0.790392\n"
     ]
    },
    {
     "name": "stderr",
     "output_type": "stream",
     "text": [
      "regularization_factors, val_score: 0.790392:   5%| | 1/20 [03:28<1:05:54, 208.12"
     ]
    },
    {
     "name": "stdout",
     "output_type": "stream",
     "text": [
      "Training until validation scores don't improve for 150 rounds\n",
      "Early stopping, best iteration is:\n",
      "[2710]\tvalid_0's auc: 0.973258\tvalid_1's auc: 0.79122\n"
     ]
    },
    {
     "name": "stderr",
     "output_type": "stream",
     "text": [
      "regularization_factors, val_score: 0.791220:  10%|1| 2/20 [07:22<1:07:01, 223.40"
     ]
    },
    {
     "name": "stdout",
     "output_type": "stream",
     "text": [
      "Training until validation scores don't improve for 150 rounds\n",
      "Early stopping, best iteration is:\n",
      "[2545]\tvalid_0's auc: 0.955913\tvalid_1's auc: 0.790584\n"
     ]
    },
    {
     "name": "stderr",
     "output_type": "stream",
     "text": [
      "regularization_factors, val_score: 0.791220:  15%|1| 3/20 [11:07<1:03:30, 224.16"
     ]
    },
    {
     "name": "stdout",
     "output_type": "stream",
     "text": [
      "Training until validation scores don't improve for 150 rounds\n",
      "Early stopping, best iteration is:\n",
      "[2711]\tvalid_0's auc: 0.960159\tvalid_1's auc: 0.790625\n"
     ]
    },
    {
     "name": "stderr",
     "output_type": "stream",
     "text": [
      "regularization_factors, val_score: 0.791220:  20%|2| 4/20 [15:05<1:01:17, 229.83"
     ]
    },
    {
     "name": "stdout",
     "output_type": "stream",
     "text": [
      "Training until validation scores don't improve for 150 rounds\n",
      "Early stopping, best iteration is:\n",
      "[2658]\tvalid_0's auc: 0.96546\tvalid_1's auc: 0.790782\n"
     ]
    },
    {
     "name": "stderr",
     "output_type": "stream",
     "text": [
      "regularization_factors, val_score: 0.791220:  25%|2| 5/20 [18:58<57:45, 231.00s/"
     ]
    },
    {
     "name": "stdout",
     "output_type": "stream",
     "text": [
      "Training until validation scores don't improve for 150 rounds\n",
      "Early stopping, best iteration is:\n",
      "[2717]\tvalid_0's auc: 0.964037\tvalid_1's auc: 0.790958\n"
     ]
    },
    {
     "name": "stderr",
     "output_type": "stream",
     "text": [
      "regularization_factors, val_score: 0.791220:  30%|3| 6/20 [22:56<54:27, 233.39s/"
     ]
    },
    {
     "name": "stdout",
     "output_type": "stream",
     "text": [
      "Training until validation scores don't improve for 150 rounds\n",
      "Early stopping, best iteration is:\n",
      "[2526]\tvalid_0's auc: 0.951312\tvalid_1's auc: 0.791261\n"
     ]
    },
    {
     "name": "stderr",
     "output_type": "stream",
     "text": [
      "regularization_factors, val_score: 0.791261:  35%|3| 7/20 [26:41<49:56, 230.46s/"
     ]
    },
    {
     "name": "stdout",
     "output_type": "stream",
     "text": [
      "Training until validation scores don't improve for 150 rounds\n",
      "Early stopping, best iteration is:\n",
      "[2793]\tvalid_0's auc: 0.964677\tvalid_1's auc: 0.790728\n"
     ]
    },
    {
     "name": "stderr",
     "output_type": "stream",
     "text": [
      "regularization_factors, val_score: 0.791261:  40%|4| 8/20 [30:46<47:00, 235.08s/"
     ]
    },
    {
     "name": "stdout",
     "output_type": "stream",
     "text": [
      "Training until validation scores don't improve for 150 rounds\n",
      "Early stopping, best iteration is:\n",
      "[2707]\tvalid_0's auc: 0.950584\tvalid_1's auc: 0.79129\n"
     ]
    },
    {
     "name": "stderr",
     "output_type": "stream",
     "text": [
      "regularization_factors, val_score: 0.791290:  45%|4| 9/20 [34:45<43:19, 236.30s/"
     ]
    },
    {
     "name": "stdout",
     "output_type": "stream",
     "text": [
      "Training until validation scores don't improve for 150 rounds\n",
      "Early stopping, best iteration is:\n",
      "[2616]\tvalid_0's auc: 0.946074\tvalid_1's auc: 0.79089\n"
     ]
    },
    {
     "name": "stderr",
     "output_type": "stream",
     "text": [
      "regularization_factors, val_score: 0.791290:  50%|5| 10/20 [38:36<39:08, 234.84s"
     ]
    },
    {
     "name": "stdout",
     "output_type": "stream",
     "text": [
      "Training until validation scores don't improve for 150 rounds\n",
      "Early stopping, best iteration is:\n",
      "[3018]\tvalid_0's auc: 0.960236\tvalid_1's auc: 0.790977\n"
     ]
    },
    {
     "name": "stderr",
     "output_type": "stream",
     "text": [
      "regularization_factors, val_score: 0.791290:  55%|5| 11/20 [43:00<36:33, 243.77s"
     ]
    },
    {
     "name": "stdout",
     "output_type": "stream",
     "text": [
      "Training until validation scores don't improve for 150 rounds\n",
      "Early stopping, best iteration is:\n",
      "[2867]\tvalid_0's auc: 0.956812\tvalid_1's auc: 0.790971\n"
     ]
    },
    {
     "name": "stderr",
     "output_type": "stream",
     "text": [
      "regularization_factors, val_score: 0.791290:  60%|6| 12/20 [47:14<32:53, 246.65s"
     ]
    },
    {
     "name": "stdout",
     "output_type": "stream",
     "text": [
      "Training until validation scores don't improve for 150 rounds\n",
      "Early stopping, best iteration is:\n",
      "[2450]\tvalid_0's auc: 0.93794\tvalid_1's auc: 0.791211\n"
     ]
    },
    {
     "name": "stderr",
     "output_type": "stream",
     "text": [
      "regularization_factors, val_score: 0.791290:  65%|6| 13/20 [50:53<27:48, 238.41s"
     ]
    },
    {
     "name": "stdout",
     "output_type": "stream",
     "text": [
      "Training until validation scores don't improve for 150 rounds\n",
      "Early stopping, best iteration is:\n",
      "[2551]\tvalid_0's auc: 0.972216\tvalid_1's auc: 0.790218\n"
     ]
    },
    {
     "name": "stderr",
     "output_type": "stream",
     "text": [
      "regularization_factors, val_score: 0.791290:  70%|7| 14/20 [54:28<23:08, 231.44s"
     ]
    },
    {
     "name": "stdout",
     "output_type": "stream",
     "text": [
      "Training until validation scores don't improve for 150 rounds\n",
      "Early stopping, best iteration is:\n",
      "[2877]\tvalid_0's auc: 0.98165\tvalid_1's auc: 0.789821\n"
     ]
    },
    {
     "name": "stderr",
     "output_type": "stream",
     "text": [
      "regularization_factors, val_score: 0.791290:  75%|7| 15/20 [58:27<19:27, 233.51s"
     ]
    },
    {
     "name": "stdout",
     "output_type": "stream",
     "text": [
      "Training until validation scores don't improve for 150 rounds\n",
      "Early stopping, best iteration is:\n",
      "[2607]\tvalid_0's auc: 0.979125\tvalid_1's auc: 0.79024\n"
     ]
    },
    {
     "name": "stderr",
     "output_type": "stream",
     "text": [
      "regularization_factors, val_score: 0.791290:  80%|8| 16/20 [1:02:00<15:09, 227.4"
     ]
    },
    {
     "name": "stdout",
     "output_type": "stream",
     "text": [
      "Training until validation scores don't improve for 150 rounds\n",
      "Early stopping, best iteration is:\n",
      "[2601]\tvalid_0's auc: 0.948221\tvalid_1's auc: 0.791162\n"
     ]
    },
    {
     "name": "stderr",
     "output_type": "stream",
     "text": [
      "regularization_factors, val_score: 0.791290:  85%|8| 17/20 [1:06:06<11:38, 232.9"
     ]
    },
    {
     "name": "stdout",
     "output_type": "stream",
     "text": [
      "Training until validation scores don't improve for 150 rounds\n",
      "Early stopping, best iteration is:\n",
      "[2613]\tvalid_0's auc: 0.980458\tvalid_1's auc: 0.790014\n"
     ]
    },
    {
     "name": "stderr",
     "output_type": "stream",
     "text": [
      "regularization_factors, val_score: 0.791290:  90%|9| 18/20 [1:09:45<07:37, 228.8"
     ]
    },
    {
     "name": "stdout",
     "output_type": "stream",
     "text": [
      "Training until validation scores don't improve for 150 rounds\n",
      "Early stopping, best iteration is:\n",
      "[2659]\tvalid_0's auc: 0.949046\tvalid_1's auc: 0.791447\n"
     ]
    },
    {
     "name": "stderr",
     "output_type": "stream",
     "text": [
      "regularization_factors, val_score: 0.791447:  95%|9| 19/20 [1:13:56<03:55, 235.5"
     ]
    },
    {
     "name": "stdout",
     "output_type": "stream",
     "text": [
      "Training until validation scores don't improve for 150 rounds\n",
      "Early stopping, best iteration is:\n",
      "[1991]\tvalid_0's auc: 0.934011\tvalid_1's auc: 0.790655\n"
     ]
    },
    {
     "name": "stderr",
     "output_type": "stream",
     "text": [
      "regularization_factors, val_score: 0.791447: 100%|#| 20/20 [1:17:04<00:00, 231.2\n",
      "min_data_in_leaf, val_score: 0.791447:   0%|              | 0/5 [00:00<?, ?it/s]"
     ]
    },
    {
     "name": "stdout",
     "output_type": "stream",
     "text": [
      "Training until validation scores don't improve for 150 rounds\n",
      "Early stopping, best iteration is:\n",
      "[2543]\tvalid_0's auc: 0.94527\tvalid_1's auc: 0.790789\n"
     ]
    },
    {
     "name": "stderr",
     "output_type": "stream",
     "text": [
      "min_data_in_leaf, val_score: 0.791447:  20%|#    | 1/5 [04:03<16:12, 243.14s/it]"
     ]
    },
    {
     "name": "stdout",
     "output_type": "stream",
     "text": [
      "Training until validation scores don't improve for 150 rounds\n",
      "Early stopping, best iteration is:\n",
      "[2450]\tvalid_0's auc: 0.94251\tvalid_1's auc: 0.79121\n"
     ]
    },
    {
     "name": "stderr",
     "output_type": "stream",
     "text": [
      "min_data_in_leaf, val_score: 0.791447:  40%|##   | 2/5 [07:52<11:44, 234.91s/it]"
     ]
    },
    {
     "name": "stdout",
     "output_type": "stream",
     "text": [
      "Training until validation scores don't improve for 150 rounds\n",
      "Early stopping, best iteration is:\n",
      "[2178]\tvalid_0's auc: 0.93252\tvalid_1's auc: 0.791071\n"
     ]
    },
    {
     "name": "stderr",
     "output_type": "stream",
     "text": [
      "min_data_in_leaf, val_score: 0.791447:  60%|###  | 3/5 [11:22<07:26, 223.41s/it]"
     ]
    },
    {
     "name": "stdout",
     "output_type": "stream",
     "text": [
      "Training until validation scores don't improve for 150 rounds\n",
      "Early stopping, best iteration is:\n",
      "[2447]\tvalid_0's auc: 0.942127\tvalid_1's auc: 0.791391\n"
     ]
    },
    {
     "name": "stderr",
     "output_type": "stream",
     "text": [
      "min_data_in_leaf, val_score: 0.791447:  80%|#### | 4/5 [15:11<03:45, 225.98s/it]"
     ]
    },
    {
     "name": "stdout",
     "output_type": "stream",
     "text": [
      "Training until validation scores don't improve for 150 rounds\n",
      "Early stopping, best iteration is:\n",
      "[2547]\tvalid_0's auc: 0.945589\tvalid_1's auc: 0.791049\n"
     ]
    },
    {
     "name": "stderr",
     "output_type": "stream",
     "text": [
      "min_data_in_leaf, val_score: 0.791447: 100%|#####| 5/5 [19:17<00:00, 231.48s/it]\n"
     ]
    },
    {
     "name": "stdout",
     "output_type": "stream",
     "text": [
      "Best params: {'objective': 'binary', 'metric': 'auc', 'verbosity': -1, 'boosting_type': 'gbdt', 'learning_rate': 0.005603627873630697, 'feature_pre_filter': False, 'lambda_l1': 0.17381521305946443, 'lambda_l2': 8.821433034912198, 'num_leaves': 111, 'feature_fraction': 0.4, 'bagging_fraction': 0.7396714409529886, 'bagging_freq': 6, 'min_child_samples': 20, 'num_iterations': 5926}\n",
      "CPU times: user 16h 2min 24s, sys: 1h 15min 50s, total: 17h 18min 15s\n",
      "Wall time: 3h 37min 36s\n"
     ]
    }
   ],
   "source": [
    "%%time\n",
    "dtrain = lgbm.Dataset(train[fw_features], label=train[target_column])\n",
    "dval = lgb.Dataset(test[fw_features], label=test[target_column])\n",
    "params = {\n",
    "    \"objective\": \"binary\",\n",
    "    \"metric\": \"auc\",\n",
    "    \"verbosity\": -1,\n",
    "    \"boosting_type\": \"gbdt\",\n",
    "    \"n_estimators\":5926,\n",
    "    \"learning_rate\": 0.005603627873630697\n",
    "}\n",
    "\n",
    "bst = lgb.train(\n",
    "    params,\n",
    "    dtrain,\n",
    "    valid_sets=[dtrain, dval],\n",
    "    callbacks=[early_stopping(150)],\n",
    "    show_progress_bar = True\n",
    ")\n",
    "\n",
    "preds = bst.predict(test[fw_features],num_iteration=bst.best_iteration)\n",
    "score = roc_auc_score(test[target_column], preds)\n",
    "\n",
    "fw_features_best_params = bst.params\n",
    "print(\"Best params:\", fw_features_best_params)\n",
    "\n"
   ]
  },
  {
   "cell_type": "code",
   "execution_count": 13,
   "id": "89e12f59-8a23-4504-ad0e-9870c6173c40",
   "metadata": {},
   "outputs": [
    {
     "data": {
      "text/plain": [
       "{'objective': 'binary',\n",
       " 'metric': 'auc',\n",
       " 'verbosity': -1,\n",
       " 'boosting_type': 'gbdt',\n",
       " 'learning_rate': 0.005603627873630697,\n",
       " 'feature_pre_filter': False,\n",
       " 'lambda_l1': 0.17381521305946443,\n",
       " 'lambda_l2': 8.821433034912198,\n",
       " 'num_leaves': 111,\n",
       " 'feature_fraction': 0.4,\n",
       " 'bagging_fraction': 0.7396714409529886,\n",
       " 'bagging_freq': 6,\n",
       " 'min_child_samples': 20,\n",
       " 'num_iterations': 5926}"
      ]
     },
     "execution_count": 13,
     "metadata": {},
     "output_type": "execute_result"
    }
   ],
   "source": [
    "fw_features_best_params"
   ]
  },
  {
   "cell_type": "markdown",
   "id": "b666b417-c528-4ce7-9fa7-ab021ccd5c4b",
   "metadata": {},
   "source": [
    "### Ensemble features"
   ]
  },
  {
   "cell_type": "code",
   "execution_count": 15,
   "id": "89e7177c-2669-4a2b-98f8-c5c92e81d3ec",
   "metadata": {
    "collapsed": true,
    "jupyter": {
     "outputs_hidden": true
    }
   },
   "outputs": [
    {
     "name": "stderr",
     "output_type": "stream",
     "text": [
      "\n",
      "\n",
      "  0%|                                                     | 0/7 [00:00<?, ?it/s]\u001b[A\u001b[A\n",
      "\n",
      "feature_fraction, val_score: -inf:   0%|                  | 0/7 [00:00<?, ?it/s]\u001b[A\u001b[A"
     ]
    },
    {
     "name": "stdout",
     "output_type": "stream",
     "text": [
      "Training until validation scores don't improve for 150 rounds\n"
     ]
    },
    {
     "name": "stderr",
     "output_type": "stream",
     "text": [
      "\n",
      "\n",
      "feature_fraction, val_score: 0.785942:   0%|              | 0/7 [03:53<?, ?it/s]\u001b[A\u001b[A\n",
      "\n",
      "feature_fraction, val_score: 0.785942:  14%|7    | 1/7 [03:53<23:19, 233.17s/it]\u001b[A\u001b[A\n",
      "\n",
      "feature_fraction, val_score: 0.785942:  14%|7    | 1/7 [03:53<23:19, 233.17s/it]\u001b[A\u001b[A"
     ]
    },
    {
     "name": "stdout",
     "output_type": "stream",
     "text": [
      "Early stopping, best iteration is:\n",
      "[2283]\tvalid_0's auc: 0.875706\tvalid_1's auc: 0.785942\n",
      "Training until validation scores don't improve for 150 rounds\n"
     ]
    },
    {
     "name": "stderr",
     "output_type": "stream",
     "text": [
      "\n",
      "\n",
      "feature_fraction, val_score: 0.786267:  14%|7    | 1/7 [08:00<23:19, 233.17s/it]\u001b[A\u001b[A\n",
      "\n",
      "feature_fraction, val_score: 0.786267:  29%|#4   | 2/7 [08:00<20:06, 241.38s/it]\u001b[A\u001b[A\n",
      "\n",
      "feature_fraction, val_score: 0.786267:  29%|#4   | 2/7 [08:00<20:06, 241.38s/it]\u001b[A\u001b[A"
     ]
    },
    {
     "name": "stdout",
     "output_type": "stream",
     "text": [
      "Early stopping, best iteration is:\n",
      "[2440]\tvalid_0's auc: 0.879997\tvalid_1's auc: 0.786267\n",
      "Training until validation scores don't improve for 150 rounds\n"
     ]
    },
    {
     "name": "stderr",
     "output_type": "stream",
     "text": [
      "\n",
      "\n",
      "feature_fraction, val_score: 0.786948:  29%|#4   | 2/7 [12:16<20:06, 241.38s/it]\u001b[A\u001b[A\n",
      "\n",
      "feature_fraction, val_score: 0.786948:  43%|##1  | 3/7 [12:16<16:31, 247.94s/it]\u001b[A\u001b[A"
     ]
    },
    {
     "name": "stdout",
     "output_type": "stream",
     "text": [
      "Early stopping, best iteration is:\n",
      "[2578]\tvalid_0's auc: 0.883406\tvalid_1's auc: 0.786948\n"
     ]
    },
    {
     "name": "stderr",
     "output_type": "stream",
     "text": [
      "\n",
      "\n",
      "feature_fraction, val_score: 0.786948:  43%|##1  | 3/7 [12:16<16:31, 247.94s/it]\u001b[A\u001b[A"
     ]
    },
    {
     "name": "stdout",
     "output_type": "stream",
     "text": [
      "Training until validation scores don't improve for 150 rounds\n"
     ]
    },
    {
     "name": "stderr",
     "output_type": "stream",
     "text": [
      "\n",
      "\n",
      "feature_fraction, val_score: 0.788881:  43%|##1  | 3/7 [18:35<16:31, 247.94s/it]\u001b[A\u001b[A\n",
      "\n",
      "feature_fraction, val_score: 0.788881:  57%|##8  | 4/7 [18:35<14:59, 299.83s/it]\u001b[A\u001b[A"
     ]
    },
    {
     "name": "stdout",
     "output_type": "stream",
     "text": [
      "Early stopping, best iteration is:\n",
      "[3239]\tvalid_0's auc: 0.896998\tvalid_1's auc: 0.788881\n"
     ]
    },
    {
     "name": "stderr",
     "output_type": "stream",
     "text": [
      "\n",
      "\n",
      "feature_fraction, val_score: 0.788881:  57%|##8  | 4/7 [18:35<14:59, 299.83s/it]\u001b[A\u001b[A"
     ]
    },
    {
     "name": "stdout",
     "output_type": "stream",
     "text": [
      "Training until validation scores don't improve for 150 rounds\n"
     ]
    },
    {
     "name": "stderr",
     "output_type": "stream",
     "text": [
      "\n",
      "\n",
      "feature_fraction, val_score: 0.788881:  57%|##8  | 4/7 [24:01<14:59, 299.83s/it]\u001b[A\u001b[A\n",
      "\n",
      "feature_fraction, val_score: 0.788881:  71%|###5 | 5/7 [24:01<10:18, 309.34s/it]\u001b[A\u001b[A"
     ]
    },
    {
     "name": "stdout",
     "output_type": "stream",
     "text": [
      "Early stopping, best iteration is:\n",
      "[2913]\tvalid_0's auc: 0.890647\tvalid_1's auc: 0.788135\n"
     ]
    },
    {
     "name": "stderr",
     "output_type": "stream",
     "text": [
      "\n",
      "\n",
      "feature_fraction, val_score: 0.788881:  71%|###5 | 5/7 [24:01<10:18, 309.34s/it]\u001b[A\u001b[A"
     ]
    },
    {
     "name": "stdout",
     "output_type": "stream",
     "text": [
      "Training until validation scores don't improve for 150 rounds\n"
     ]
    },
    {
     "name": "stderr",
     "output_type": "stream",
     "text": [
      "\n",
      "\n",
      "feature_fraction, val_score: 0.788881:  71%|###5 | 5/7 [29:31<10:18, 309.34s/it]\u001b[A\u001b[A\n",
      "\n",
      "feature_fraction, val_score: 0.788881:  86%|####2| 6/7 [29:31<05:16, 316.35s/it]\u001b[A\u001b[A"
     ]
    },
    {
     "name": "stdout",
     "output_type": "stream",
     "text": [
      "Early stopping, best iteration is:\n",
      "[3757]\tvalid_0's auc: 0.908663\tvalid_1's auc: 0.787864\n"
     ]
    },
    {
     "name": "stderr",
     "output_type": "stream",
     "text": [
      "\n",
      "\n",
      "feature_fraction, val_score: 0.788881:  86%|####2| 6/7 [29:31<05:16, 316.35s/it]\u001b[A\u001b[A"
     ]
    },
    {
     "name": "stdout",
     "output_type": "stream",
     "text": [
      "Training until validation scores don't improve for 150 rounds\n",
      "Early stopping, best iteration is:\n",
      "[3934]\tvalid_0's auc: 0.908851\tvalid_1's auc: 0.789215\n"
     ]
    },
    {
     "name": "stderr",
     "output_type": "stream",
     "text": [
      "\n",
      "\n",
      "feature_fraction, val_score: 0.789215:  86%|####2| 6/7 [36:08<05:16, 316.35s/it]\u001b[A\u001b[A\n",
      "\n",
      "feature_fraction, val_score: 0.789215: 100%|#####| 7/7 [36:08<00:00, 309.84s/it]\u001b[A\u001b[A\n",
      "\n",
      "\n",
      "  0%|                                                    | 0/20 [00:00<?, ?it/s]\u001b[A\u001b[A\n",
      "\n",
      "num_leaves, val_score: 0.789215:   0%|                   | 0/20 [00:00<?, ?it/s]\u001b[A\u001b[A"
     ]
    },
    {
     "name": "stdout",
     "output_type": "stream",
     "text": [
      "Training until validation scores don't improve for 150 rounds\n",
      "Early stopping, best iteration is:\n",
      "[3316]\tvalid_0's auc: 0.916613\tvalid_1's auc: 0.789153\n"
     ]
    },
    {
     "name": "stderr",
     "output_type": "stream",
     "text": [
      "\n",
      "\n",
      "num_leaves, val_score: 0.789215:   0%|                   | 0/20 [05:55<?, ?it/s]\u001b[A\u001b[A\n",
      "\n",
      "num_leaves, val_score: 0.789215:   5%|4       | 1/20 [05:55<1:52:37, 355.68s/it]\u001b[A\u001b[A\n",
      "\n",
      "num_leaves, val_score: 0.789215:   5%|4       | 1/20 [05:55<1:52:37, 355.68s/it]\u001b[A\u001b[A"
     ]
    },
    {
     "name": "stdout",
     "output_type": "stream",
     "text": [
      "Training until validation scores don't improve for 150 rounds\n",
      "Early stopping, best iteration is:\n",
      "[1990]\tvalid_0's auc: 0.995563\tvalid_1's auc: 0.789547\n"
     ]
    },
    {
     "name": "stderr",
     "output_type": "stream",
     "text": [
      "\n",
      "\n",
      "num_leaves, val_score: 0.789547:   5%|4       | 1/20 [12:19<1:52:37, 355.68s/it]\u001b[A\u001b[A\n",
      "\n",
      "num_leaves, val_score: 0.789547:  10%|8       | 2/20 [12:19<1:51:35, 371.97s/it]\u001b[A\u001b[A\n",
      "\n",
      "num_leaves, val_score: 0.789547:  10%|8       | 2/20 [12:19<1:51:35, 371.97s/it]\u001b[A\u001b[A"
     ]
    },
    {
     "name": "stdout",
     "output_type": "stream",
     "text": [
      "Training until validation scores don't improve for 150 rounds\n",
      "Early stopping, best iteration is:\n",
      "[2317]\tvalid_0's auc: 0.979506\tvalid_1's auc: 0.789533\n"
     ]
    },
    {
     "name": "stderr",
     "output_type": "stream",
     "text": [
      "\n",
      "\n",
      "num_leaves, val_score: 0.789547:  10%|8       | 2/20 [18:10<1:51:35, 371.97s/it]\u001b[A\u001b[A\n",
      "\n",
      "num_leaves, val_score: 0.789547:  15%|#2      | 3/20 [18:11<1:42:48, 362.83s/it]\u001b[A\u001b[A\n",
      "\n",
      "num_leaves, val_score: 0.789547:  15%|#2      | 3/20 [18:11<1:42:48, 362.83s/it]\u001b[A\u001b[A"
     ]
    },
    {
     "name": "stdout",
     "output_type": "stream",
     "text": [
      "Training until validation scores don't improve for 150 rounds\n",
      "Early stopping, best iteration is:\n",
      "[1658]\tvalid_0's auc: 0.996973\tvalid_1's auc: 0.789515\n"
     ]
    },
    {
     "name": "stderr",
     "output_type": "stream",
     "text": [
      "\n",
      "\n",
      "num_leaves, val_score: 0.789547:  15%|#2      | 3/20 [24:29<1:42:48, 362.83s/it]\u001b[A\u001b[A\n",
      "\n",
      "num_leaves, val_score: 0.789547:  20%|#6      | 4/20 [24:29<1:38:21, 368.83s/it]\u001b[A\u001b[A\n",
      "\n",
      "num_leaves, val_score: 0.789547:  20%|#6      | 4/20 [24:29<1:38:21, 368.83s/it]\u001b[A\u001b[A"
     ]
    },
    {
     "name": "stdout",
     "output_type": "stream",
     "text": [
      "Training until validation scores don't improve for 150 rounds\n",
      "Early stopping, best iteration is:\n",
      "[1945]\tvalid_0's auc: 0.988136\tvalid_1's auc: 0.789121\n"
     ]
    },
    {
     "name": "stderr",
     "output_type": "stream",
     "text": [
      "\n",
      "\n",
      "num_leaves, val_score: 0.789547:  20%|#6      | 4/20 [30:31<1:38:21, 368.83s/it]\u001b[A\u001b[A\n",
      "\n",
      "num_leaves, val_score: 0.789547:  25%|##      | 5/20 [30:31<1:31:35, 366.40s/it]\u001b[A\u001b[A\n",
      "\n",
      "num_leaves, val_score: 0.789547:  25%|##      | 5/20 [30:31<1:31:35, 366.40s/it]\u001b[A\u001b[A"
     ]
    },
    {
     "name": "stdout",
     "output_type": "stream",
     "text": [
      "Training until validation scores don't improve for 150 rounds\n",
      "Early stopping, best iteration is:\n",
      "[1933]\tvalid_0's auc: 0.98193\tvalid_1's auc: 0.789469\n"
     ]
    },
    {
     "name": "stderr",
     "output_type": "stream",
     "text": [
      "\n",
      "\n",
      "num_leaves, val_score: 0.789547:  25%|##      | 5/20 [36:20<1:31:35, 366.40s/it]\u001b[A\u001b[A\n",
      "\n",
      "num_leaves, val_score: 0.789547:  30%|##4     | 6/20 [36:20<1:24:07, 360.52s/it]\u001b[A\u001b[A\n",
      "\n",
      "num_leaves, val_score: 0.789547:  30%|##4     | 6/20 [36:20<1:24:07, 360.52s/it]\u001b[A\u001b[A"
     ]
    },
    {
     "name": "stdout",
     "output_type": "stream",
     "text": [
      "Training until validation scores don't improve for 150 rounds\n",
      "Early stopping, best iteration is:\n",
      "[1629]\tvalid_0's auc: 0.994119\tvalid_1's auc: 0.789384\n"
     ]
    },
    {
     "name": "stderr",
     "output_type": "stream",
     "text": [
      "\n",
      "\n",
      "num_leaves, val_score: 0.789547:  30%|##4     | 6/20 [42:29<1:24:07, 360.52s/it]\u001b[A\u001b[A\n",
      "\n",
      "num_leaves, val_score: 0.789547:  35%|##8     | 7/20 [42:29<1:18:44, 363.45s/it]\u001b[A\u001b[A\n",
      "\n",
      "num_leaves, val_score: 0.789547:  35%|##8     | 7/20 [42:29<1:18:44, 363.45s/it]\u001b[A\u001b[A"
     ]
    },
    {
     "name": "stdout",
     "output_type": "stream",
     "text": [
      "Training until validation scores don't improve for 150 rounds\n",
      "Early stopping, best iteration is:\n",
      "[2313]\tvalid_0's auc: 0.94022\tvalid_1's auc: 0.78978\n"
     ]
    },
    {
     "name": "stderr",
     "output_type": "stream",
     "text": [
      "\n",
      "\n",
      "num_leaves, val_score: 0.789780:  35%|##8     | 7/20 [47:57<1:18:44, 363.45s/it]\u001b[A\u001b[A\n",
      "\n",
      "num_leaves, val_score: 0.789780:  40%|###2    | 8/20 [47:57<1:10:26, 352.21s/it]\u001b[A\u001b[A\n",
      "\n",
      "num_leaves, val_score: 0.789780:  40%|###2    | 8/20 [47:57<1:10:26, 352.21s/it]\u001b[A\u001b[A"
     ]
    },
    {
     "name": "stdout",
     "output_type": "stream",
     "text": [
      "Training until validation scores don't improve for 150 rounds\n",
      "Early stopping, best iteration is:\n",
      "[3033]\tvalid_0's auc: 0.921943\tvalid_1's auc: 0.789569\n"
     ]
    },
    {
     "name": "stderr",
     "output_type": "stream",
     "text": [
      "\n",
      "\n",
      "num_leaves, val_score: 0.789780:  40%|###2    | 8/20 [54:01<1:10:26, 352.21s/it]\u001b[A\u001b[A\n",
      "\n",
      "num_leaves, val_score: 0.789780:  45%|###6    | 9/20 [54:01<1:05:13, 355.81s/it]\u001b[A\u001b[A\n",
      "\n",
      "num_leaves, val_score: 0.789780:  45%|###6    | 9/20 [54:01<1:05:13, 355.81s/it]\u001b[A\u001b[A"
     ]
    },
    {
     "name": "stdout",
     "output_type": "stream",
     "text": [
      "Training until validation scores don't improve for 150 rounds\n",
      "Early stopping, best iteration is:\n",
      "[3276]\tvalid_0's auc: 0.91326\tvalid_1's auc: 0.788828\n"
     ]
    },
    {
     "name": "stderr",
     "output_type": "stream",
     "text": [
      "\n",
      "\n",
      "num_leaves, val_score: 0.789780:  45%|##7   | 9/20 [1:00:21<1:05:13, 355.81s/it]\u001b[A\u001b[A\n",
      "\n",
      "num_leaves, val_score: 0.789780:  50%|##5  | 10/20 [1:00:21<1:00:32, 363.22s/it]\u001b[A\u001b[A\n",
      "\n",
      "num_leaves, val_score: 0.789780:  50%|##5  | 10/20 [1:00:21<1:00:32, 363.22s/it]\u001b[A\u001b[A"
     ]
    },
    {
     "name": "stdout",
     "output_type": "stream",
     "text": [
      "Training until validation scores don't improve for 150 rounds\n",
      "Early stopping, best iteration is:\n",
      "[2196]\tvalid_0's auc: 0.962739\tvalid_1's auc: 0.789644\n"
     ]
    },
    {
     "name": "stderr",
     "output_type": "stream",
     "text": [
      "\n",
      "\n",
      "num_leaves, val_score: 0.789780:  50%|##5  | 10/20 [1:06:14<1:00:32, 363.22s/it]\u001b[A\u001b[A\n",
      "\n",
      "num_leaves, val_score: 0.789780:  55%|###8   | 11/20 [1:06:14<54:00, 360.04s/it]\u001b[A\u001b[A\n",
      "\n",
      "num_leaves, val_score: 0.789780:  55%|###8   | 11/20 [1:06:14<54:00, 360.04s/it]\u001b[A\u001b[A"
     ]
    },
    {
     "name": "stdout",
     "output_type": "stream",
     "text": [
      "Training until validation scores don't improve for 150 rounds\n",
      "Early stopping, best iteration is:\n",
      "[2402]\tvalid_0's auc: 0.963772\tvalid_1's auc: 0.789287\n"
     ]
    },
    {
     "name": "stderr",
     "output_type": "stream",
     "text": [
      "\n",
      "\n",
      "num_leaves, val_score: 0.789780:  55%|###8   | 11/20 [1:12:01<54:00, 360.04s/it]\u001b[A\u001b[A\n",
      "\n",
      "num_leaves, val_score: 0.789780:  60%|####2  | 12/20 [1:12:01<47:29, 356.25s/it]\u001b[A\u001b[A\n",
      "\n",
      "num_leaves, val_score: 0.789780:  60%|####2  | 12/20 [1:12:01<47:29, 356.25s/it]\u001b[A\u001b[A"
     ]
    },
    {
     "name": "stdout",
     "output_type": "stream",
     "text": [
      "Training until validation scores don't improve for 150 rounds\n",
      "Early stopping, best iteration is:\n",
      "[2402]\tvalid_0's auc: 0.963772\tvalid_1's auc: 0.789287\n"
     ]
    },
    {
     "name": "stderr",
     "output_type": "stream",
     "text": [
      "\n",
      "\n",
      "num_leaves, val_score: 0.789780:  60%|####2  | 12/20 [1:17:45<47:29, 356.25s/it]\u001b[A\u001b[A\n",
      "\n",
      "num_leaves, val_score: 0.789780:  65%|####5  | 13/20 [1:17:45<41:07, 352.54s/it]\u001b[A\u001b[A\n",
      "\n",
      "num_leaves, val_score: 0.789780:  65%|####5  | 13/20 [1:17:45<41:07, 352.54s/it]\u001b[A\u001b[A"
     ]
    },
    {
     "name": "stdout",
     "output_type": "stream",
     "text": [
      "Training until validation scores don't improve for 150 rounds\n",
      "Early stopping, best iteration is:\n",
      "[2319]\tvalid_0's auc: 0.957282\tvalid_1's auc: 0.789831\n"
     ]
    },
    {
     "name": "stderr",
     "output_type": "stream",
     "text": [
      "\n",
      "\n",
      "num_leaves, val_score: 0.789831:  65%|####5  | 13/20 [1:23:02<41:07, 352.54s/it]\u001b[A\u001b[A\n",
      "\n",
      "num_leaves, val_score: 0.789831:  70%|####8  | 14/20 [1:23:02<34:09, 341.60s/it]\u001b[A\u001b[A\n",
      "\n",
      "num_leaves, val_score: 0.789831:  70%|####8  | 14/20 [1:23:02<34:09, 341.60s/it]\u001b[A\u001b[A"
     ]
    },
    {
     "name": "stdout",
     "output_type": "stream",
     "text": [
      "Training until validation scores don't improve for 150 rounds\n",
      "Early stopping, best iteration is:\n",
      "[2691]\tvalid_0's auc: 0.964263\tvalid_1's auc: 0.789939\n"
     ]
    },
    {
     "name": "stderr",
     "output_type": "stream",
     "text": [
      "\n",
      "\n",
      "num_leaves, val_score: 0.789939:  70%|####8  | 14/20 [1:28:58<34:09, 341.60s/it]\u001b[A\u001b[A\n",
      "\n",
      "num_leaves, val_score: 0.789939:  75%|#####2 | 15/20 [1:28:58<28:49, 345.93s/it]\u001b[A\u001b[A\n",
      "\n",
      "num_leaves, val_score: 0.789939:  75%|#####2 | 15/20 [1:28:58<28:49, 345.93s/it]\u001b[A\u001b[A"
     ]
    },
    {
     "name": "stdout",
     "output_type": "stream",
     "text": [
      "Training until validation scores don't improve for 150 rounds\n",
      "Early stopping, best iteration is:\n",
      "[2968]\tvalid_0's auc: 0.952422\tvalid_1's auc: 0.789792\n"
     ]
    },
    {
     "name": "stderr",
     "output_type": "stream",
     "text": [
      "\n",
      "\n",
      "num_leaves, val_score: 0.789939:  75%|#####2 | 15/20 [1:35:03<28:49, 345.93s/it]\u001b[A\u001b[A\n",
      "\n",
      "num_leaves, val_score: 0.789939:  80%|#####6 | 16/20 [1:35:03<23:26, 351.71s/it]\u001b[A\u001b[A\n",
      "\n",
      "num_leaves, val_score: 0.789939:  80%|#####6 | 16/20 [1:35:03<23:26, 351.71s/it]\u001b[A\u001b[A"
     ]
    },
    {
     "name": "stdout",
     "output_type": "stream",
     "text": [
      "Training until validation scores don't improve for 150 rounds\n"
     ]
    },
    {
     "name": "stderr",
     "output_type": "stream",
     "text": [
      "\n",
      "\n",
      "num_leaves, val_score: 0.789939:  80%|#####6 | 16/20 [1:41:10<23:26, 351.71s/it]\u001b[A\u001b[A\n",
      "\n",
      "num_leaves, val_score: 0.789939:  85%|#####9 | 17/20 [1:41:10<17:49, 356.39s/it]\u001b[A\u001b[A\n",
      "\n",
      "num_leaves, val_score: 0.789939:  85%|#####9 | 17/20 [1:41:10<17:49, 356.39s/it]\u001b[A\u001b[A"
     ]
    },
    {
     "name": "stdout",
     "output_type": "stream",
     "text": [
      "Early stopping, best iteration is:\n",
      "[3911]\tvalid_0's auc: 0.849549\tvalid_1's auc: 0.788012\n",
      "Training until validation scores don't improve for 150 rounds\n",
      "Early stopping, best iteration is:\n",
      "[2331]\tvalid_0's auc: 0.938534\tvalid_1's auc: 0.789554\n"
     ]
    },
    {
     "name": "stderr",
     "output_type": "stream",
     "text": [
      "\n",
      "\n",
      "num_leaves, val_score: 0.789939:  85%|#####9 | 17/20 [1:46:13<17:49, 356.39s/it]\u001b[A\u001b[A\n",
      "\n",
      "num_leaves, val_score: 0.789939:  90%|######3| 18/20 [1:46:13<11:20, 340.32s/it]\u001b[A\u001b[A\n",
      "\n",
      "num_leaves, val_score: 0.789939:  90%|######3| 18/20 [1:46:13<11:20, 340.32s/it]\u001b[A\u001b[A"
     ]
    },
    {
     "name": "stdout",
     "output_type": "stream",
     "text": [
      "Training until validation scores don't improve for 150 rounds\n",
      "Early stopping, best iteration is:\n",
      "[2239]\tvalid_0's auc: 0.979588\tvalid_1's auc: 0.789968\n"
     ]
    },
    {
     "name": "stderr",
     "output_type": "stream",
     "text": [
      "\n",
      "\n",
      "num_leaves, val_score: 0.789968:  90%|######3| 18/20 [1:52:01<11:20, 340.32s/it]\u001b[A\u001b[A\n",
      "\n",
      "num_leaves, val_score: 0.789968:  95%|######6| 19/20 [1:52:01<05:42, 342.51s/it]\u001b[A\u001b[A\n",
      "\n",
      "num_leaves, val_score: 0.789968:  95%|######6| 19/20 [1:52:01<05:42, 342.51s/it]\u001b[A\u001b[A"
     ]
    },
    {
     "name": "stdout",
     "output_type": "stream",
     "text": [
      "Training until validation scores don't improve for 150 rounds\n",
      "Early stopping, best iteration is:\n",
      "[1864]\tvalid_0's auc: 0.975508\tvalid_1's auc: 0.78892\n"
     ]
    },
    {
     "name": "stderr",
     "output_type": "stream",
     "text": [
      "\n",
      "\n",
      "num_leaves, val_score: 0.789968:  95%|######6| 19/20 [1:57:13<05:42, 342.51s/it]\u001b[A\u001b[A\n",
      "\n",
      "num_leaves, val_score: 0.789968: 100%|#######| 20/20 [1:57:13<00:00, 351.67s/it]\u001b[A\u001b[A\n",
      "\n",
      "\n",
      "  0%|                                                    | 0/10 [00:00<?, ?it/s]\u001b[A\u001b[A\n",
      "\n",
      "bagging, val_score: 0.789968:   0%|                      | 0/10 [00:00<?, ?it/s]\u001b[A\u001b[A"
     ]
    },
    {
     "name": "stdout",
     "output_type": "stream",
     "text": [
      "Training until validation scores don't improve for 150 rounds\n",
      "Early stopping, best iteration is:\n",
      "[2271]\tvalid_0's auc: 0.982291\tvalid_1's auc: 0.79057\n"
     ]
    },
    {
     "name": "stderr",
     "output_type": "stream",
     "text": [
      "\n",
      "\n",
      "bagging, val_score: 0.790570:   0%|                      | 0/10 [05:41<?, ?it/s]\u001b[A\u001b[A\n",
      "\n",
      "bagging, val_score: 0.790570:  10%|#3           | 1/10 [05:41<51:17, 341.98s/it]\u001b[A\u001b[A\n",
      "\n",
      "bagging, val_score: 0.790570:  10%|#3           | 1/10 [05:42<51:17, 341.98s/it]\u001b[A\u001b[A"
     ]
    },
    {
     "name": "stdout",
     "output_type": "stream",
     "text": [
      "Training until validation scores don't improve for 150 rounds\n",
      "Early stopping, best iteration is:\n",
      "[2724]\tvalid_0's auc: 0.989301\tvalid_1's auc: 0.79058\n"
     ]
    },
    {
     "name": "stderr",
     "output_type": "stream",
     "text": [
      "\n",
      "\n",
      "bagging, val_score: 0.790580:  10%|#3           | 1/10 [12:19<51:17, 341.98s/it]\u001b[A\u001b[A\n",
      "\n",
      "bagging, val_score: 0.790580:  20%|##6          | 2/10 [12:20<49:59, 374.94s/it]\u001b[A\u001b[A\n",
      "\n",
      "bagging, val_score: 0.790580:  20%|##6          | 2/10 [12:20<49:59, 374.94s/it]\u001b[A\u001b[A"
     ]
    },
    {
     "name": "stdout",
     "output_type": "stream",
     "text": [
      "Training until validation scores don't improve for 150 rounds\n",
      "Early stopping, best iteration is:\n",
      "[2522]\tvalid_0's auc: 0.986612\tvalid_1's auc: 0.790145\n"
     ]
    },
    {
     "name": "stderr",
     "output_type": "stream",
     "text": [
      "\n",
      "\n",
      "bagging, val_score: 0.790580:  20%|##6          | 2/10 [18:33<49:59, 374.94s/it]\u001b[A\u001b[A\n",
      "\n",
      "bagging, val_score: 0.790580:  30%|###9         | 3/10 [18:33<43:39, 374.24s/it]\u001b[A\u001b[A\n",
      "\n",
      "bagging, val_score: 0.790580:  30%|###9         | 3/10 [18:33<43:39, 374.24s/it]\u001b[A\u001b[A"
     ]
    },
    {
     "name": "stdout",
     "output_type": "stream",
     "text": [
      "Training until validation scores don't improve for 150 rounds\n",
      "Early stopping, best iteration is:\n",
      "[2024]\tvalid_0's auc: 0.97654\tvalid_1's auc: 0.790619\n"
     ]
    },
    {
     "name": "stderr",
     "output_type": "stream",
     "text": [
      "\n",
      "\n",
      "bagging, val_score: 0.790619:  30%|###9         | 3/10 [23:33<43:39, 374.24s/it]\u001b[A\u001b[A\n",
      "\n",
      "bagging, val_score: 0.790619:  40%|#####2       | 4/10 [23:33<34:29, 344.92s/it]\u001b[A\u001b[A\n",
      "\n",
      "bagging, val_score: 0.790619:  40%|#####2       | 4/10 [23:33<34:29, 344.92s/it]\u001b[A\u001b[A"
     ]
    },
    {
     "name": "stdout",
     "output_type": "stream",
     "text": [
      "Training until validation scores don't improve for 150 rounds\n",
      "Early stopping, best iteration is:\n",
      "[2228]\tvalid_0's auc: 0.981444\tvalid_1's auc: 0.790796\n"
     ]
    },
    {
     "name": "stderr",
     "output_type": "stream",
     "text": [
      "\n",
      "\n",
      "bagging, val_score: 0.790796:  40%|#####2       | 4/10 [28:57<34:29, 344.92s/it]\u001b[A\u001b[A\n",
      "\n",
      "bagging, val_score: 0.790796:  50%|######5      | 5/10 [28:57<28:07, 337.52s/it]\u001b[A\u001b[A\n",
      "\n",
      "bagging, val_score: 0.790796:  50%|######5      | 5/10 [28:57<28:07, 337.52s/it]\u001b[A\u001b[A"
     ]
    },
    {
     "name": "stdout",
     "output_type": "stream",
     "text": [
      "Training until validation scores don't improve for 150 rounds\n",
      "Early stopping, best iteration is:\n",
      "[2344]\tvalid_0's auc: 0.983699\tvalid_1's auc: 0.79029\n"
     ]
    },
    {
     "name": "stderr",
     "output_type": "stream",
     "text": [
      "\n",
      "\n",
      "bagging, val_score: 0.790796:  50%|######5      | 5/10 [34:39<28:07, 337.52s/it]\u001b[A\u001b[A\n",
      "\n",
      "bagging, val_score: 0.790796:  60%|#######8     | 6/10 [34:39<22:35, 338.82s/it]\u001b[A\u001b[A\n",
      "\n",
      "bagging, val_score: 0.790796:  60%|#######8     | 6/10 [34:39<22:35, 338.82s/it]\u001b[A\u001b[A"
     ]
    },
    {
     "name": "stdout",
     "output_type": "stream",
     "text": [
      "Training until validation scores don't improve for 150 rounds\n",
      "Early stopping, best iteration is:\n",
      "[2030]\tvalid_0's auc: 0.976553\tvalid_1's auc: 0.790277\n"
     ]
    },
    {
     "name": "stderr",
     "output_type": "stream",
     "text": [
      "\n",
      "\n",
      "bagging, val_score: 0.790796:  60%|#######8     | 6/10 [39:45<22:35, 338.82s/it]\u001b[A\u001b[A\n",
      "\n",
      "bagging, val_score: 0.790796:  70%|#########1   | 7/10 [39:45<16:24, 328.23s/it]\u001b[A\u001b[A\n",
      "\n",
      "bagging, val_score: 0.790796:  70%|#########1   | 7/10 [39:45<16:24, 328.23s/it]\u001b[A\u001b[A"
     ]
    },
    {
     "name": "stdout",
     "output_type": "stream",
     "text": [
      "Training until validation scores don't improve for 150 rounds\n",
      "Early stopping, best iteration is:\n",
      "[2237]\tvalid_0's auc: 0.981502\tvalid_1's auc: 0.790765\n"
     ]
    },
    {
     "name": "stderr",
     "output_type": "stream",
     "text": [
      "\n",
      "\n",
      "bagging, val_score: 0.790796:  70%|#########1   | 7/10 [45:10<16:24, 328.23s/it]\u001b[A\u001b[A\n",
      "\n",
      "bagging, val_score: 0.790796:  80%|##########4  | 8/10 [45:10<10:54, 327.30s/it]\u001b[A\u001b[A\n",
      "\n",
      "bagging, val_score: 0.790796:  80%|##########4  | 8/10 [45:10<10:54, 327.30s/it]\u001b[A\u001b[A"
     ]
    },
    {
     "name": "stdout",
     "output_type": "stream",
     "text": [
      "Training until validation scores don't improve for 150 rounds\n",
      "Early stopping, best iteration is:\n",
      "[2795]\tvalid_0's auc: 0.990731\tvalid_1's auc: 0.79026\n"
     ]
    },
    {
     "name": "stderr",
     "output_type": "stream",
     "text": [
      "\n",
      "\n",
      "bagging, val_score: 0.790796:  80%|##########4  | 8/10 [51:39<10:54, 327.30s/it]\u001b[A\u001b[A\n",
      "\n",
      "bagging, val_score: 0.790796:  90%|###########7 | 9/10 [51:39<05:46, 346.52s/it]\u001b[A\u001b[A\n",
      "\n",
      "bagging, val_score: 0.790796:  90%|###########7 | 9/10 [51:39<05:46, 346.52s/it]\u001b[A\u001b[A"
     ]
    },
    {
     "name": "stdout",
     "output_type": "stream",
     "text": [
      "Training until validation scores don't improve for 150 rounds\n",
      "Early stopping, best iteration is:\n",
      "[2247]\tvalid_0's auc: 0.981261\tvalid_1's auc: 0.790122\n"
     ]
    },
    {
     "name": "stderr",
     "output_type": "stream",
     "text": [
      "\n",
      "\n",
      "bagging, val_score: 0.790796:  90%|###########7 | 9/10 [57:16<05:46, 346.52s/it]\u001b[A\u001b[A\n",
      "\n",
      "bagging, val_score: 0.790796: 100%|############| 10/10 [57:16<00:00, 343.68s/it]\u001b[A\u001b[A\n",
      "\n",
      "\n",
      "  0%|                                                     | 0/3 [00:00<?, ?it/s]\u001b[A\u001b[A\n",
      "\n",
      "feature_fraction_stage2, val_score: 0.790796:   0%|       | 0/3 [00:00<?, ?it/s]\u001b[A\u001b[A"
     ]
    },
    {
     "name": "stdout",
     "output_type": "stream",
     "text": [
      "Training until validation scores don't improve for 150 rounds\n",
      "Early stopping, best iteration is:\n",
      "[2230]\tvalid_0's auc: 0.982055\tvalid_1's auc: 0.79075\n"
     ]
    },
    {
     "name": "stderr",
     "output_type": "stream",
     "text": [
      "\n",
      "\n",
      "feature_fraction_stage2, val_score: 0.790796:   0%|       | 0/3 [05:46<?, ?it/s]\u001b[A\u001b[A\n",
      "\n",
      "feature_fraction_stage2, val_score: 0.790796:  33%|3| 1/3 [05:46<11:32, 346.21s/\u001b[A\u001b[A\n",
      "\n",
      "feature_fraction_stage2, val_score: 0.790796:  33%|3| 1/3 [05:46<11:32, 346.21s/\u001b[A\u001b[A"
     ]
    },
    {
     "name": "stdout",
     "output_type": "stream",
     "text": [
      "Training until validation scores don't improve for 150 rounds\n",
      "Early stopping, best iteration is:\n",
      "[2409]\tvalid_0's auc: 0.985693\tvalid_1's auc: 0.790117\n"
     ]
    },
    {
     "name": "stderr",
     "output_type": "stream",
     "text": [
      "\n",
      "\n",
      "feature_fraction_stage2, val_score: 0.790796:  33%|3| 1/3 [12:05<11:32, 346.21s/\u001b[A\u001b[A\n",
      "\n",
      "feature_fraction_stage2, val_score: 0.790796:  67%|6| 2/3 [12:05<06:05, 365.86s/\u001b[A\u001b[A\n",
      "\n",
      "feature_fraction_stage2, val_score: 0.790796:  67%|6| 2/3 [12:05<06:05, 365.86s/\u001b[A\u001b[A"
     ]
    },
    {
     "name": "stdout",
     "output_type": "stream",
     "text": [
      "Training until validation scores don't improve for 150 rounds\n",
      "Early stopping, best iteration is:\n",
      "[2410]\tvalid_0's auc: 0.985034\tvalid_1's auc: 0.790911\n"
     ]
    },
    {
     "name": "stderr",
     "output_type": "stream",
     "text": [
      "\n",
      "\n",
      "feature_fraction_stage2, val_score: 0.790911:  67%|6| 2/3 [18:06<06:05, 365.86s/\u001b[A\u001b[A\n",
      "\n",
      "feature_fraction_stage2, val_score: 0.790911: 100%|#| 3/3 [18:06<00:00, 362.25s/\u001b[A\u001b[A\n",
      "\n",
      "\n",
      "  0%|                                                    | 0/20 [00:00<?, ?it/s]\u001b[A\u001b[A\n",
      "\n",
      "regularization_factors, val_score: 0.790911:   0%|       | 0/20 [00:00<?, ?it/s]\u001b[A\u001b[A"
     ]
    },
    {
     "name": "stdout",
     "output_type": "stream",
     "text": [
      "Training until validation scores don't improve for 150 rounds\n",
      "Early stopping, best iteration is:\n",
      "[2625]\tvalid_0's auc: 0.98832\tvalid_1's auc: 0.791103\n"
     ]
    },
    {
     "name": "stderr",
     "output_type": "stream",
     "text": [
      "\n",
      "\n",
      "regularization_factors, val_score: 0.791103:   0%|       | 0/20 [09:00<?, ?it/s]\u001b[A\u001b[A\n",
      "\n",
      "regularization_factors, val_score: 0.791103:   5%| | 1/20 [09:00<2:51:14, 540.76\u001b[A\u001b[A\n",
      "\n",
      "regularization_factors, val_score: 0.791103:   5%| | 1/20 [09:00<2:51:14, 540.76\u001b[A\u001b[A"
     ]
    },
    {
     "name": "stdout",
     "output_type": "stream",
     "text": [
      "Training until validation scores don't improve for 150 rounds\n",
      "Early stopping, best iteration is:\n",
      "[1998]\tvalid_0's auc: 0.976047\tvalid_1's auc: 0.79071\n"
     ]
    },
    {
     "name": "stderr",
     "output_type": "stream",
     "text": [
      "\n",
      "\n",
      "regularization_factors, val_score: 0.791103:   5%| | 1/20 [15:33<2:51:14, 540.76\u001b[A\u001b[A\n",
      "\n",
      "regularization_factors, val_score: 0.791103:  10%|1| 2/20 [15:33<2:16:04, 453.57\u001b[A\u001b[A\n",
      "\n",
      "regularization_factors, val_score: 0.791103:  10%|1| 2/20 [15:33<2:16:04, 453.57\u001b[A\u001b[A"
     ]
    },
    {
     "name": "stdout",
     "output_type": "stream",
     "text": [
      "Training until validation scores don't improve for 150 rounds\n",
      "Early stopping, best iteration is:\n",
      "[2338]\tvalid_0's auc: 0.983807\tvalid_1's auc: 0.791107\n"
     ]
    },
    {
     "name": "stderr",
     "output_type": "stream",
     "text": [
      "\n",
      "\n",
      "regularization_factors, val_score: 0.791107:  10%|1| 2/20 [21:42<2:16:04, 453.57\u001b[A\u001b[A\n",
      "\n",
      "regularization_factors, val_score: 0.791107:  15%|1| 3/20 [21:42<1:57:32, 414.85\u001b[A\u001b[A\n",
      "\n",
      "regularization_factors, val_score: 0.791107:  15%|1| 3/20 [21:42<1:57:32, 414.85\u001b[A\u001b[A"
     ]
    },
    {
     "name": "stdout",
     "output_type": "stream",
     "text": [
      "Training until validation scores don't improve for 150 rounds\n",
      "Early stopping, best iteration is:\n",
      "[2030]\tvalid_0's auc: 0.976847\tvalid_1's auc: 0.790635\n"
     ]
    },
    {
     "name": "stderr",
     "output_type": "stream",
     "text": [
      "\n",
      "\n",
      "regularization_factors, val_score: 0.791107:  15%|1| 3/20 [27:07<1:57:32, 414.85\u001b[A\u001b[A\n",
      "\n",
      "regularization_factors, val_score: 0.791107:  20%|2| 4/20 [27:07<1:41:10, 379.42\u001b[A\u001b[A\n",
      "\n",
      "regularization_factors, val_score: 0.791107:  20%|2| 4/20 [27:07<1:41:10, 379.42\u001b[A\u001b[A"
     ]
    },
    {
     "name": "stdout",
     "output_type": "stream",
     "text": [
      "Training until validation scores don't improve for 150 rounds\n",
      "Early stopping, best iteration is:\n",
      "[2013]\tvalid_0's auc: 0.976424\tvalid_1's auc: 0.790316\n"
     ]
    },
    {
     "name": "stderr",
     "output_type": "stream",
     "text": [
      "\n",
      "\n",
      "regularization_factors, val_score: 0.791107:  20%|2| 4/20 [32:24<1:41:10, 379.42\u001b[A\u001b[A\n",
      "\n",
      "regularization_factors, val_score: 0.791107:  25%|2| 5/20 [32:24<1:29:16, 357.08\u001b[A\u001b[A\n",
      "\n",
      "regularization_factors, val_score: 0.791107:  25%|2| 5/20 [32:24<1:29:16, 357.08\u001b[A\u001b[A"
     ]
    },
    {
     "name": "stdout",
     "output_type": "stream",
     "text": [
      "Training until validation scores don't improve for 150 rounds\n",
      "Early stopping, best iteration is:\n",
      "[1864]\tvalid_0's auc: 0.95093\tvalid_1's auc: 0.79104\n"
     ]
    },
    {
     "name": "stderr",
     "output_type": "stream",
     "text": [
      "\n",
      "\n",
      "regularization_factors, val_score: 0.791107:  25%|2| 5/20 [37:49<1:29:16, 357.08\u001b[A\u001b[A\n",
      "\n",
      "regularization_factors, val_score: 0.791107:  30%|3| 6/20 [37:49<1:20:45, 346.11\u001b[A\u001b[A\n",
      "\n",
      "regularization_factors, val_score: 0.791107:  30%|3| 6/20 [37:49<1:20:45, 346.11\u001b[A\u001b[A"
     ]
    },
    {
     "name": "stdout",
     "output_type": "stream",
     "text": [
      "Training until validation scores don't improve for 150 rounds\n",
      "Early stopping, best iteration is:\n",
      "[2466]\tvalid_0's auc: 0.956837\tvalid_1's auc: 0.79204\n"
     ]
    },
    {
     "name": "stderr",
     "output_type": "stream",
     "text": [
      "\n",
      "\n",
      "regularization_factors, val_score: 0.792040:  30%|3| 6/20 [45:08<1:20:45, 346.11\u001b[A\u001b[A\n",
      "\n",
      "regularization_factors, val_score: 0.792040:  35%|3| 7/20 [45:08<1:21:35, 376.61\u001b[A\u001b[A\n",
      "\n",
      "regularization_factors, val_score: 0.792040:  35%|3| 7/20 [45:08<1:21:35, 376.61\u001b[A\u001b[A"
     ]
    },
    {
     "name": "stdout",
     "output_type": "stream",
     "text": [
      "Training until validation scores don't improve for 150 rounds\n",
      "Early stopping, best iteration is:\n",
      "[2464]\tvalid_0's auc: 0.967075\tvalid_1's auc: 0.791841\n"
     ]
    },
    {
     "name": "stderr",
     "output_type": "stream",
     "text": [
      "\n",
      "\n",
      "regularization_factors, val_score: 0.792040:  35%|3| 7/20 [52:07<1:21:35, 376.61\u001b[A\u001b[A\n",
      "\n",
      "regularization_factors, val_score: 0.792040:  40%|4| 8/20 [52:07<1:18:00, 390.07\u001b[A\u001b[A\n",
      "\n",
      "regularization_factors, val_score: 0.792040:  40%|4| 8/20 [52:07<1:18:00, 390.07\u001b[A\u001b[A"
     ]
    },
    {
     "name": "stdout",
     "output_type": "stream",
     "text": [
      "Training until validation scores don't improve for 150 rounds\n",
      "Early stopping, best iteration is:\n",
      "[2555]\tvalid_0's auc: 0.967524\tvalid_1's auc: 0.791931\n"
     ]
    },
    {
     "name": "stderr",
     "output_type": "stream",
     "text": [
      "\n",
      "\n",
      "regularization_factors, val_score: 0.792040:  40%|4| 8/20 [59:24<1:18:00, 390.07\u001b[A\u001b[A\n",
      "\n",
      "regularization_factors, val_score: 0.792040:  45%|4| 9/20 [59:24<1:14:11, 404.65\u001b[A\u001b[A\n",
      "\n",
      "regularization_factors, val_score: 0.792040:  45%|4| 9/20 [59:24<1:14:11, 404.65\u001b[A\u001b[A"
     ]
    },
    {
     "name": "stdout",
     "output_type": "stream",
     "text": [
      "Training until validation scores don't improve for 150 rounds\n",
      "Early stopping, best iteration is:\n",
      "[2550]\tvalid_0's auc: 0.961784\tvalid_1's auc: 0.792188\n"
     ]
    },
    {
     "name": "stderr",
     "output_type": "stream",
     "text": [
      "\n",
      "\n",
      "regularization_factors, val_score: 0.792188:  45%|4| 9/20 [1:06:50<1:14:11, 404.\u001b[A\u001b[A\n",
      "\n",
      "regularization_factors, val_score: 0.792188:  50%|5| 10/20 [1:06:50<1:09:34, 417\u001b[A\u001b[A\n",
      "\n",
      "regularization_factors, val_score: 0.792188:  50%|5| 10/20 [1:06:50<1:09:34, 417\u001b[A\u001b[A"
     ]
    },
    {
     "name": "stdout",
     "output_type": "stream",
     "text": [
      "Training until validation scores don't improve for 150 rounds\n",
      "Early stopping, best iteration is:\n",
      "[2586]\tvalid_0's auc: 0.960185\tvalid_1's auc: 0.791866\n"
     ]
    },
    {
     "name": "stderr",
     "output_type": "stream",
     "text": [
      "\n",
      "\n",
      "regularization_factors, val_score: 0.792188:  50%|5| 10/20 [1:14:29<1:09:34, 417\u001b[A\u001b[A\n",
      "\n",
      "regularization_factors, val_score: 0.792188:  55%|5| 11/20 [1:14:29<1:04:32, 430\u001b[A\u001b[A\n",
      "\n",
      "regularization_factors, val_score: 0.792188:  55%|5| 11/20 [1:14:30<1:04:32, 430\u001b[A\u001b[A"
     ]
    },
    {
     "name": "stdout",
     "output_type": "stream",
     "text": [
      "Training until validation scores don't improve for 150 rounds\n",
      "Early stopping, best iteration is:\n",
      "[2472]\tvalid_0's auc: 0.956253\tvalid_1's auc: 0.792332\n"
     ]
    },
    {
     "name": "stderr",
     "output_type": "stream",
     "text": [
      "\n",
      "\n",
      "regularization_factors, val_score: 0.792332:  55%|5| 11/20 [1:21:55<1:04:32, 430\u001b[A\u001b[A\n",
      "\n",
      "regularization_factors, val_score: 0.792332:  60%|6| 12/20 [1:21:55<57:58, 434.8\u001b[A\u001b[A\n",
      "\n",
      "regularization_factors, val_score: 0.792332:  60%|6| 12/20 [1:21:55<57:58, 434.8\u001b[A\u001b[A"
     ]
    },
    {
     "name": "stdout",
     "output_type": "stream",
     "text": [
      "Training until validation scores don't improve for 150 rounds\n",
      "Early stopping, best iteration is:\n",
      "[1979]\tvalid_0's auc: 0.942533\tvalid_1's auc: 0.791685\n"
     ]
    },
    {
     "name": "stderr",
     "output_type": "stream",
     "text": [
      "\n",
      "\n",
      "regularization_factors, val_score: 0.792332:  60%|6| 12/20 [1:28:02<57:58, 434.8\u001b[A\u001b[A\n",
      "\n",
      "regularization_factors, val_score: 0.792332:  65%|6| 13/20 [1:28:02<48:19, 414.2\u001b[A\u001b[A\n",
      "\n",
      "regularization_factors, val_score: 0.792332:  65%|6| 13/20 [1:28:02<48:19, 414.2\u001b[A\u001b[A"
     ]
    },
    {
     "name": "stdout",
     "output_type": "stream",
     "text": [
      "Training until validation scores don't improve for 150 rounds\n",
      "Early stopping, best iteration is:\n",
      "[2567]\tvalid_0's auc: 0.95902\tvalid_1's auc: 0.791934\n"
     ]
    },
    {
     "name": "stderr",
     "output_type": "stream",
     "text": [
      "\n",
      "\n",
      "regularization_factors, val_score: 0.792332:  65%|6| 13/20 [1:35:44<48:19, 414.2\u001b[A\u001b[A\n",
      "\n",
      "regularization_factors, val_score: 0.792332:  70%|7| 14/20 [1:35:44<42:52, 428.7\u001b[A\u001b[A\n",
      "\n",
      "regularization_factors, val_score: 0.792332:  70%|7| 14/20 [1:35:44<42:52, 428.7\u001b[A\u001b[A"
     ]
    },
    {
     "name": "stdout",
     "output_type": "stream",
     "text": [
      "Training until validation scores don't improve for 150 rounds\n",
      "Early stopping, best iteration is:\n",
      "[2458]\tvalid_0's auc: 0.959409\tvalid_1's auc: 0.792032\n"
     ]
    },
    {
     "name": "stderr",
     "output_type": "stream",
     "text": [
      "\n",
      "\n",
      "regularization_factors, val_score: 0.792332:  70%|7| 14/20 [1:43:01<42:52, 428.7\u001b[A\u001b[A\n",
      "\n",
      "regularization_factors, val_score: 0.792332:  75%|7| 15/20 [1:43:01<35:56, 431.3\u001b[A\u001b[A\n",
      "\n",
      "regularization_factors, val_score: 0.792332:  75%|7| 15/20 [1:43:01<35:56, 431.3\u001b[A\u001b[A"
     ]
    },
    {
     "name": "stdout",
     "output_type": "stream",
     "text": [
      "Training until validation scores don't improve for 150 rounds\n",
      "Early stopping, best iteration is:\n",
      "[2480]\tvalid_0's auc: 0.961137\tvalid_1's auc: 0.792112\n"
     ]
    },
    {
     "name": "stderr",
     "output_type": "stream",
     "text": [
      "\n",
      "\n",
      "regularization_factors, val_score: 0.792332:  75%|7| 15/20 [1:50:20<35:56, 431.3\u001b[A\u001b[A\n",
      "\n",
      "regularization_factors, val_score: 0.792332:  80%|8| 16/20 [1:50:20<28:54, 433.5\u001b[A\u001b[A\n",
      "\n",
      "regularization_factors, val_score: 0.792332:  80%|8| 16/20 [1:50:20<28:54, 433.5\u001b[A\u001b[A"
     ]
    },
    {
     "name": "stdout",
     "output_type": "stream",
     "text": [
      "Training until validation scores don't improve for 150 rounds\n",
      "Early stopping, best iteration is:\n",
      "[2407]\tvalid_0's auc: 0.980201\tvalid_1's auc: 0.790987\n"
     ]
    },
    {
     "name": "stderr",
     "output_type": "stream",
     "text": [
      "\n",
      "\n",
      "regularization_factors, val_score: 0.792332:  80%|8| 16/20 [1:56:48<28:54, 433.5\u001b[A\u001b[A\n",
      "\n",
      "regularization_factors, val_score: 0.792332:  85%|8| 17/20 [1:56:48<20:59, 419.8\u001b[A\u001b[A\n",
      "\n",
      "regularization_factors, val_score: 0.792332:  85%|8| 17/20 [1:56:48<20:59, 419.8\u001b[A\u001b[A"
     ]
    },
    {
     "name": "stdout",
     "output_type": "stream",
     "text": [
      "Training until validation scores don't improve for 150 rounds\n",
      "Early stopping, best iteration is:\n",
      "[2232]\tvalid_0's auc: 0.977723\tvalid_1's auc: 0.791044\n"
     ]
    },
    {
     "name": "stderr",
     "output_type": "stream",
     "text": [
      "\n",
      "\n",
      "regularization_factors, val_score: 0.792332:  85%|8| 17/20 [2:02:54<20:59, 419.8\u001b[A\u001b[A\n",
      "\n",
      "regularization_factors, val_score: 0.792332:  90%|9| 18/20 [2:02:54<13:27, 403.6\u001b[A\u001b[A\n",
      "\n",
      "regularization_factors, val_score: 0.792332:  90%|9| 18/20 [2:02:54<13:27, 403.6\u001b[A\u001b[A"
     ]
    },
    {
     "name": "stdout",
     "output_type": "stream",
     "text": [
      "Training until validation scores don't improve for 150 rounds\n",
      "Early stopping, best iteration is:\n",
      "[2450]\tvalid_0's auc: 0.955879\tvalid_1's auc: 0.792198\n"
     ]
    },
    {
     "name": "stderr",
     "output_type": "stream",
     "text": [
      "\n",
      "\n",
      "regularization_factors, val_score: 0.792332:  90%|9| 18/20 [2:10:15<13:27, 403.6\u001b[A\u001b[A\n",
      "\n",
      "regularization_factors, val_score: 0.792332:  95%|9| 19/20 [2:10:15<06:54, 414.9\u001b[A\u001b[A\n",
      "\n",
      "regularization_factors, val_score: 0.792332:  95%|9| 19/20 [2:10:15<06:54, 414.9\u001b[A\u001b[A"
     ]
    },
    {
     "name": "stdout",
     "output_type": "stream",
     "text": [
      "Training until validation scores don't improve for 150 rounds\n",
      "Early stopping, best iteration is:\n",
      "[1982]\tvalid_0's auc: 0.970763\tvalid_1's auc: 0.790642\n"
     ]
    },
    {
     "name": "stderr",
     "output_type": "stream",
     "text": [
      "\n",
      "\n",
      "regularization_factors, val_score: 0.792332:  95%|9| 19/20 [2:15:46<06:54, 414.9\u001b[A\u001b[A\n",
      "\n",
      "regularization_factors, val_score: 0.792332: 100%|#| 20/20 [2:15:46<00:00, 407.3\u001b[A\u001b[A\n",
      "\n",
      "\n",
      "  0%|                                                     | 0/5 [00:00<?, ?it/s]\u001b[A\u001b[A\n",
      "\n",
      "min_data_in_leaf, val_score: 0.792332:   0%|              | 0/5 [00:00<?, ?it/s]\u001b[A\u001b[A"
     ]
    },
    {
     "name": "stdout",
     "output_type": "stream",
     "text": [
      "Training until validation scores don't improve for 150 rounds\n",
      "Early stopping, best iteration is:\n",
      "[2450]\tvalid_0's auc: 0.955428\tvalid_1's auc: 0.791915\n"
     ]
    },
    {
     "name": "stderr",
     "output_type": "stream",
     "text": [
      "\n",
      "\n",
      "min_data_in_leaf, val_score: 0.792332:   0%|              | 0/5 [07:34<?, ?it/s]\u001b[A\u001b[A\n",
      "\n",
      "min_data_in_leaf, val_score: 0.792332:  20%|#    | 1/5 [07:34<30:16, 454.19s/it]\u001b[A\u001b[A\n",
      "\n",
      "min_data_in_leaf, val_score: 0.792332:  20%|#    | 1/5 [07:34<30:16, 454.19s/it]\u001b[A\u001b[A"
     ]
    },
    {
     "name": "stdout",
     "output_type": "stream",
     "text": [
      "Training until validation scores don't improve for 150 rounds\n",
      "Early stopping, best iteration is:\n",
      "[2584]\tvalid_0's auc: 0.959692\tvalid_1's auc: 0.792392\n"
     ]
    },
    {
     "name": "stderr",
     "output_type": "stream",
     "text": [
      "\n",
      "\n",
      "min_data_in_leaf, val_score: 0.792392:  20%|#    | 1/5 [15:58<30:16, 454.19s/it]\u001b[A\u001b[A\n",
      "\n",
      "min_data_in_leaf, val_score: 0.792392:  40%|##   | 2/5 [15:58<24:11, 483.75s/it]\u001b[A\u001b[A\n",
      "\n",
      "min_data_in_leaf, val_score: 0.792392:  40%|##   | 2/5 [15:58<24:11, 483.75s/it]\u001b[A\u001b[A"
     ]
    },
    {
     "name": "stdout",
     "output_type": "stream",
     "text": [
      "Training until validation scores don't improve for 150 rounds\n",
      "Early stopping, best iteration is:\n",
      "[2384]\tvalid_0's auc: 0.953368\tvalid_1's auc: 0.791946\n"
     ]
    },
    {
     "name": "stderr",
     "output_type": "stream",
     "text": [
      "\n",
      "\n",
      "min_data_in_leaf, val_score: 0.792392:  40%|##   | 2/5 [24:23<24:11, 483.75s/it]\u001b[A\u001b[A\n",
      "\n",
      "min_data_in_leaf, val_score: 0.792392:  60%|###  | 3/5 [24:23<16:26, 493.19s/it]\u001b[A\u001b[A\n",
      "\n",
      "min_data_in_leaf, val_score: 0.792392:  60%|###  | 3/5 [24:23<16:26, 493.19s/it]\u001b[A\u001b[A"
     ]
    },
    {
     "name": "stdout",
     "output_type": "stream",
     "text": [
      "Training until validation scores don't improve for 150 rounds\n",
      "Early stopping, best iteration is:\n",
      "[2549]\tvalid_0's auc: 0.958641\tvalid_1's auc: 0.79227\n"
     ]
    },
    {
     "name": "stderr",
     "output_type": "stream",
     "text": [
      "\n",
      "\n",
      "min_data_in_leaf, val_score: 0.792392:  60%|###  | 3/5 [33:05<16:26, 493.19s/it]\u001b[A\u001b[A\n",
      "\n",
      "min_data_in_leaf, val_score: 0.792392:  80%|#### | 4/5 [33:05<08:24, 504.57s/it]\u001b[A\u001b[A\n",
      "\n",
      "min_data_in_leaf, val_score: 0.792392:  80%|#### | 4/5 [33:05<08:24, 504.57s/it]\u001b[A\u001b[A"
     ]
    },
    {
     "name": "stdout",
     "output_type": "stream",
     "text": [
      "Training until validation scores don't improve for 150 rounds\n",
      "Early stopping, best iteration is:\n",
      "[2410]\tvalid_0's auc: 0.954306\tvalid_1's auc: 0.792254\n"
     ]
    },
    {
     "name": "stderr",
     "output_type": "stream",
     "text": [
      "\n",
      "\n",
      "min_data_in_leaf, val_score: 0.792392:  80%|#### | 4/5 [41:18<08:24, 504.57s/it]\u001b[A\u001b[A\n",
      "\n",
      "min_data_in_leaf, val_score: 0.792392: 100%|#####| 5/5 [41:19<00:00, 495.81s/it]\u001b[A\u001b[A\n"
     ]
    },
    {
     "name": "stdout",
     "output_type": "stream",
     "text": [
      "Best params: {'objective': 'binary', 'metric': 'auc', 'verbosity': -1, 'boosting_type': 'gbdt', 'learning_rate': 0.005603627873630697, 'feature_pre_filter': False, 'lambda_l1': 3.778715480993499e-08, 'lambda_l2': 9.701943176300759, 'num_leaves': 124, 'feature_fraction': 0.41600000000000004, 'bagging_fraction': 0.7401877344450646, 'bagging_freq': 2, 'min_child_samples': 100, 'num_iterations': 5926}\n",
      "CPU times: user 1d 8h 29min 24s, sys: 1h 47min 29s, total: 1d 10h 16min 53s\n",
      "Wall time: 6h 46min 1s\n"
     ]
    }
   ],
   "source": [
    "%%time\n",
    "dtrain = lgbm.Dataset(train[ensemble_features], label=train[target_column])\n",
    "dval = lgb.Dataset(test[ensemble_features], label=test[target_column])\n",
    "\n",
    "params = {\n",
    "    \"objective\": \"binary\",\n",
    "    \"metric\": \"auc\",\n",
    "    \"verbosity\": -1,\n",
    "    \"boosting_type\": \"gbdt\",\n",
    "    \"n_estimators\":5926,\n",
    "    \"learning_rate\": 0.005603627873630697\n",
    "}\n",
    "\n",
    "bst = lgb.train(\n",
    "    params,\n",
    "    dtrain,\n",
    "    valid_sets=[dtrain, dval],\n",
    "    callbacks=[early_stopping(150)],\n",
    "    show_progress_bar = True\n",
    ")\n",
    "\n",
    "preds = bst.predict(test[ensemble_features],num_iteration=bst.best_iteration)\n",
    "score = roc_auc_score(test[target_column], preds)\n",
    "\n",
    "ensemble_features_best_params = bst.params\n",
    "print(\"Best params:\", ensemble_features_best_params)\n",
    "\n"
   ]
  },
  {
   "cell_type": "code",
   "execution_count": 16,
   "id": "2817ce55-c35e-4760-8fa7-38bacc2cd419",
   "metadata": {},
   "outputs": [
    {
     "data": {
      "text/plain": [
       "{'objective': 'binary',\n",
       " 'metric': 'auc',\n",
       " 'verbosity': -1,\n",
       " 'boosting_type': 'gbdt',\n",
       " 'learning_rate': 0.005603627873630697,\n",
       " 'feature_pre_filter': False,\n",
       " 'lambda_l1': 3.778715480993499e-08,\n",
       " 'lambda_l2': 9.701943176300759,\n",
       " 'num_leaves': 124,\n",
       " 'feature_fraction': 0.41600000000000004,\n",
       " 'bagging_fraction': 0.7401877344450646,\n",
       " 'bagging_freq': 2,\n",
       " 'min_child_samples': 100,\n",
       " 'num_iterations': 5926}"
      ]
     },
     "execution_count": 16,
     "metadata": {},
     "output_type": "execute_result"
    }
   ],
   "source": [
    "ensemble_features_best_params"
   ]
  },
  {
   "cell_type": "markdown",
   "id": "60faca1a-15bb-4256-a9cc-adf63b01c239",
   "metadata": {},
   "source": [
    "### Optuna Features"
   ]
  },
  {
   "cell_type": "code",
   "execution_count": 17,
   "id": "08adfb10-36b6-4176-bf61-4abe1a8d8e7f",
   "metadata": {
    "collapsed": true,
    "jupyter": {
     "outputs_hidden": true
    }
   },
   "outputs": [
    {
     "name": "stderr",
     "output_type": "stream",
     "text": [
      "\n",
      "\n",
      "  0%|                                                     | 0/7 [00:00<?, ?it/s]\u001b[A\u001b[A\n",
      "\n",
      "feature_fraction, val_score: -inf:   0%|                  | 0/7 [00:00<?, ?it/s]\u001b[A\u001b[A"
     ]
    },
    {
     "name": "stdout",
     "output_type": "stream",
     "text": [
      "Training until validation scores don't improve for 150 rounds\n"
     ]
    },
    {
     "name": "stderr",
     "output_type": "stream",
     "text": [
      "\n",
      "\n",
      "feature_fraction, val_score: 0.784149:   0%|              | 0/7 [02:43<?, ?it/s]\u001b[A\u001b[A\n",
      "\n",
      "feature_fraction, val_score: 0.784149:  14%|7    | 1/7 [02:43<16:18, 163.04s/it]\u001b[A\u001b[A\n",
      "\n",
      "feature_fraction, val_score: 0.784149:  14%|7    | 1/7 [02:43<16:18, 163.04s/it]\u001b[A\u001b[A"
     ]
    },
    {
     "name": "stdout",
     "output_type": "stream",
     "text": [
      "Early stopping, best iteration is:\n",
      "[2285]\tvalid_0's auc: 0.867886\tvalid_1's auc: 0.784149\n",
      "Training until validation scores don't improve for 150 rounds\n"
     ]
    },
    {
     "name": "stderr",
     "output_type": "stream",
     "text": [
      "\n",
      "\n",
      "feature_fraction, val_score: 0.785450:  14%|7    | 1/7 [06:38<16:18, 163.04s/it]\u001b[A\u001b[A\n",
      "\n",
      "feature_fraction, val_score: 0.785450:  29%|#4   | 2/7 [06:38<17:09, 205.85s/it]\u001b[A\u001b[A"
     ]
    },
    {
     "name": "stdout",
     "output_type": "stream",
     "text": [
      "Early stopping, best iteration is:\n",
      "[3110]\tvalid_0's auc: 0.883973\tvalid_1's auc: 0.78545\n"
     ]
    },
    {
     "name": "stderr",
     "output_type": "stream",
     "text": [
      "\n",
      "\n",
      "feature_fraction, val_score: 0.785450:  29%|#4   | 2/7 [06:38<17:09, 205.85s/it]\u001b[A\u001b[A"
     ]
    },
    {
     "name": "stdout",
     "output_type": "stream",
     "text": [
      "Training until validation scores don't improve for 150 rounds\n"
     ]
    },
    {
     "name": "stderr",
     "output_type": "stream",
     "text": [
      "\n",
      "\n",
      "feature_fraction, val_score: 0.785450:  29%|#4   | 2/7 [10:33<17:09, 205.85s/it]\u001b[A\u001b[A\n",
      "\n",
      "feature_fraction, val_score: 0.785450:  43%|##1  | 3/7 [10:33<14:36, 219.13s/it]\u001b[A\u001b[A"
     ]
    },
    {
     "name": "stdout",
     "output_type": "stream",
     "text": [
      "Early stopping, best iteration is:\n",
      "[3192]\tvalid_0's auc: 0.888221\tvalid_1's auc: 0.785233\n"
     ]
    },
    {
     "name": "stderr",
     "output_type": "stream",
     "text": [
      "\n",
      "\n",
      "feature_fraction, val_score: 0.785450:  43%|##1  | 3/7 [10:33<14:36, 219.13s/it]\u001b[A\u001b[A"
     ]
    },
    {
     "name": "stdout",
     "output_type": "stream",
     "text": [
      "Training until validation scores don't improve for 150 rounds\n"
     ]
    },
    {
     "name": "stderr",
     "output_type": "stream",
     "text": [
      "\n",
      "\n",
      "feature_fraction, val_score: 0.785450:  43%|##1  | 3/7 [14:00<14:36, 219.13s/it]\u001b[A\u001b[A\n",
      "\n",
      "feature_fraction, val_score: 0.785450:  57%|##8  | 4/7 [14:00<10:42, 214.25s/it]\u001b[A\u001b[A"
     ]
    },
    {
     "name": "stdout",
     "output_type": "stream",
     "text": [
      "Early stopping, best iteration is:\n",
      "[3452]\tvalid_0's auc: 0.89385\tvalid_1's auc: 0.784906\n"
     ]
    },
    {
     "name": "stderr",
     "output_type": "stream",
     "text": [
      "\n",
      "\n",
      "feature_fraction, val_score: 0.785450:  57%|##8  | 4/7 [14:00<10:42, 214.25s/it]\u001b[A\u001b[A"
     ]
    },
    {
     "name": "stdout",
     "output_type": "stream",
     "text": [
      "Training until validation scores don't improve for 150 rounds\n"
     ]
    },
    {
     "name": "stderr",
     "output_type": "stream",
     "text": [
      "\n",
      "\n",
      "feature_fraction, val_score: 0.785450:  57%|##8  | 4/7 [18:13<10:42, 214.25s/it]\u001b[A\u001b[A\n",
      "\n",
      "feature_fraction, val_score: 0.785450:  71%|###5 | 5/7 [18:13<07:36, 228.29s/it]\u001b[A\u001b[A\n",
      "\n",
      "feature_fraction, val_score: 0.785450:  71%|###5 | 5/7 [18:13<07:36, 228.29s/it]\u001b[A\u001b[A"
     ]
    },
    {
     "name": "stdout",
     "output_type": "stream",
     "text": [
      "Early stopping, best iteration is:\n",
      "[3144]\tvalid_0's auc: 0.886079\tvalid_1's auc: 0.785397\n",
      "Training until validation scores don't improve for 150 rounds\n"
     ]
    },
    {
     "name": "stderr",
     "output_type": "stream",
     "text": [
      "\n",
      "\n",
      "feature_fraction, val_score: 0.785450:  71%|###5 | 5/7 [21:20<07:36, 228.29s/it]\u001b[A\u001b[A\n",
      "\n",
      "feature_fraction, val_score: 0.785450:  86%|####2| 6/7 [21:20<03:34, 214.21s/it]\u001b[A\u001b[A\n",
      "\n",
      "feature_fraction, val_score: 0.785450:  86%|####2| 6/7 [21:20<03:34, 214.21s/it]\u001b[A\u001b[A"
     ]
    },
    {
     "name": "stdout",
     "output_type": "stream",
     "text": [
      "Early stopping, best iteration is:\n",
      "[3200]\tvalid_0's auc: 0.888361\tvalid_1's auc: 0.78404\n",
      "Training until validation scores don't improve for 150 rounds\n"
     ]
    },
    {
     "name": "stderr",
     "output_type": "stream",
     "text": [
      "\n",
      "\n",
      "feature_fraction, val_score: 0.785450:  86%|####2| 6/7 [23:51<03:34, 214.21s/it]\u001b[A\u001b[A\n",
      "\n",
      "feature_fraction, val_score: 0.785450: 100%|#####| 7/7 [23:51<00:00, 204.54s/it]\u001b[A\u001b[A\n"
     ]
    },
    {
     "name": "stdout",
     "output_type": "stream",
     "text": [
      "Early stopping, best iteration is:\n",
      "[2453]\tvalid_0's auc: 0.872044\tvalid_1's auc: 0.784817\n"
     ]
    },
    {
     "name": "stderr",
     "output_type": "stream",
     "text": [
      "\n",
      "\n",
      "  0%|                                                    | 0/20 [00:00<?, ?it/s]\u001b[A\u001b[A\n",
      "\n",
      "num_leaves, val_score: 0.785450:   0%|                   | 0/20 [00:00<?, ?it/s]\u001b[A\u001b[A"
     ]
    },
    {
     "name": "stdout",
     "output_type": "stream",
     "text": [
      "Training until validation scores don't improve for 150 rounds\n",
      "Early stopping, best iteration is:\n",
      "[1534]\tvalid_0's auc: 0.988772\tvalid_1's auc: 0.785938\n"
     ]
    },
    {
     "name": "stderr",
     "output_type": "stream",
     "text": [
      "\n",
      "\n",
      "num_leaves, val_score: 0.785938:   0%|                   | 0/20 [03:48<?, ?it/s]\u001b[A\u001b[A\n",
      "\n",
      "num_leaves, val_score: 0.785938:   5%|4       | 1/20 [03:48<1:12:30, 228.98s/it]\u001b[A\u001b[A\n",
      "\n",
      "num_leaves, val_score: 0.785938:   5%|4       | 1/20 [03:49<1:12:30, 228.98s/it]\u001b[A\u001b[A"
     ]
    },
    {
     "name": "stdout",
     "output_type": "stream",
     "text": [
      "Training until validation scores don't improve for 150 rounds\n",
      "Early stopping, best iteration is:\n",
      "[1870]\tvalid_0's auc: 0.981861\tvalid_1's auc: 0.786084\n"
     ]
    },
    {
     "name": "stderr",
     "output_type": "stream",
     "text": [
      "\n",
      "\n",
      "num_leaves, val_score: 0.786084:   5%|4       | 1/20 [07:36<1:12:30, 228.98s/it]\u001b[A\u001b[A\n",
      "\n",
      "num_leaves, val_score: 0.786084:  10%|8       | 2/20 [07:36<1:08:28, 228.28s/it]\u001b[A\u001b[A\n",
      "\n",
      "num_leaves, val_score: 0.786084:  10%|8       | 2/20 [07:36<1:08:28, 228.28s/it]\u001b[A\u001b[A"
     ]
    },
    {
     "name": "stdout",
     "output_type": "stream",
     "text": [
      "Training until validation scores don't improve for 150 rounds\n",
      "Early stopping, best iteration is:\n",
      "[1632]\tvalid_0's auc: 0.986501\tvalid_1's auc: 0.786213\n"
     ]
    },
    {
     "name": "stderr",
     "output_type": "stream",
     "text": [
      "\n",
      "\n",
      "num_leaves, val_score: 0.786213:  10%|8       | 2/20 [11:17<1:08:28, 228.28s/it]\u001b[A\u001b[A\n",
      "\n",
      "num_leaves, val_score: 0.786213:  15%|#2      | 3/20 [11:17<1:03:41, 224.82s/it]\u001b[A\u001b[A\n",
      "\n",
      "num_leaves, val_score: 0.786213:  15%|#2      | 3/20 [11:17<1:03:41, 224.82s/it]\u001b[A\u001b[A"
     ]
    },
    {
     "name": "stdout",
     "output_type": "stream",
     "text": [
      "Training until validation scores don't improve for 150 rounds\n"
     ]
    },
    {
     "name": "stderr",
     "output_type": "stream",
     "text": [
      "\n",
      "\n",
      "num_leaves, val_score: 0.786213:  15%|#2      | 3/20 [16:35<1:03:41, 224.82s/it]\u001b[A\u001b[A\n",
      "\n",
      "num_leaves, val_score: 0.786213:  20%|#6      | 4/20 [16:35<1:09:47, 261.70s/it]\u001b[A\u001b[A"
     ]
    },
    {
     "name": "stdout",
     "output_type": "stream",
     "text": [
      "Did not meet early stopping. Best iteration is:\n",
      "[5926]\tvalid_0's auc: 0.847459\tvalid_1's auc: 0.785285\n"
     ]
    },
    {
     "name": "stderr",
     "output_type": "stream",
     "text": [
      "\n",
      "\n",
      "num_leaves, val_score: 0.786213:  20%|#6      | 4/20 [16:35<1:09:47, 261.70s/it]\u001b[A\u001b[A"
     ]
    },
    {
     "name": "stdout",
     "output_type": "stream",
     "text": [
      "Training until validation scores don't improve for 150 rounds\n",
      "Early stopping, best iteration is:\n",
      "[1614]\tvalid_0's auc: 0.980079\tvalid_1's auc: 0.786188\n"
     ]
    },
    {
     "name": "stderr",
     "output_type": "stream",
     "text": [
      "\n",
      "\n",
      "num_leaves, val_score: 0.786213:  20%|#6      | 4/20 [20:01<1:09:47, 261.70s/it]\u001b[A\u001b[A\n",
      "\n",
      "num_leaves, val_score: 0.786213:  25%|##      | 5/20 [20:01<1:00:23, 241.56s/it]\u001b[A\u001b[A\n",
      "\n",
      "num_leaves, val_score: 0.786213:  25%|##      | 5/20 [20:01<1:00:23, 241.56s/it]\u001b[A\u001b[A"
     ]
    },
    {
     "name": "stdout",
     "output_type": "stream",
     "text": [
      "Training until validation scores don't improve for 150 rounds\n",
      "Early stopping, best iteration is:\n",
      "[1456]\tvalid_0's auc: 0.977783\tvalid_1's auc: 0.786024\n"
     ]
    },
    {
     "name": "stderr",
     "output_type": "stream",
     "text": [
      "\n",
      "\n",
      "num_leaves, val_score: 0.786213:  25%|##      | 5/20 [23:16<1:00:23, 241.56s/it]\u001b[A\u001b[A\n",
      "\n",
      "num_leaves, val_score: 0.786213:  30%|###       | 6/20 [23:16<52:38, 225.61s/it]\u001b[A\u001b[A\n",
      "\n",
      "num_leaves, val_score: 0.786213:  30%|###       | 6/20 [23:16<52:38, 225.61s/it]\u001b[A\u001b[A"
     ]
    },
    {
     "name": "stdout",
     "output_type": "stream",
     "text": [
      "Training until validation scores don't improve for 150 rounds\n",
      "Early stopping, best iteration is:\n",
      "[1438]\tvalid_0's auc: 0.991338\tvalid_1's auc: 0.785363\n"
     ]
    },
    {
     "name": "stderr",
     "output_type": "stream",
     "text": [
      "\n",
      "\n",
      "num_leaves, val_score: 0.786213:  30%|###       | 6/20 [26:59<52:38, 225.61s/it]\u001b[A\u001b[A\n",
      "\n",
      "num_leaves, val_score: 0.786213:  35%|###5      | 7/20 [26:59<48:41, 224.73s/it]\u001b[A\u001b[A\n",
      "\n",
      "num_leaves, val_score: 0.786213:  35%|###5      | 7/20 [26:59<48:41, 224.73s/it]\u001b[A\u001b[A"
     ]
    },
    {
     "name": "stdout",
     "output_type": "stream",
     "text": [
      "Training until validation scores don't improve for 150 rounds\n",
      "Early stopping, best iteration is:\n",
      "[1935]\tvalid_0's auc: 0.960159\tvalid_1's auc: 0.785938\n"
     ]
    },
    {
     "name": "stderr",
     "output_type": "stream",
     "text": [
      "\n",
      "\n",
      "num_leaves, val_score: 0.786213:  35%|###5      | 7/20 [30:20<48:41, 224.73s/it]\u001b[A\u001b[A\n",
      "\n",
      "num_leaves, val_score: 0.786213:  40%|####      | 8/20 [30:20<43:26, 217.21s/it]\u001b[A\u001b[A\n",
      "\n",
      "num_leaves, val_score: 0.786213:  40%|####      | 8/20 [30:20<43:26, 217.21s/it]\u001b[A\u001b[A"
     ]
    },
    {
     "name": "stdout",
     "output_type": "stream",
     "text": [
      "Training until validation scores don't improve for 150 rounds\n",
      "Early stopping, best iteration is:\n",
      "[2101]\tvalid_0's auc: 0.969321\tvalid_1's auc: 0.786076\n"
     ]
    },
    {
     "name": "stderr",
     "output_type": "stream",
     "text": [
      "\n",
      "\n",
      "num_leaves, val_score: 0.786213:  40%|####      | 8/20 [33:53<43:26, 217.21s/it]\u001b[A\u001b[A\n",
      "\n",
      "num_leaves, val_score: 0.786213:  45%|####5     | 9/20 [33:53<39:35, 215.95s/it]\u001b[A\u001b[A\n",
      "\n",
      "num_leaves, val_score: 0.786213:  45%|####5     | 9/20 [33:53<39:35, 215.95s/it]\u001b[A\u001b[A"
     ]
    },
    {
     "name": "stdout",
     "output_type": "stream",
     "text": [
      "Training until validation scores don't improve for 150 rounds\n",
      "Early stopping, best iteration is:\n",
      "[1389]\tvalid_0's auc: 0.968643\tvalid_1's auc: 0.786006\n"
     ]
    },
    {
     "name": "stderr",
     "output_type": "stream",
     "text": [
      "\n",
      "\n",
      "num_leaves, val_score: 0.786213:  45%|####5     | 9/20 [36:47<39:35, 215.95s/it]\u001b[A\u001b[A\n",
      "\n",
      "num_leaves, val_score: 0.786213:  50%|####5    | 10/20 [36:47<33:48, 202.88s/it]\u001b[A\u001b[A\n",
      "\n",
      "num_leaves, val_score: 0.786213:  50%|####5    | 10/20 [36:47<33:48, 202.88s/it]\u001b[A\u001b[A"
     ]
    },
    {
     "name": "stdout",
     "output_type": "stream",
     "text": [
      "Training until validation scores don't improve for 150 rounds\n",
      "Early stopping, best iteration is:\n",
      "[1893]\tvalid_0's auc: 0.992404\tvalid_1's auc: 0.786026\n"
     ]
    },
    {
     "name": "stderr",
     "output_type": "stream",
     "text": [
      "\n",
      "\n",
      "num_leaves, val_score: 0.786213:  50%|####5    | 10/20 [40:51<33:48, 202.88s/it]\u001b[A\u001b[A\n",
      "\n",
      "num_leaves, val_score: 0.786213:  55%|####9    | 11/20 [40:51<32:19, 215.50s/it]\u001b[A\u001b[A\n",
      "\n",
      "num_leaves, val_score: 0.786213:  55%|####9    | 11/20 [40:51<32:19, 215.50s/it]\u001b[A\u001b[A"
     ]
    },
    {
     "name": "stdout",
     "output_type": "stream",
     "text": [
      "Training until validation scores don't improve for 150 rounds\n",
      "Early stopping, best iteration is:\n",
      "[2102]\tvalid_0's auc: 0.939344\tvalid_1's auc: 0.785994\n"
     ]
    },
    {
     "name": "stderr",
     "output_type": "stream",
     "text": [
      "\n",
      "\n",
      "num_leaves, val_score: 0.786213:  55%|####9    | 11/20 [43:54<32:19, 215.50s/it]\u001b[A\u001b[A\n",
      "\n",
      "num_leaves, val_score: 0.786213:  60%|#####3   | 12/20 [43:54<27:26, 205.81s/it]\u001b[A\u001b[A\n",
      "\n",
      "num_leaves, val_score: 0.786213:  60%|#####3   | 12/20 [43:54<27:26, 205.81s/it]\u001b[A\u001b[A"
     ]
    },
    {
     "name": "stdout",
     "output_type": "stream",
     "text": [
      "Training until validation scores don't improve for 150 rounds\n",
      "Early stopping, best iteration is:\n",
      "[1698]\tvalid_0's auc: 0.971951\tvalid_1's auc: 0.785916\n"
     ]
    },
    {
     "name": "stderr",
     "output_type": "stream",
     "text": [
      "\n",
      "\n",
      "num_leaves, val_score: 0.786213:  60%|#####3   | 12/20 [47:05<27:26, 205.81s/it]\u001b[A\u001b[A\n",
      "\n",
      "num_leaves, val_score: 0.786213:  65%|#####8   | 13/20 [47:05<23:29, 201.34s/it]\u001b[A\u001b[A\n",
      "\n",
      "num_leaves, val_score: 0.786213:  65%|#####8   | 13/20 [47:05<23:29, 201.34s/it]\u001b[A\u001b[A"
     ]
    },
    {
     "name": "stdout",
     "output_type": "stream",
     "text": [
      "Training until validation scores don't improve for 150 rounds\n",
      "Early stopping, best iteration is:\n",
      "[1553]\tvalid_0's auc: 0.991867\tvalid_1's auc: 0.786084\n"
     ]
    },
    {
     "name": "stderr",
     "output_type": "stream",
     "text": [
      "\n",
      "\n",
      "num_leaves, val_score: 0.786213:  65%|#####8   | 13/20 [50:47<23:29, 201.34s/it]\u001b[A\u001b[A\n",
      "\n",
      "num_leaves, val_score: 0.786213:  70%|######3  | 14/20 [50:47<20:45, 207.59s/it]\u001b[A\u001b[A\n",
      "\n",
      "num_leaves, val_score: 0.786213:  70%|######3  | 14/20 [50:47<20:45, 207.59s/it]\u001b[A\u001b[A"
     ]
    },
    {
     "name": "stdout",
     "output_type": "stream",
     "text": [
      "Training until validation scores don't improve for 150 rounds\n",
      "Early stopping, best iteration is:\n",
      "[1496]\tvalid_0's auc: 0.992349\tvalid_1's auc: 0.785476\n"
     ]
    },
    {
     "name": "stderr",
     "output_type": "stream",
     "text": [
      "\n",
      "\n",
      "num_leaves, val_score: 0.786213:  70%|######3  | 14/20 [54:34<20:45, 207.59s/it]\u001b[A\u001b[A\n",
      "\n",
      "num_leaves, val_score: 0.786213:  75%|######7  | 15/20 [54:34<17:47, 213.45s/it]\u001b[A\u001b[A\n",
      "\n",
      "num_leaves, val_score: 0.786213:  75%|######7  | 15/20 [54:34<17:47, 213.45s/it]\u001b[A\u001b[A"
     ]
    },
    {
     "name": "stdout",
     "output_type": "stream",
     "text": [
      "Training until validation scores don't improve for 150 rounds\n",
      "Early stopping, best iteration is:\n",
      "[1548]\tvalid_0's auc: 0.987076\tvalid_1's auc: 0.786197\n"
     ]
    },
    {
     "name": "stderr",
     "output_type": "stream",
     "text": [
      "\n",
      "\n",
      "num_leaves, val_score: 0.786213:  75%|######7  | 15/20 [58:08<17:47, 213.45s/it]\u001b[A\u001b[A\n",
      "\n",
      "num_leaves, val_score: 0.786213:  80%|#######2 | 16/20 [58:08<14:14, 213.63s/it]\u001b[A\u001b[A\n",
      "\n",
      "num_leaves, val_score: 0.786213:  80%|#######2 | 16/20 [58:08<14:14, 213.63s/it]\u001b[A\u001b[A"
     ]
    },
    {
     "name": "stdout",
     "output_type": "stream",
     "text": [
      "Training until validation scores don't improve for 150 rounds\n",
      "Early stopping, best iteration is:\n",
      "[1628]\tvalid_0's auc: 0.986125\tvalid_1's auc: 0.786047\n"
     ]
    },
    {
     "name": "stderr",
     "output_type": "stream",
     "text": [
      "\n",
      "\n",
      "num_leaves, val_score: 0.786213:  80%|#####6 | 16/20 [1:01:44<14:14, 213.63s/it]\u001b[A\u001b[A\n",
      "\n",
      "num_leaves, val_score: 0.786213:  85%|#####9 | 17/20 [1:01:44<10:42, 214.26s/it]\u001b[A\u001b[A\n",
      "\n",
      "num_leaves, val_score: 0.786213:  85%|#####9 | 17/20 [1:01:44<10:42, 214.26s/it]\u001b[A\u001b[A"
     ]
    },
    {
     "name": "stdout",
     "output_type": "stream",
     "text": [
      "Training until validation scores don't improve for 150 rounds\n",
      "Early stopping, best iteration is:\n",
      "[1831]\tvalid_0's auc: 0.98958\tvalid_1's auc: 0.786216\n"
     ]
    },
    {
     "name": "stderr",
     "output_type": "stream",
     "text": [
      "\n",
      "\n",
      "num_leaves, val_score: 0.786216:  85%|#####9 | 17/20 [1:05:40<10:42, 214.26s/it]\u001b[A\u001b[A\n",
      "\n",
      "num_leaves, val_score: 0.786216:  90%|######3| 18/20 [1:05:40<07:21, 220.63s/it]\u001b[A\u001b[A\n",
      "\n",
      "num_leaves, val_score: 0.786216:  90%|######3| 18/20 [1:05:40<07:21, 220.63s/it]\u001b[A\u001b[A"
     ]
    },
    {
     "name": "stdout",
     "output_type": "stream",
     "text": [
      "Training until validation scores don't improve for 150 rounds\n",
      "Early stopping, best iteration is:\n",
      "[1548]\tvalid_0's auc: 0.987076\tvalid_1's auc: 0.786197\n"
     ]
    },
    {
     "name": "stderr",
     "output_type": "stream",
     "text": [
      "\n",
      "\n",
      "num_leaves, val_score: 0.786216:  90%|######3| 18/20 [1:09:15<07:21, 220.63s/it]\u001b[A\u001b[A\n",
      "\n",
      "num_leaves, val_score: 0.786216:  95%|######6| 19/20 [1:09:15<03:38, 218.91s/it]\u001b[A\u001b[A\n",
      "\n",
      "num_leaves, val_score: 0.786216:  95%|######6| 19/20 [1:09:15<03:38, 218.91s/it]\u001b[A\u001b[A"
     ]
    },
    {
     "name": "stdout",
     "output_type": "stream",
     "text": [
      "Training until validation scores don't improve for 150 rounds\n",
      "Early stopping, best iteration is:\n",
      "[2128]\tvalid_0's auc: 0.980586\tvalid_1's auc: 0.785902\n"
     ]
    },
    {
     "name": "stderr",
     "output_type": "stream",
     "text": [
      "\n",
      "\n",
      "num_leaves, val_score: 0.786216:  95%|######6| 19/20 [1:13:05<03:38, 218.91s/it]\u001b[A\u001b[A\n",
      "\n",
      "num_leaves, val_score: 0.786216: 100%|#######| 20/20 [1:13:05<00:00, 219.29s/it]\u001b[A\u001b[A\n",
      "\n",
      "\n",
      "  0%|                                                    | 0/10 [00:00<?, ?it/s]\u001b[A\u001b[A\n",
      "\n",
      "bagging, val_score: 0.786216:   0%|                      | 0/10 [00:00<?, ?it/s]\u001b[A\u001b[A"
     ]
    },
    {
     "name": "stdout",
     "output_type": "stream",
     "text": [
      "Training until validation scores don't improve for 150 rounds\n",
      "Early stopping, best iteration is:\n",
      "[1687]\tvalid_0's auc: 0.987628\tvalid_1's auc: 0.786402\n"
     ]
    },
    {
     "name": "stderr",
     "output_type": "stream",
     "text": [
      "\n",
      "\n",
      "bagging, val_score: 0.786402:   0%|                      | 0/10 [03:36<?, ?it/s]\u001b[A\u001b[A\n",
      "\n",
      "bagging, val_score: 0.786402:  10%|#3           | 1/10 [03:36<32:24, 216.07s/it]\u001b[A\u001b[A\n",
      "\n",
      "bagging, val_score: 0.786402:  10%|#3           | 1/10 [03:36<32:24, 216.07s/it]\u001b[A\u001b[A"
     ]
    },
    {
     "name": "stdout",
     "output_type": "stream",
     "text": [
      "Training until validation scores don't improve for 150 rounds\n",
      "Early stopping, best iteration is:\n",
      "[1810]\tvalid_0's auc: 0.990008\tvalid_1's auc: 0.786419\n"
     ]
    },
    {
     "name": "stderr",
     "output_type": "stream",
     "text": [
      "\n",
      "\n",
      "bagging, val_score: 0.786419:  10%|#3           | 1/10 [07:26<32:24, 216.07s/it]\u001b[A\u001b[A\n",
      "\n",
      "bagging, val_score: 0.786419:  20%|##6          | 2/10 [07:26<29:53, 224.22s/it]\u001b[A\u001b[A\n",
      "\n",
      "bagging, val_score: 0.786419:  20%|##6          | 2/10 [07:26<29:53, 224.22s/it]\u001b[A\u001b[A"
     ]
    },
    {
     "name": "stdout",
     "output_type": "stream",
     "text": [
      "Training until validation scores don't improve for 150 rounds\n",
      "Early stopping, best iteration is:\n",
      "[1915]\tvalid_0's auc: 0.991856\tvalid_1's auc: 0.78672\n"
     ]
    },
    {
     "name": "stderr",
     "output_type": "stream",
     "text": [
      "\n",
      "\n",
      "bagging, val_score: 0.786720:  20%|##6          | 2/10 [11:27<29:53, 224.22s/it]\u001b[A\u001b[A\n",
      "\n",
      "bagging, val_score: 0.786720:  30%|###9         | 3/10 [11:27<27:04, 232.10s/it]\u001b[A\u001b[A\n",
      "\n",
      "bagging, val_score: 0.786720:  30%|###9         | 3/10 [11:27<27:04, 232.10s/it]\u001b[A\u001b[A"
     ]
    },
    {
     "name": "stdout",
     "output_type": "stream",
     "text": [
      "Training until validation scores don't improve for 150 rounds\n",
      "Early stopping, best iteration is:\n",
      "[2038]\tvalid_0's auc: 0.993536\tvalid_1's auc: 0.786909\n"
     ]
    },
    {
     "name": "stderr",
     "output_type": "stream",
     "text": [
      "\n",
      "\n",
      "bagging, val_score: 0.786909:  30%|###9         | 3/10 [15:41<27:04, 232.10s/it]\u001b[A\u001b[A\n",
      "\n",
      "bagging, val_score: 0.786909:  40%|#####2       | 4/10 [15:41<24:05, 240.89s/it]\u001b[A\u001b[A\n",
      "\n",
      "bagging, val_score: 0.786909:  40%|#####2       | 4/10 [15:41<24:05, 240.89s/it]\u001b[A\u001b[A"
     ]
    },
    {
     "name": "stdout",
     "output_type": "stream",
     "text": [
      "Training until validation scores don't improve for 150 rounds\n",
      "Early stopping, best iteration is:\n",
      "[1673]\tvalid_0's auc: 0.987302\tvalid_1's auc: 0.786607\n"
     ]
    },
    {
     "name": "stderr",
     "output_type": "stream",
     "text": [
      "\n",
      "\n",
      "bagging, val_score: 0.786909:  40%|#####2       | 4/10 [19:17<24:05, 240.89s/it]\u001b[A\u001b[A\n",
      "\n",
      "bagging, val_score: 0.786909:  50%|######5      | 5/10 [19:17<19:19, 231.82s/it]\u001b[A\u001b[A\n",
      "\n",
      "bagging, val_score: 0.786909:  50%|######5      | 5/10 [19:17<19:19, 231.82s/it]\u001b[A\u001b[A"
     ]
    },
    {
     "name": "stdout",
     "output_type": "stream",
     "text": [
      "Training until validation scores don't improve for 150 rounds\n",
      "Early stopping, best iteration is:\n",
      "[1707]\tvalid_0's auc: 0.988111\tvalid_1's auc: 0.786735\n"
     ]
    },
    {
     "name": "stderr",
     "output_type": "stream",
     "text": [
      "\n",
      "\n",
      "bagging, val_score: 0.786909:  50%|######5      | 5/10 [23:03<19:19, 231.82s/it]\u001b[A\u001b[A\n",
      "\n",
      "bagging, val_score: 0.786909:  60%|#######8     | 6/10 [23:03<15:18, 229.73s/it]\u001b[A\u001b[A\n",
      "\n",
      "bagging, val_score: 0.786909:  60%|#######8     | 6/10 [23:03<15:18, 229.73s/it]\u001b[A\u001b[A"
     ]
    },
    {
     "name": "stdout",
     "output_type": "stream",
     "text": [
      "Training until validation scores don't improve for 150 rounds\n",
      "Early stopping, best iteration is:\n",
      "[1950]\tvalid_0's auc: 0.992348\tvalid_1's auc: 0.787256\n"
     ]
    },
    {
     "name": "stderr",
     "output_type": "stream",
     "text": [
      "\n",
      "\n",
      "bagging, val_score: 0.787256:  60%|#######8     | 6/10 [27:18<15:18, 229.73s/it]\u001b[A\u001b[A\n",
      "\n",
      "bagging, val_score: 0.787256:  70%|#########1   | 7/10 [27:18<11:54, 238.13s/it]\u001b[A\u001b[A\n",
      "\n",
      "bagging, val_score: 0.787256:  70%|#########1   | 7/10 [27:18<11:54, 238.13s/it]\u001b[A\u001b[A"
     ]
    },
    {
     "name": "stdout",
     "output_type": "stream",
     "text": [
      "Training until validation scores don't improve for 150 rounds\n",
      "Early stopping, best iteration is:\n",
      "[1936]\tvalid_0's auc: 0.99214\tvalid_1's auc: 0.786477\n"
     ]
    },
    {
     "name": "stderr",
     "output_type": "stream",
     "text": [
      "\n",
      "\n",
      "bagging, val_score: 0.787256:  70%|#########1   | 7/10 [31:32<11:54, 238.13s/it]\u001b[A\u001b[A\n",
      "\n",
      "bagging, val_score: 0.787256:  80%|##########4  | 8/10 [31:32<08:06, 243.15s/it]\u001b[A\u001b[A\n",
      "\n",
      "bagging, val_score: 0.787256:  80%|##########4  | 8/10 [31:32<08:06, 243.15s/it]\u001b[A\u001b[A"
     ]
    },
    {
     "name": "stdout",
     "output_type": "stream",
     "text": [
      "Training until validation scores don't improve for 150 rounds\n",
      "Early stopping, best iteration is:\n",
      "[1762]\tvalid_0's auc: 0.989199\tvalid_1's auc: 0.786273\n"
     ]
    },
    {
     "name": "stderr",
     "output_type": "stream",
     "text": [
      "\n",
      "\n",
      "bagging, val_score: 0.787256:  80%|##########4  | 8/10 [35:23<08:06, 243.15s/it]\u001b[A\u001b[A\n",
      "\n",
      "bagging, val_score: 0.787256:  90%|###########7 | 9/10 [35:23<03:59, 239.18s/it]\u001b[A\u001b[A\n",
      "\n",
      "bagging, val_score: 0.787256:  90%|###########7 | 9/10 [35:23<03:59, 239.18s/it]\u001b[A\u001b[A"
     ]
    },
    {
     "name": "stdout",
     "output_type": "stream",
     "text": [
      "Training until validation scores don't improve for 150 rounds\n",
      "Early stopping, best iteration is:\n",
      "[1471]\tvalid_0's auc: 0.981255\tvalid_1's auc: 0.786092\n"
     ]
    },
    {
     "name": "stderr",
     "output_type": "stream",
     "text": [
      "\n",
      "\n",
      "bagging, val_score: 0.787256:  90%|###########7 | 9/10 [38:23<03:59, 239.18s/it]\u001b[A\u001b[A\n",
      "\n",
      "bagging, val_score: 0.787256: 100%|############| 10/10 [38:23<00:00, 230.39s/it]\u001b[A\u001b[A\n",
      "\n",
      "\n",
      "  0%|                                                     | 0/3 [00:00<?, ?it/s]\u001b[A\u001b[A\n",
      "\n",
      "feature_fraction_stage2, val_score: 0.787256:   0%|       | 0/3 [00:00<?, ?it/s]\u001b[A\u001b[A"
     ]
    },
    {
     "name": "stdout",
     "output_type": "stream",
     "text": [
      "Training until validation scores don't improve for 150 rounds\n",
      "Early stopping, best iteration is:\n",
      "[2098]\tvalid_0's auc: 0.994692\tvalid_1's auc: 0.787395\n"
     ]
    },
    {
     "name": "stderr",
     "output_type": "stream",
     "text": [
      "\n",
      "\n",
      "feature_fraction_stage2, val_score: 0.787395:   0%|       | 0/3 [04:25<?, ?it/s]\u001b[A\u001b[A\n",
      "\n",
      "feature_fraction_stage2, val_score: 0.787395:  33%|3| 1/3 [04:25<08:50, 265.10s/\u001b[A\u001b[A\n",
      "\n",
      "feature_fraction_stage2, val_score: 0.787395:  33%|3| 1/3 [04:25<08:50, 265.10s/\u001b[A\u001b[A"
     ]
    },
    {
     "name": "stdout",
     "output_type": "stream",
     "text": [
      "Training until validation scores don't improve for 150 rounds\n",
      "Early stopping, best iteration is:\n",
      "[2004]\tvalid_0's auc: 0.993507\tvalid_1's auc: 0.78694\n"
     ]
    },
    {
     "name": "stderr",
     "output_type": "stream",
     "text": [
      "\n",
      "\n",
      "feature_fraction_stage2, val_score: 0.787395:  33%|3| 1/3 [08:35<08:50, 265.10s/\u001b[A\u001b[A\n",
      "\n",
      "feature_fraction_stage2, val_score: 0.787395:  67%|6| 2/3 [08:35<04:16, 256.62s/\u001b[A\u001b[A\n",
      "\n",
      "feature_fraction_stage2, val_score: 0.787395:  67%|6| 2/3 [08:35<04:16, 256.62s/\u001b[A\u001b[A"
     ]
    },
    {
     "name": "stdout",
     "output_type": "stream",
     "text": [
      "Training until validation scores don't improve for 150 rounds\n",
      "Early stopping, best iteration is:\n",
      "[2088]\tvalid_0's auc: 0.99416\tvalid_1's auc: 0.785991\n"
     ]
    },
    {
     "name": "stderr",
     "output_type": "stream",
     "text": [
      "\n",
      "\n",
      "feature_fraction_stage2, val_score: 0.787395:  67%|6| 2/3 [12:46<04:16, 256.62s/\u001b[A\u001b[A\n",
      "\n",
      "feature_fraction_stage2, val_score: 0.787395: 100%|#| 3/3 [12:46<00:00, 255.52s/\u001b[A\u001b[A\n",
      "\n",
      "\n",
      "  0%|                                                    | 0/20 [00:00<?, ?it/s]\u001b[A\u001b[A\n",
      "\n",
      "regularization_factors, val_score: 0.787395:   0%|       | 0/20 [00:00<?, ?it/s]\u001b[A\u001b[A"
     ]
    },
    {
     "name": "stdout",
     "output_type": "stream",
     "text": [
      "Training until validation scores don't improve for 150 rounds\n",
      "Early stopping, best iteration is:\n",
      "[1700]\tvalid_0's auc: 0.98884\tvalid_1's auc: 0.786575\n"
     ]
    },
    {
     "name": "stderr",
     "output_type": "stream",
     "text": [
      "\n",
      "\n",
      "regularization_factors, val_score: 0.787395:   0%|       | 0/20 [03:52<?, ?it/s]\u001b[A\u001b[A\n",
      "\n",
      "regularization_factors, val_score: 0.787395:   5%| | 1/20 [03:52<1:13:29, 232.05\u001b[A\u001b[A\n",
      "\n",
      "regularization_factors, val_score: 0.787395:   5%| | 1/20 [03:52<1:13:29, 232.05\u001b[A\u001b[A"
     ]
    },
    {
     "name": "stdout",
     "output_type": "stream",
     "text": [
      "Training until validation scores don't improve for 150 rounds\n",
      "Early stopping, best iteration is:\n",
      "[1845]\tvalid_0's auc: 0.982101\tvalid_1's auc: 0.78708\n"
     ]
    },
    {
     "name": "stderr",
     "output_type": "stream",
     "text": [
      "\n",
      "\n",
      "regularization_factors, val_score: 0.787395:   5%| | 1/20 [08:20<1:13:29, 232.05\u001b[A\u001b[A\n",
      "\n",
      "regularization_factors, val_score: 0.787395:  10%|1| 2/20 [08:20<1:16:05, 253.63\u001b[A\u001b[A\n",
      "\n",
      "regularization_factors, val_score: 0.787395:  10%|1| 2/20 [08:20<1:16:05, 253.63\u001b[A\u001b[A"
     ]
    },
    {
     "name": "stdout",
     "output_type": "stream",
     "text": [
      "Training until validation scores don't improve for 150 rounds\n",
      "Early stopping, best iteration is:\n",
      "[2138]\tvalid_0's auc: 0.959052\tvalid_1's auc: 0.786816\n"
     ]
    },
    {
     "name": "stderr",
     "output_type": "stream",
     "text": [
      "\n",
      "\n",
      "regularization_factors, val_score: 0.787395:  10%|1| 2/20 [13:19<1:16:05, 253.63\u001b[A\u001b[A\n",
      "\n",
      "regularization_factors, val_score: 0.787395:  15%|1| 3/20 [13:19<1:17:42, 274.29\u001b[A\u001b[A\n",
      "\n",
      "regularization_factors, val_score: 0.787395:  15%|1| 3/20 [13:19<1:17:42, 274.29\u001b[A\u001b[A"
     ]
    },
    {
     "name": "stdout",
     "output_type": "stream",
     "text": [
      "Training until validation scores don't improve for 150 rounds\n",
      "Early stopping, best iteration is:\n",
      "[1766]\tvalid_0's auc: 0.979232\tvalid_1's auc: 0.786919\n"
     ]
    },
    {
     "name": "stderr",
     "output_type": "stream",
     "text": [
      "\n",
      "\n",
      "regularization_factors, val_score: 0.787395:  15%|1| 3/20 [17:38<1:17:42, 274.29\u001b[A\u001b[A\n",
      "\n",
      "regularization_factors, val_score: 0.787395:  20%|2| 4/20 [17:38<1:11:32, 268.31\u001b[A\u001b[A\n",
      "\n",
      "regularization_factors, val_score: 0.787395:  20%|2| 4/20 [17:38<1:11:32, 268.31\u001b[A\u001b[A"
     ]
    },
    {
     "name": "stdout",
     "output_type": "stream",
     "text": [
      "Training until validation scores don't improve for 150 rounds\n",
      "Early stopping, best iteration is:\n",
      "[1756]\tvalid_0's auc: 0.983416\tvalid_1's auc: 0.786951\n"
     ]
    },
    {
     "name": "stderr",
     "output_type": "stream",
     "text": [
      "\n",
      "\n",
      "regularization_factors, val_score: 0.787395:  20%|2| 4/20 [21:58<1:11:32, 268.31\u001b[A\u001b[A\n",
      "\n",
      "regularization_factors, val_score: 0.787395:  25%|2| 5/20 [21:58<1:06:18, 265.21\u001b[A\u001b[A\n",
      "\n",
      "regularization_factors, val_score: 0.787395:  25%|2| 5/20 [21:58<1:06:18, 265.21\u001b[A\u001b[A"
     ]
    },
    {
     "name": "stdout",
     "output_type": "stream",
     "text": [
      "Training until validation scores don't improve for 150 rounds\n",
      "Early stopping, best iteration is:\n",
      "[1963]\tvalid_0's auc: 0.993037\tvalid_1's auc: 0.786908\n"
     ]
    },
    {
     "name": "stderr",
     "output_type": "stream",
     "text": [
      "\n",
      "\n",
      "regularization_factors, val_score: 0.787395:  25%|2| 5/20 [26:35<1:06:18, 265.21\u001b[A\u001b[A\n",
      "\n",
      "regularization_factors, val_score: 0.787395:  30%|3| 6/20 [26:35<1:02:48, 269.21\u001b[A\u001b[A\n",
      "\n",
      "regularization_factors, val_score: 0.787395:  30%|3| 6/20 [26:35<1:02:48, 269.21\u001b[A\u001b[A"
     ]
    },
    {
     "name": "stdout",
     "output_type": "stream",
     "text": [
      "Training until validation scores don't improve for 150 rounds\n",
      "Early stopping, best iteration is:\n",
      "[1640]\tvalid_0's auc: 0.987456\tvalid_1's auc: 0.786481\n"
     ]
    },
    {
     "name": "stderr",
     "output_type": "stream",
     "text": [
      "\n",
      "\n",
      "regularization_factors, val_score: 0.787395:  30%|3| 6/20 [30:32<1:02:48, 269.21\u001b[A\u001b[A\n",
      "\n",
      "regularization_factors, val_score: 0.787395:  35%|3| 7/20 [30:32<56:03, 258.71s/\u001b[A\u001b[A\n",
      "\n",
      "regularization_factors, val_score: 0.787395:  35%|3| 7/20 [30:32<56:03, 258.71s/\u001b[A\u001b[A"
     ]
    },
    {
     "name": "stdout",
     "output_type": "stream",
     "text": [
      "Training until validation scores don't improve for 150 rounds\n",
      "Early stopping, best iteration is:\n",
      "[1901]\tvalid_0's auc: 0.988867\tvalid_1's auc: 0.787237\n"
     ]
    },
    {
     "name": "stderr",
     "output_type": "stream",
     "text": [
      "\n",
      "\n",
      "regularization_factors, val_score: 0.787395:  35%|3| 7/20 [35:06<56:03, 258.71s/\u001b[A\u001b[A\n",
      "\n",
      "regularization_factors, val_score: 0.787395:  40%|4| 8/20 [35:06<52:44, 263.68s/\u001b[A\u001b[A\n",
      "\n",
      "regularization_factors, val_score: 0.787395:  40%|4| 8/20 [35:06<52:44, 263.68s/\u001b[A\u001b[A"
     ]
    },
    {
     "name": "stdout",
     "output_type": "stream",
     "text": [
      "Training until validation scores don't improve for 150 rounds\n",
      "Early stopping, best iteration is:\n",
      "[1757]\tvalid_0's auc: 0.970322\tvalid_1's auc: 0.787466\n"
     ]
    },
    {
     "name": "stderr",
     "output_type": "stream",
     "text": [
      "\n",
      "\n",
      "regularization_factors, val_score: 0.787466:  40%|4| 8/20 [39:39<52:44, 263.68s/\u001b[A\u001b[A\n",
      "\n",
      "regularization_factors, val_score: 0.787466:  45%|4| 9/20 [39:39<48:50, 266.38s/\u001b[A\u001b[A\n",
      "\n",
      "regularization_factors, val_score: 0.787466:  45%|4| 9/20 [39:39<48:50, 266.38s/\u001b[A\u001b[A"
     ]
    },
    {
     "name": "stdout",
     "output_type": "stream",
     "text": [
      "Training until validation scores don't improve for 150 rounds\n",
      "Early stopping, best iteration is:\n",
      "[1713]\tvalid_0's auc: 0.975299\tvalid_1's auc: 0.786287\n"
     ]
    },
    {
     "name": "stderr",
     "output_type": "stream",
     "text": [
      "\n",
      "\n",
      "regularization_factors, val_score: 0.787466:  45%|4| 9/20 [43:58<48:50, 266.38s/\u001b[A\u001b[A\n",
      "\n",
      "regularization_factors, val_score: 0.787466:  50%|5| 10/20 [43:58<44:00, 264.06s\u001b[A\u001b[A\n",
      "\n",
      "regularization_factors, val_score: 0.787466:  50%|5| 10/20 [43:58<44:00, 264.06s\u001b[A\u001b[A"
     ]
    },
    {
     "name": "stdout",
     "output_type": "stream",
     "text": [
      "Training until validation scores don't improve for 150 rounds\n",
      "Early stopping, best iteration is:\n",
      "[1701]\tvalid_0's auc: 0.963625\tvalid_1's auc: 0.787234\n"
     ]
    },
    {
     "name": "stderr",
     "output_type": "stream",
     "text": [
      "\n",
      "\n",
      "regularization_factors, val_score: 0.787466:  50%|5| 10/20 [48:25<44:00, 264.06s\u001b[A\u001b[A\n",
      "\n",
      "regularization_factors, val_score: 0.787466:  55%|5| 11/20 [48:25<39:44, 264.93s\u001b[A\u001b[A\n",
      "\n",
      "regularization_factors, val_score: 0.787466:  55%|5| 11/20 [48:25<39:44, 264.93s\u001b[A\u001b[A"
     ]
    },
    {
     "name": "stdout",
     "output_type": "stream",
     "text": [
      "Training until validation scores don't improve for 150 rounds\n",
      "Early stopping, best iteration is:\n",
      "[1619]\tvalid_0's auc: 0.95649\tvalid_1's auc: 0.787214\n"
     ]
    },
    {
     "name": "stderr",
     "output_type": "stream",
     "text": [
      "\n",
      "\n",
      "regularization_factors, val_score: 0.787466:  55%|5| 11/20 [52:42<39:44, 264.93s\u001b[A\u001b[A\n",
      "\n",
      "regularization_factors, val_score: 0.787466:  60%|6| 12/20 [52:42<35:02, 262.76s\u001b[A\u001b[A\n",
      "\n",
      "regularization_factors, val_score: 0.787466:  60%|6| 12/20 [52:42<35:02, 262.76s\u001b[A\u001b[A"
     ]
    },
    {
     "name": "stdout",
     "output_type": "stream",
     "text": [
      "Training until validation scores don't improve for 150 rounds\n",
      "Early stopping, best iteration is:\n",
      "[1588]\tvalid_0's auc: 0.956067\tvalid_1's auc: 0.787154\n"
     ]
    },
    {
     "name": "stderr",
     "output_type": "stream",
     "text": [
      "\n",
      "\n",
      "regularization_factors, val_score: 0.787466:  60%|6| 12/20 [56:56<35:02, 262.76s\u001b[A\u001b[A\n",
      "\n",
      "regularization_factors, val_score: 0.787466:  65%|6| 13/20 [56:56<30:19, 259.95s\u001b[A\u001b[A\n",
      "\n",
      "regularization_factors, val_score: 0.787466:  65%|6| 13/20 [56:56<30:19, 259.95s\u001b[A\u001b[A"
     ]
    },
    {
     "name": "stdout",
     "output_type": "stream",
     "text": [
      "Training until validation scores don't improve for 150 rounds\n",
      "Early stopping, best iteration is:\n",
      "[1526]\tvalid_0's auc: 0.973828\tvalid_1's auc: 0.786992\n"
     ]
    },
    {
     "name": "stderr",
     "output_type": "stream",
     "text": [
      "\n",
      "\n",
      "regularization_factors, val_score: 0.787466:  65%|6| 13/20 [1:00:43<30:19, 259.9\u001b[A\u001b[A\n",
      "\n",
      "regularization_factors, val_score: 0.787466:  70%|7| 14/20 [1:00:43<25:00, 250.1\u001b[A\u001b[A\n",
      "\n",
      "regularization_factors, val_score: 0.787466:  70%|7| 14/20 [1:00:43<25:00, 250.1\u001b[A\u001b[A"
     ]
    },
    {
     "name": "stdout",
     "output_type": "stream",
     "text": [
      "Training until validation scores don't improve for 150 rounds\n",
      "Early stopping, best iteration is:\n",
      "[1940]\tvalid_0's auc: 0.991123\tvalid_1's auc: 0.787021\n"
     ]
    },
    {
     "name": "stderr",
     "output_type": "stream",
     "text": [
      "\n",
      "\n",
      "regularization_factors, val_score: 0.787466:  70%|7| 14/20 [1:05:14<25:00, 250.1\u001b[A\u001b[A\n",
      "\n",
      "regularization_factors, val_score: 0.787466:  75%|7| 15/20 [1:05:14<21:21, 256.3\u001b[A\u001b[A\n",
      "\n",
      "regularization_factors, val_score: 0.787466:  75%|7| 15/20 [1:05:14<21:21, 256.3\u001b[A\u001b[A"
     ]
    },
    {
     "name": "stdout",
     "output_type": "stream",
     "text": [
      "Training until validation scores don't improve for 150 rounds\n",
      "Early stopping, best iteration is:\n",
      "[1593]\tvalid_0's auc: 0.952337\tvalid_1's auc: 0.787177\n"
     ]
    },
    {
     "name": "stderr",
     "output_type": "stream",
     "text": [
      "\n",
      "\n",
      "regularization_factors, val_score: 0.787466:  75%|7| 15/20 [1:09:31<21:21, 256.3\u001b[A\u001b[A\n",
      "\n",
      "regularization_factors, val_score: 0.787466:  80%|8| 16/20 [1:09:31<17:05, 256.4\u001b[A\u001b[A\n",
      "\n",
      "regularization_factors, val_score: 0.787466:  80%|8| 16/20 [1:09:31<17:05, 256.4\u001b[A\u001b[A"
     ]
    },
    {
     "name": "stdout",
     "output_type": "stream",
     "text": [
      "Training until validation scores don't improve for 150 rounds\n",
      "Early stopping, best iteration is:\n",
      "[1937]\tvalid_0's auc: 0.991626\tvalid_1's auc: 0.787201\n"
     ]
    },
    {
     "name": "stderr",
     "output_type": "stream",
     "text": [
      "\n",
      "\n",
      "regularization_factors, val_score: 0.787466:  80%|8| 16/20 [1:14:00<17:05, 256.4\u001b[A\u001b[A\n",
      "\n",
      "regularization_factors, val_score: 0.787466:  85%|8| 17/20 [1:14:00<13:00, 260.2\u001b[A\u001b[A\n",
      "\n",
      "regularization_factors, val_score: 0.787466:  85%|8| 17/20 [1:14:00<13:00, 260.2\u001b[A\u001b[A"
     ]
    },
    {
     "name": "stdout",
     "output_type": "stream",
     "text": [
      "Training until validation scores don't improve for 150 rounds\n",
      "Early stopping, best iteration is:\n",
      "[2098]\tvalid_0's auc: 0.993781\tvalid_1's auc: 0.78746\n"
     ]
    },
    {
     "name": "stderr",
     "output_type": "stream",
     "text": [
      "\n",
      "\n",
      "regularization_factors, val_score: 0.787466:  85%|8| 17/20 [1:18:46<13:00, 260.2\u001b[A\u001b[A\n",
      "\n",
      "regularization_factors, val_score: 0.787466:  90%|9| 18/20 [1:18:46<08:56, 268.1\u001b[A\u001b[A\n",
      "\n",
      "regularization_factors, val_score: 0.787466:  90%|9| 18/20 [1:18:46<08:56, 268.1\u001b[A\u001b[A"
     ]
    },
    {
     "name": "stdout",
     "output_type": "stream",
     "text": [
      "Training until validation scores don't improve for 150 rounds\n",
      "Early stopping, best iteration is:\n",
      "[1770]\tvalid_0's auc: 0.98919\tvalid_1's auc: 0.786795\n"
     ]
    },
    {
     "name": "stderr",
     "output_type": "stream",
     "text": [
      "\n",
      "\n",
      "regularization_factors, val_score: 0.787466:  90%|9| 18/20 [1:22:53<08:56, 268.1\u001b[A\u001b[A\n",
      "\n",
      "regularization_factors, val_score: 0.787466:  95%|9| 19/20 [1:22:53<04:21, 261.6\u001b[A\u001b[A\n",
      "\n",
      "regularization_factors, val_score: 0.787466:  95%|9| 19/20 [1:22:53<04:21, 261.6\u001b[A\u001b[A"
     ]
    },
    {
     "name": "stdout",
     "output_type": "stream",
     "text": [
      "Training until validation scores don't improve for 150 rounds\n",
      "Early stopping, best iteration is:\n",
      "[1632]\tvalid_0's auc: 0.986859\tvalid_1's auc: 0.786797\n"
     ]
    },
    {
     "name": "stderr",
     "output_type": "stream",
     "text": [
      "\n",
      "\n",
      "regularization_factors, val_score: 0.787466:  95%|9| 19/20 [1:26:42<04:21, 261.6\u001b[A\u001b[A\n",
      "\n",
      "regularization_factors, val_score: 0.787466: 100%|#| 20/20 [1:26:42<00:00, 260.1\u001b[A\u001b[A\n",
      "\n",
      "\n",
      "  0%|                                                     | 0/5 [00:00<?, ?it/s]\u001b[A\u001b[A\n",
      "\n",
      "min_data_in_leaf, val_score: 0.787466:   0%|              | 0/5 [00:00<?, ?it/s]\u001b[A\u001b[A"
     ]
    },
    {
     "name": "stdout",
     "output_type": "stream",
     "text": [
      "Training until validation scores don't improve for 150 rounds\n",
      "Early stopping, best iteration is:\n",
      "[1708]\tvalid_0's auc: 0.968475\tvalid_1's auc: 0.787394\n"
     ]
    },
    {
     "name": "stderr",
     "output_type": "stream",
     "text": [
      "\n",
      "\n",
      "min_data_in_leaf, val_score: 0.787466:   0%|              | 0/5 [04:31<?, ?it/s]\u001b[A\u001b[A\n",
      "\n",
      "min_data_in_leaf, val_score: 0.787466:  20%|#    | 1/5 [04:31<18:05, 271.49s/it]\u001b[A\u001b[A\n",
      "\n",
      "min_data_in_leaf, val_score: 0.787466:  20%|#    | 1/5 [04:31<18:05, 271.49s/it]\u001b[A\u001b[A"
     ]
    },
    {
     "name": "stdout",
     "output_type": "stream",
     "text": [
      "Training until validation scores don't improve for 150 rounds\n",
      "Early stopping, best iteration is:\n",
      "[1773]\tvalid_0's auc: 0.970841\tvalid_1's auc: 0.787844\n"
     ]
    },
    {
     "name": "stderr",
     "output_type": "stream",
     "text": [
      "\n",
      "\n",
      "min_data_in_leaf, val_score: 0.787844:  20%|#    | 1/5 [09:08<18:05, 271.49s/it]\u001b[A\u001b[A\n",
      "\n",
      "min_data_in_leaf, val_score: 0.787844:  40%|##   | 2/5 [09:08<13:44, 274.95s/it]\u001b[A\u001b[A\n",
      "\n",
      "min_data_in_leaf, val_score: 0.787844:  40%|##   | 2/5 [09:08<13:44, 274.95s/it]\u001b[A\u001b[A"
     ]
    },
    {
     "name": "stdout",
     "output_type": "stream",
     "text": [
      "Training until validation scores don't improve for 150 rounds\n",
      "Early stopping, best iteration is:\n",
      "[1708]\tvalid_0's auc: 0.968219\tvalid_1's auc: 0.787461\n"
     ]
    },
    {
     "name": "stderr",
     "output_type": "stream",
     "text": [
      "\n",
      "\n",
      "min_data_in_leaf, val_score: 0.787844:  40%|##   | 2/5 [13:45<13:44, 274.95s/it]\u001b[A\u001b[A\n",
      "\n",
      "min_data_in_leaf, val_score: 0.787844:  60%|###  | 3/5 [13:45<09:11, 275.62s/it]\u001b[A\u001b[A\n",
      "\n",
      "min_data_in_leaf, val_score: 0.787844:  60%|###  | 3/5 [13:45<09:11, 275.62s/it]\u001b[A\u001b[A"
     ]
    },
    {
     "name": "stdout",
     "output_type": "stream",
     "text": [
      "Training until validation scores don't improve for 150 rounds\n",
      "Early stopping, best iteration is:\n",
      "[1660]\tvalid_0's auc: 0.965574\tvalid_1's auc: 0.788016\n"
     ]
    },
    {
     "name": "stderr",
     "output_type": "stream",
     "text": [
      "\n",
      "\n",
      "min_data_in_leaf, val_score: 0.788016:  60%|###  | 3/5 [18:06<09:11, 275.62s/it]\u001b[A\u001b[A\n",
      "\n",
      "min_data_in_leaf, val_score: 0.788016:  80%|#### | 4/5 [18:06<04:29, 269.81s/it]\u001b[A\u001b[A\n",
      "\n",
      "min_data_in_leaf, val_score: 0.788016:  80%|#### | 4/5 [18:06<04:29, 269.81s/it]\u001b[A\u001b[A"
     ]
    },
    {
     "name": "stdout",
     "output_type": "stream",
     "text": [
      "Training until validation scores don't improve for 150 rounds\n",
      "Early stopping, best iteration is:\n",
      "[1559]\tvalid_0's auc: 0.961629\tvalid_1's auc: 0.787445\n"
     ]
    },
    {
     "name": "stderr",
     "output_type": "stream",
     "text": [
      "\n",
      "\n",
      "min_data_in_leaf, val_score: 0.788016:  80%|#### | 4/5 [22:17<04:29, 269.81s/it]\u001b[A\u001b[A\n",
      "\n",
      "min_data_in_leaf, val_score: 0.788016: 100%|#####| 5/5 [22:17<00:00, 267.43s/it]\u001b[A\u001b[A\n"
     ]
    },
    {
     "name": "stdout",
     "output_type": "stream",
     "text": [
      "Best params: {'objective': 'binary', 'metric': 'auc', 'verbosity': -1, 'boosting_type': 'gbdt', 'learning_rate': 0.005603627873630697, 'feature_pre_filter': False, 'lambda_l1': 3.201016964067897e-07, 'lambda_l2': 4.0276123590778266, 'num_leaves': 200, 'feature_fraction': 0.48000000000000004, 'bagging_fraction': 0.8100007780166677, 'bagging_freq': 3, 'min_child_samples': 100, 'num_iterations': 5926}\n",
      "CPU times: user 17h 26min 4s, sys: 1h 42min 10s, total: 19h 8min 15s\n",
      "Wall time: 4h 17min 13s\n"
     ]
    }
   ],
   "source": [
    "%%time\n",
    "dtrain = lgbm.Dataset(train[optuna_features], label=train[target_column])\n",
    "dval = lgb.Dataset(test[optuna_features], label=test[target_column])\n",
    "\n",
    "params = {\n",
    "    \"objective\": \"binary\",\n",
    "    \"metric\": \"auc\",\n",
    "    \"verbosity\": -1,\n",
    "    \"boosting_type\": \"gbdt\",\n",
    "    \"n_estimators\":5926,\n",
    "    \"learning_rate\": 0.005603627873630697\n",
    "}\n",
    "\n",
    "bst = lgb.train(\n",
    "    params,\n",
    "    dtrain,\n",
    "    valid_sets=[dtrain, dval],\n",
    "    callbacks=[early_stopping(150)],\n",
    "    show_progress_bar = True\n",
    ")\n",
    "\n",
    "preds = bst.predict(test[optuna_features],num_iteration=bst.best_iteration)\n",
    "score = roc_auc_score(test[target_column], preds)\n",
    "\n",
    "optuna_features_best_params = bst.params\n",
    "print(\"Best params:\", optuna_features_best_params)\n",
    "\n"
   ]
  },
  {
   "cell_type": "code",
   "execution_count": 18,
   "id": "fd02d050-e459-4a28-a70b-19986a3210f6",
   "metadata": {},
   "outputs": [
    {
     "data": {
      "text/plain": [
       "{'objective': 'binary',\n",
       " 'metric': 'auc',\n",
       " 'verbosity': -1,\n",
       " 'boosting_type': 'gbdt',\n",
       " 'learning_rate': 0.005603627873630697,\n",
       " 'feature_pre_filter': False,\n",
       " 'lambda_l1': 3.201016964067897e-07,\n",
       " 'lambda_l2': 4.0276123590778266,\n",
       " 'num_leaves': 200,\n",
       " 'feature_fraction': 0.48000000000000004,\n",
       " 'bagging_fraction': 0.8100007780166677,\n",
       " 'bagging_freq': 3,\n",
       " 'min_child_samples': 100,\n",
       " 'num_iterations': 5926}"
      ]
     },
     "execution_count": 18,
     "metadata": {},
     "output_type": "execute_result"
    }
   ],
   "source": [
    "optuna_features_best_params"
   ]
  },
  {
   "cell_type": "markdown",
   "id": "f75a68bb-0461-499d-ad54-1257fd25183c",
   "metadata": {},
   "source": [
    "### Model training"
   ]
  },
  {
   "cell_type": "code",
   "execution_count": 3,
   "id": "5ea2cfda-e20a-4315-acb4-385c178ad26e",
   "metadata": {},
   "outputs": [
    {
     "name": "stderr",
     "output_type": "stream",
     "text": [
      "2023-09-27T17:10:14 | INFO | Starting pipeline: Generating 3 k-fold training...\n",
      "2023-09-27T17:10:14 | INFO | Training for fold 1\n",
      "2023-09-27T17:18:11 | INFO | Training for fold 2\n",
      "2023-09-27T17:26:08 | INFO | Training for fold 3\n",
      "2023-09-27T17:34:12 | INFO | CV training finished!\n",
      "2023-09-27T17:34:12 | INFO | Training the model in the full dataset...\n",
      "2023-09-27T17:43:44 | INFO | Training process finished!\n",
      "2023-09-27T17:43:44 | INFO | Calculating metrics...\n",
      "2023-09-27T17:43:44 | INFO | Full process finished in 33.52 minutes.\n",
      "2023-09-27T17:43:44 | INFO | Saving the predict function.\n",
      "2023-09-27T17:43:44 | INFO | Predict function saved.\n"
     ]
    }
   ],
   "source": [
    "save_estimator_path = \"../model_files/fw_learner.pkl\"\n",
    "fw_logs = model_pipeline(train_df = train_df,\n",
    "                            validation_df = validation_df,\n",
    "                            params = params_fw,\n",
    "                            target_column = target_column,\n",
    "                            features = fw_features,\n",
    "                            cv = 3,\n",
    "                            random_state = 42,\n",
    "                            apply_shap = False,\n",
    "                            save_estimator_path=None\n",
    "                          )\n",
    "with open(save_estimator_path, \"wb\") as context:\n",
    "    cp.dump(fw_logs[\"lgbm_classification_learner\"], context)"
   ]
  },
  {
   "cell_type": "code",
   "execution_count": 4,
   "id": "a52e7469-7bf1-46e7-8a73-1c05096ec957",
   "metadata": {},
   "outputs": [],
   "source": [
    "fw_logs[\"data\"][\"oof_df\"].to_pickle(\"../data/fw_oof_df.pkl\")"
   ]
  },
  {
   "cell_type": "code",
   "execution_count": 5,
   "id": "733980d6-c8f7-45bc-95d7-469f9c3c9369",
   "metadata": {},
   "outputs": [
    {
     "name": "stderr",
     "output_type": "stream",
     "text": [
      "2023-09-27T17:43:49 | INFO | Starting pipeline: Generating 3 k-fold training...\n",
      "2023-09-27T17:43:49 | INFO | Training for fold 1\n",
      "2023-09-27T17:56:19 | INFO | Training for fold 2\n",
      "2023-09-27T18:08:53 | INFO | Training for fold 3\n",
      "2023-09-27T18:21:37 | INFO | CV training finished!\n",
      "2023-09-27T18:21:37 | INFO | Training the model in the full dataset...\n",
      "2023-09-27T18:36:31 | INFO | Training process finished!\n",
      "2023-09-27T18:36:31 | INFO | Calculating metrics...\n",
      "2023-09-27T18:36:31 | INFO | Full process finished in 52.75 minutes.\n",
      "2023-09-27T18:36:31 | INFO | Saving the predict function.\n",
      "2023-09-27T18:36:31 | INFO | Predict function saved.\n"
     ]
    }
   ],
   "source": [
    "save_estimator_path = \"../model_files/optuna_learner.pkl\"\n",
    "optuna_logs = model_pipeline(train_df = train_df,\n",
    "                            validation_df = validation_df,\n",
    "                            params = params_optuna,\n",
    "                            target_column = target_column,\n",
    "                            features = optuna_features,\n",
    "                            cv = 3,\n",
    "                            random_state = 42,\n",
    "                            apply_shap = False,\n",
    "                            save_estimator_path=None\n",
    "                          )\n",
    "with open(save_estimator_path, \"wb\") as context:\n",
    "    cp.dump(optuna_logs[\"lgbm_classification_learner\"], context)"
   ]
  },
  {
   "cell_type": "code",
   "execution_count": 6,
   "id": "8f9684cc-be0a-4ee4-95d6-394a789a254c",
   "metadata": {},
   "outputs": [],
   "source": [
    "optuna_logs[\"data\"][\"oof_df\"].to_pickle(\"../data/optuna_oof_df.pkl\")"
   ]
  },
  {
   "cell_type": "code",
   "execution_count": 7,
   "id": "c3e6a7b4-d53c-4b37-9559-e90ecd2e13af",
   "metadata": {},
   "outputs": [
    {
     "name": "stderr",
     "output_type": "stream",
     "text": [
      "2023-09-27T18:36:38 | INFO | Starting pipeline: Generating 3 k-fold training...\n",
      "2023-09-27T18:36:39 | INFO | Training for fold 1\n",
      "2023-09-27T18:40:12 | INFO | Training for fold 2\n",
      "2023-09-27T18:43:54 | INFO | Training for fold 3\n",
      "2023-09-27T18:47:45 | INFO | CV training finished!\n",
      "2023-09-27T18:47:45 | INFO | Training the model in the full dataset...\n",
      "2023-09-27T18:52:51 | INFO | Training process finished!\n",
      "2023-09-27T18:52:51 | INFO | Calculating metrics...\n",
      "2023-09-27T18:52:52 | INFO | Full process finished in 16.26 minutes.\n",
      "2023-09-27T18:52:52 | INFO | Saving the predict function.\n",
      "2023-09-27T18:52:52 | INFO | Predict function saved.\n"
     ]
    }
   ],
   "source": [
    "save_estimator_path = \"../model_files/ensemble_learner.pkl\"\n",
    "ensemble_logs = model_pipeline(train_df = train_df,\n",
    "                            validation_df = validation_df,\n",
    "                            params = test_params,\n",
    "                            target_column = target_column,\n",
    "                            features = ensemble_features,\n",
    "                            cv = 3,\n",
    "                            random_state = 42,\n",
    "                            apply_shap = False,\n",
    "                            save_estimator_path=None\n",
    "                          )\n",
    "with open(save_estimator_path, \"wb\") as context:\n",
    "    cp.dump(ensemble_logs[\"lgbm_classification_learner\"], context)"
   ]
  },
  {
   "cell_type": "code",
   "execution_count": 8,
   "id": "825fd566-cc65-41c5-84fb-09e77c47b06f",
   "metadata": {},
   "outputs": [],
   "source": [
    "ensemble_logs[\"data\"][\"oof_df\"].to_pickle(\"../data/ensemble_oof_df.pkl\")"
   ]
  },
  {
   "cell_type": "code",
   "execution_count": 9,
   "id": "84ffbc5e-fe68-477a-a6a5-d5abf8695066",
   "metadata": {},
   "outputs": [
    {
     "name": "stderr",
     "output_type": "stream",
     "text": [
      "2023-09-27T18:52:56 | INFO | Starting pipeline: Generating 3 k-fold training...\n",
      "2023-09-27T18:52:57 | INFO | Training for fold 1\n",
      "2023-09-27T19:14:48 | INFO | Training for fold 2\n",
      "2023-09-27T19:36:57 | INFO | Training for fold 3\n",
      "2023-09-27T20:00:35 | INFO | CV training finished!\n",
      "2023-09-27T20:00:35 | INFO | Training the model in the full dataset...\n",
      "2023-09-27T20:29:24 | INFO | Training process finished!\n",
      "2023-09-27T20:29:24 | INFO | Calculating metrics...\n",
      "2023-09-27T20:29:24 | INFO | Full process finished in 96.49 minutes.\n",
      "2023-09-27T20:29:24 | INFO | Saving the predict function.\n",
      "2023-09-27T20:29:25 | INFO | Predict function saved.\n"
     ]
    }
   ],
   "source": [
    "save_estimator_path = \"../model_files/all_learner.pkl\"\n",
    "all_logs = model_pipeline(train_df = train_df,\n",
    "                            validation_df = validation_df,\n",
    "                            params = params_all,\n",
    "                            target_column = target_column,\n",
    "                            features = all_features_list,\n",
    "                            cv = 3,\n",
    "                            random_state = 42,\n",
    "                            apply_shap = False,\n",
    "                            save_estimator_path=None\n",
    "                          )\n",
    "with open(save_estimator_path, \"wb\") as context:\n",
    "    cp.dump(all_logs[\"lgbm_classification_learner\"], context)"
   ]
  },
  {
   "cell_type": "code",
   "execution_count": 10,
   "id": "3a1d913a-57cb-478e-b2c5-009a738d4486",
   "metadata": {},
   "outputs": [],
   "source": [
    "all_logs[\"data\"][\"oof_df\"].to_pickle(\"../data/all_oof_df.pkl\")"
   ]
  },
  {
   "cell_type": "code",
   "execution_count": 11,
   "id": "f8f4b1d5-12a6-4298-9755-d670b0067dba",
   "metadata": {},
   "outputs": [
    {
     "name": "stderr",
     "output_type": "stream",
     "text": [
      "2023-09-27T20:29:30 | INFO | Starting pipeline: Generating 3 k-fold training...\n",
      "2023-09-27T20:29:30 | INFO | Training for fold 1\n",
      "2023-09-27T20:33:38 | INFO | Training for fold 2\n",
      "2023-09-27T20:37:34 | INFO | Training for fold 3\n",
      "2023-09-27T20:41:32 | INFO | CV training finished!\n",
      "2023-09-27T20:41:32 | INFO | Training the model in the full dataset...\n",
      "2023-09-27T20:46:36 | INFO | Training process finished!\n",
      "2023-09-27T20:46:36 | INFO | Calculating metrics...\n",
      "2023-09-27T20:46:36 | INFO | Full process finished in 17.12 minutes.\n",
      "2023-09-27T20:46:36 | INFO | Saving the predict function.\n",
      "2023-09-27T20:46:36 | INFO | Predict function saved.\n"
     ]
    }
   ],
   "source": [
    "save_estimator_path = \"../model_files/boruta_learner.pkl\"\n",
    "boruta_logs = model_pipeline(train_df = train_df,\n",
    "                            validation_df = validation_df,\n",
    "                            params = MODEL_PARAMS,\n",
    "                            target_column = target_column,\n",
    "                            features = boruta_features,\n",
    "                            cv = 3,\n",
    "                            random_state = 42,\n",
    "                            apply_shap = False,\n",
    "                            save_estimator_path=None\n",
    "                          )\n",
    "with open(save_estimator_path, \"wb\") as context:\n",
    "    cp.dump(boruta_logs[\"lgbm_classification_learner\"], context)"
   ]
  },
  {
   "cell_type": "code",
   "execution_count": 12,
   "id": "b569c767-3175-43a8-8558-bc330333fe50",
   "metadata": {},
   "outputs": [],
   "source": [
    "boruta_logs[\"data\"][\"oof_df\"].to_pickle(\"../data/boruta_oof_df.pkl\")"
   ]
  },
  {
   "cell_type": "markdown",
   "id": "4a36d36a-5ae6-467f-9484-273689965782",
   "metadata": {},
   "source": [
    "### Model evaluation"
   ]
  },
  {
   "cell_type": "code",
   "execution_count": 17,
   "id": "1ba244fb-4f22-4d4d-81f1-767e8d63acd4",
   "metadata": {},
   "outputs": [
    {
     "data": {
      "text/html": [
       "<div>\n",
       "<style scoped>\n",
       "    .dataframe tbody tr th:only-of-type {\n",
       "        vertical-align: middle;\n",
       "    }\n",
       "\n",
       "    .dataframe tbody tr th {\n",
       "        vertical-align: top;\n",
       "    }\n",
       "\n",
       "    .dataframe thead th {\n",
       "        text-align: right;\n",
       "    }\n",
       "</style>\n",
       "<table border=\"1\" class=\"dataframe\">\n",
       "  <thead>\n",
       "    <tr style=\"text-align: right;\">\n",
       "      <th></th>\n",
       "      <th>out_of_fold</th>\n",
       "      <th>validation</th>\n",
       "    </tr>\n",
       "  </thead>\n",
       "  <tbody>\n",
       "    <tr>\n",
       "      <th>boruta [426]</th>\n",
       "      <td>0.795680</td>\n",
       "      <td>0.800874</td>\n",
       "    </tr>\n",
       "    <tr>\n",
       "      <th>ensemble [820]</th>\n",
       "      <td>0.792880</td>\n",
       "      <td>0.799627</td>\n",
       "    </tr>\n",
       "    <tr>\n",
       "      <th>fw [329]</th>\n",
       "      <td>0.792839</td>\n",
       "      <td>0.799425</td>\n",
       "    </tr>\n",
       "    <tr>\n",
       "      <th>all features [1147]</th>\n",
       "      <td>0.791760</td>\n",
       "      <td>0.799144</td>\n",
       "    </tr>\n",
       "    <tr>\n",
       "      <th>optuna [555]</th>\n",
       "      <td>0.788259</td>\n",
       "      <td>0.795938</td>\n",
       "    </tr>\n",
       "  </tbody>\n",
       "</table>\n",
       "</div>"
      ],
      "text/plain": [
       "                     out_of_fold  validation\n",
       "boruta [426]            0.795680    0.800874\n",
       "ensemble [820]          0.792880    0.799627\n",
       "fw [329]                0.792839    0.799425\n",
       "all features [1147]     0.791760    0.799144\n",
       "optuna [555]            0.788259    0.795938"
      ]
     },
     "execution_count": 17,
     "metadata": {},
     "output_type": "execute_result"
    }
   ],
   "source": [
    "model_metrics  ={}\n",
    "models = [all_logs, fw_logs, boruta_logs, optuna_logs, ensemble_logs]\n",
    "names = [\"all features\", \"fw\", \"boruta\", \"optuna\", \"ensemble\"]\n",
    "sizes = [len(all_features_list), len(fw_features), len(boruta_features), len(optuna_features), len(ensemble_features)]\n",
    "\n",
    "for model, name, size in zip(models, names, sizes):\n",
    "    model_metrics[f\"{name} [{size}]\"] = model[\"metrics\"][\"roc_auc\"]\n",
    "pd.DataFrame(model_metrics).T.sort_values(by = \"validation\", ascending = False)"
   ]
  },
  {
   "cell_type": "code",
   "execution_count": null,
   "id": "0c121695-7d55-41f5-abfa-73425c3d3c22",
   "metadata": {},
   "outputs": [],
   "source": []
  }
 ],
 "metadata": {
  "kernelspec": {
   "display_name": "Python 3 (ipykernel)",
   "language": "python",
   "name": "python3"
  },
  "language_info": {
   "codemirror_mode": {
    "name": "ipython",
    "version": 3
   },
   "file_extension": ".py",
   "mimetype": "text/x-python",
   "name": "python",
   "nbconvert_exporter": "python",
   "pygments_lexer": "ipython3",
   "version": "3.9.16"
  }
 },
 "nbformat": 4,
 "nbformat_minor": 5
}
